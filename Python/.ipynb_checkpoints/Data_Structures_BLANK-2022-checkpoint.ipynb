{
 "cells": [
  {
   "cell_type": "markdown",
   "metadata": {},
   "source": [
    "# Data Structures\n",
    "* data structures are different ways of storing a data set\n",
    "  *\n",
    "  *\n",
    "  *\n",
    "\n",
    "\n",
    "* three data structures in this notebook:\n",
    "  *\n",
    "  *\n",
    "  *"
   ]
  },
  {
   "cell_type": "markdown",
   "metadata": {},
   "source": [
    "## Lists (ordered collection) [ ]"
   ]
  },
  {
   "cell_type": "code",
   "execution_count": null,
   "metadata": {},
   "outputs": [
    {
     "name": "stdout",
     "output_type": "stream",
     "text": [
      "['red', 'orange', 'yellow']\n"
     ]
    }
   ],
   "source": [
    "# Create a list of colors\n",
    "# Similar to arrays from JavaScript\n",
    "array=[\"red\",\"orange\",\"yellow\"]\n",
    "print(array)"
   ]
  },
  {
   "cell_type": "code",
   "execution_count": null,
   "metadata": {},
   "outputs": [
    {
     "name": "stdout",
     "output_type": "stream",
     "text": [
      "['red', 'orange', 'yellow', 'green']\n"
     ]
    }
   ],
   "source": [
    "# Add a single element to the list  \n",
    "# (using the 'append' method for the 'list' class)\n",
    "array.append(\"green\")\n",
    "print(array)"
   ]
  },
  {
   "cell_type": "code",
   "execution_count": null,
   "metadata": {},
   "outputs": [
    {
     "name": "stdout",
     "output_type": "stream",
     "text": [
      "['red', 'orange', 'yellow', 'green', 'blue', 'indigo']\n"
     ]
    }
   ],
   "source": [
    "# Add multiple elements to the list\n",
    "# (using the 'extend' method for lists):\n",
    "array.extend([\"blue\",\"indigo\"])\n",
    "print(array)"
   ]
  },
  {
   "cell_type": "code",
   "execution_count": null,
   "metadata": {},
   "outputs": [
    {
     "name": "stdout",
     "output_type": "stream",
     "text": [
      "6\n"
     ]
    }
   ],
   "source": [
    "# Get the length of the list:\n",
    "print(len(array))"
   ]
  },
  {
   "cell_type": "code",
   "execution_count": null,
   "metadata": {},
   "outputs": [
    {
     "name": "stdout",
     "output_type": "stream",
     "text": [
      "red\n",
      "orange\n",
      "yellow\n",
      "green\n",
      "blue\n",
      "indigo\n"
     ]
    }
   ],
   "source": [
    "# loop over the list:\n",
    "for i in (array):\n",
    "    print(i)"
   ]
  },
  {
   "cell_type": "markdown",
   "metadata": {},
   "source": [
    "## Searching\n",
    "* Sytax\n",
    "    * \"item\" in \"list\"\n",
    "    * Search for this \"item\" in this \"list\"\n",
    "* Examines list one-by-one (linear)\n",
    "* Typically slow for long lists"
   ]
  },
  {
   "cell_type": "code",
   "execution_count": null,
   "metadata": {},
   "outputs": [
    {
     "name": "stdout",
     "output_type": "stream",
     "text": [
      "True\n",
      "False\n"
     ]
    }
   ],
   "source": [
    "is_yellow=\"yellow\" in array\n",
    "is_violet=\"violet\" in array\n",
    "\n",
    "print(is_yellow)\n",
    "print(is_violet)"
   ]
  },
  {
   "cell_type": "markdown",
   "metadata": {},
   "source": [
    "### Slicing Lists\n",
    "  * Syntax for slicing a list named \"myList\" - myList[start, end, skip]\n",
    "    * default value for start is 0 (inclusive)\n",
    "    * default value for end is myList.length (exclusive)\n",
    "    * skip is how many elements to jump by\n",
    "      * print(myList[::2]) would print every other value from beginning to end\n",
    "      * print(myList[::-1]) would print all values backwards from end to beginning"
   ]
  },
  {
   "cell_type": "code",
   "execution_count": null,
   "metadata": {},
   "outputs": [
    {
     "name": "stdout",
     "output_type": "stream",
     "text": [
      "['red', 'yellow', 'blue']\n"
     ]
    }
   ],
   "source": [
    "print(array[::2])"
   ]
  },
  {
   "cell_type": "code",
   "execution_count": null,
   "metadata": {},
   "outputs": [
    {
     "name": "stdout",
     "output_type": "stream",
     "text": [
      "blue\n"
     ]
    }
   ],
   "source": [
    "# Print the element indexed at -2\n",
    "print(array[-2])"
   ]
  },
  {
   "cell_type": "code",
   "execution_count": null,
   "metadata": {},
   "outputs": [
    {
     "name": "stdout",
     "output_type": "stream",
     "text": [
      "['red', 'orange']\n"
     ]
    }
   ],
   "source": [
    "# Print the elements from index 0 (inclusive) to the index 2 (exclusive)\n",
    "print(array[0:2])"
   ]
  },
  {
   "cell_type": "code",
   "execution_count": null,
   "metadata": {},
   "outputs": [
    {
     "name": "stdout",
     "output_type": "stream",
     "text": [
      "['green', 'blue', 'indigo']\n"
     ]
    }
   ],
   "source": [
    "# Print the elements from index 3 (inclusive) to the end of the list\n",
    "print(array[3::])"
   ]
  },
  {
   "cell_type": "code",
   "execution_count": null,
   "metadata": {},
   "outputs": [
    {
     "name": "stdout",
     "output_type": "stream",
     "text": [
      "['orange', 'yellow', 'green']\n"
     ]
    }
   ],
   "source": [
    "# Print the elements from index 1 (inclusive) to index 4 (exclusive)\n",
    "print(array[1:4])"
   ]
  },
  {
   "cell_type": "code",
   "execution_count": 38,
   "metadata": {},
   "outputs": [
    {
     "name": "stdout",
     "output_type": "stream",
     "text": [
      "['indigo', 'blue', 'green', 'yellow', 'orange', 'red']\n"
     ]
    }
   ],
   "source": [
    "# Print the list backwards\n",
    "print(array[::-1])"
   ]
  },
  {
   "cell_type": "code",
   "execution_count": 39,
   "metadata": {},
   "outputs": [
    {
     "ename": "SyntaxError",
     "evalue": "invalid syntax (<ipython-input-39-5b6c7c8a8c10>, line 2)",
     "output_type": "error",
     "traceback": [
      "\u001b[1;36m  File \u001b[1;32m\"<ipython-input-39-5b6c7c8a8c10>\"\u001b[1;36m, line \u001b[1;32m2\u001b[0m\n\u001b[1;33m    (type(array)\u001b[0m\n\u001b[1;37m                ^\u001b[0m\n\u001b[1;31mSyntaxError\u001b[0m\u001b[1;31m:\u001b[0m invalid syntax\n"
     ]
    }
   ],
   "source": [
    "# Check the data type\n",
    "(type(array)"
   ]
  },
  {
   "cell_type": "code",
   "execution_count": null,
   "metadata": {},
   "outputs": [
    {
     "name": "stdout",
     "output_type": "stream",
     "text": [
      "dark and stormy night\n"
     ]
    }
   ],
   "source": [
    "# Slicing also works on Strings\n",
    "sentence = \"It was a dark and stormy night.\"\n",
    "\n",
    "# Slice out \"dark and stormy night\"\n",
    "portion=sentence[9:-1]\n",
    "print(portion)"
   ]
  },
  {
   "cell_type": "code",
   "execution_count": null,
   "metadata": {},
   "outputs": [
    {
     "name": "stdout",
     "output_type": "stream",
     "text": [
      "ELIZABETH\n"
     ]
    }
   ],
   "source": [
    "# Reveal the secret message in an Acrostic \n",
    "    # Hint: Look at the first letter of each line\n",
    "\n",
    "# An Acrostic by Edgar Allan Poe\n",
    "acrostic = \"\"\"Elizabeth it is in vain you say\n",
    "Love not — thou sayest it in so sweet a way:\n",
    "In vain those words from thee or L.E.L.\n",
    "Zantippe’s talents had enforced so well:\n",
    "Ah! if that language from thy heart arise,\n",
    "Breath it less gently forth — and veil thine eyes.\n",
    "Endymion, recollect, when Luna tried\n",
    "To cure his love — was cured of all beside —\n",
    "His follie — pride — and passion — for he died.\"\"\"\n",
    "\n",
    "secret_message = \"\"                # acrostic = [\"Elizabeth it is in vain you say\",\n",
    "acrostic = acrostic.split('\\n')    #             \"Love not — thou sayest it in so sweet a way:\",\n",
    "for line in acrostic:              #             \"In vain those words from thee or L.E.L.\",\n",
    "    secret_message += line[0]      #             \"Zantippe’s talents had enforced so well:\",\n",
    "                                   #              ... ] \n",
    "print(secret_message)"
   ]
  },
  {
   "cell_type": "markdown",
   "metadata": {},
   "source": [
    "## Tuples( )\n",
    "* Use ( ) or nothing, but stay consistent\n",
    "    * (a,b)   <=>   a,b\n",
    "* Similar to lists, but cannot modify them"
   ]
  },
  {
   "cell_type": "code",
   "execution_count": null,
   "metadata": {},
   "outputs": [
    {
     "name": "stdout",
     "output_type": "stream",
     "text": [
      "50\n",
      "90\n"
     ]
    }
   ],
   "source": [
    "# Use tuples for storing/assigning multiple values in the same line\n",
    "a,b = 50, 90\n",
    "\n",
    "print(a)\n",
    "print(b)"
   ]
  },
  {
   "cell_type": "code",
   "execution_count": null,
   "metadata": {},
   "outputs": [
    {
     "name": "stdout",
     "output_type": "stream",
     "text": [
      "red\n",
      "balloon\n"
     ]
    }
   ],
   "source": [
    "# How to swap elements in Python\n",
    "# Start with variables x and y\n",
    "x, y = \"red\", \"balloon\"\n",
    "print(x)\n",
    "print(y)"
   ]
  },
  {
   "cell_type": "code",
   "execution_count": null,
   "metadata": {},
   "outputs": [
    {
     "name": "stdout",
     "output_type": "stream",
     "text": [
      "balloon\n",
      "red\n"
     ]
    }
   ],
   "source": [
    "# Swap using tuples\n",
    "x, y = y, x\n",
    "print(x)\n",
    "print(y)\n",
    "\n",
    "# In other languages, this would take 3 lines of code and a temporary variable:\n",
    "    # temp = x\n",
    "    # x = y\n",
    "    # y = temp"
   ]
  },
  {
   "cell_type": "code",
   "execution_count": null,
   "metadata": {},
   "outputs": [
    {
     "name": "stdout",
     "output_type": "stream",
     "text": [
      "(11, 28)\n"
     ]
    }
   ],
   "source": [
    "# Define a function that takes two numbers as parameters, and returns the tuple (sum,product) \n",
    "def sumProduct(x, y):\n",
    "    return x + y, x*y\n",
    "sp = sumProduct(4, 7)\n",
    "print(sp)"
   ]
  },
  {
   "cell_type": "code",
   "execution_count": null,
   "metadata": {},
   "outputs": [
    {
     "data": {
      "text/plain": [
       "tuple"
      ]
     },
     "execution_count": 30,
     "metadata": {},
     "output_type": "execute_result"
    }
   ],
   "source": [
    "# If you don't know what type of data you are working with, just check!\n",
    "type(sp)"
   ]
  },
  {
   "cell_type": "code",
   "execution_count": null,
   "metadata": {},
   "outputs": [
    {
     "name": "stdout",
     "output_type": "stream",
     "text": [
      "11\n",
      "28\n"
     ]
    }
   ],
   "source": [
    "# Assigning tuples with return values\n",
    "a, b = sumProduct(4, 7)\n",
    "print(a)\n",
    "print(b)"
   ]
  },
  {
   "cell_type": "code",
   "execution_count": null,
   "metadata": {},
   "outputs": [
    {
     "data": {
      "text/plain": [
       "int"
      ]
     },
     "execution_count": 36,
     "metadata": {},
     "output_type": "execute_result"
    }
   ],
   "source": [
    "# Check what type of data the variables are\n",
    "type(a)\n",
    "type(b)"
   ]
  },
  {
   "cell_type": "markdown",
   "metadata": {},
   "source": [
    "## Dictionaries \n",
    "* Use { } \n",
    "* Associate \"keys\" with \"values\"\n",
    "    * key:value\n",
    "* Don't take the word dictionary too literally "
   ]
  },
  {
   "cell_type": "markdown",
   "metadata": {},
   "source": [
    "#### Keys are immutable (unchangable) and must be unique (no duplicates)"
   ]
  },
  {
   "cell_type": "code",
   "execution_count": null,
   "metadata": {},
   "outputs": [
    {
     "name": "stdout",
     "output_type": "stream",
     "text": [
      "{4008: 'Drake', 9904: 'Cardi B', 1576: 'J. Cole', 8717: 'J. Cole', 2309: 'Kendrick Lamar'}\n"
     ]
    },
    {
     "data": {
      "text/plain": [
       "dict"
      ]
     },
     "execution_count": 41,
     "metadata": {},
     "output_type": "execute_result"
    }
   ],
   "source": [
    "# Dictionary keys: Student ID numbers\n",
    "# Dictionary values: Student names\n",
    "    # Are the keys unique in this example?\n"
   ]
  },
  {
   "cell_type": "code",
   "execution_count": null,
   "metadata": {},
   "outputs": [
    {
     "name": "stdout",
     "output_type": "stream",
     "text": [
      "J. Cole\n",
      "Kendrick Lamar\n"
     ]
    }
   ],
   "source": [
    "# Dictionary lookup is very fast\n",
    "    # Use the \"key\" to retrieve its associated \"value\"\n"
   ]
  },
  {
   "cell_type": "code",
   "execution_count": null,
   "metadata": {},
   "outputs": [
    {
     "name": "stdout",
     "output_type": "stream",
     "text": [
      "{2309: 'Kendrick Lamar', 4008: 'Drake', 'Post Malone': 1822, 8717: 'J. Cole', 9904: 'Cardi B', 1576: 'J. Cole', 'Logic': 3310}\n"
     ]
    }
   ],
   "source": [
    "# Assign new value pairs\n",
    "id_names[\"Post Malone\"] = 1822\n",
    "id_names[\"Logic\"] = 3310\n",
    "print(id_names)"
   ]
  },
  {
   "cell_type": "code",
   "execution_count": null,
   "metadata": {},
   "outputs": [
    {
     "name": "stdout",
     "output_type": "stream",
     "text": [
      "7\n"
     ]
    }
   ],
   "source": [
    "# Check the length of the dictionary\n",
    "length = len(id_names)\n",
    "print(length)"
   ]
  },
  {
   "cell_type": "code",
   "execution_count": null,
   "metadata": {},
   "outputs": [
    {
     "name": "stdout",
     "output_type": "stream",
     "text": [
      "True\n"
     ]
    }
   ],
   "source": [
    "# Search through a dictionary similar to lists\n",
    "    # Typically slow for a list\n",
    "    # Typically fast for a dictionary!\n",
    "print(2309 in id_names)"
   ]
  },
  {
   "cell_type": "code",
   "execution_count": null,
   "metadata": {},
   "outputs": [
    {
     "name": "stdout",
     "output_type": "stream",
     "text": [
      "False\n"
     ]
    }
   ],
   "source": [
    "# Try a key that is not in our dictionary:\n",
    "print(2310 in id_names)"
   ]
  },
  {
   "cell_type": "markdown",
   "metadata": {},
   "source": [
    "## Task 1\n",
    "  * use a for loop to create a list of 31 random numbers between -5 and 35\n",
    "    * Example: [-4, 31, 0, 1, 8, 19, 8,..., 22]\n",
    "  "
   ]
  },
  {
   "cell_type": "code",
   "execution_count": null,
   "metadata": {},
   "outputs": [
    {
     "name": "stdout",
     "output_type": "stream",
     "text": [
      "[25, 32, 6, 31, 10, 22, -5, -1, 19, 22, 19, 11, 20, 14, 12, -5, 17, -5, 18, 9, 11, 27, 16, 16, -5, 32, 21, 14, 27, 34, 33]\n"
     ]
    }
   ],
   "source": [
    "import random\n",
    "random_numbers=[]\n",
    "for i in range(31):\n",
    "    random_numbers.append(random.randint(-5,35))\n",
    "\n",
    "print(random_numbers)"
   ]
  },
  {
   "cell_type": "markdown",
   "metadata": {},
   "source": [
    "## Task 2\n",
    "  * 1) Check if 32 degrees appears in your list of temperatures\n",
    "  * 2) Pick a temperature that does appear in your list. Write some code that shows that this temperature appears in your list of temperatures\n",
    "  * 3) Verify that the length of your list is 31\n",
    "  "
   ]
  },
  {
   "cell_type": "code",
   "execution_count": null,
   "metadata": {},
   "outputs": [
    {
     "name": "stdout",
     "output_type": "stream",
     "text": [
      "true\n"
     ]
    }
   ],
   "source": [
    "if 32 in random_numbers:\n",
    "    print(\"true\")"
   ]
  },
  {
   "cell_type": "markdown",
   "metadata": {},
   "source": [
    "## Task 3\n",
    "  * use print and your list to write a for loop in the following form:\n",
    "    * The temperature on January 1 was -4 degrees F. \n",
    "    * The temperature on January 2 was 31 degrees F. \n",
    "    * The temperature on January 3 was 0 degrees F. \n",
    "    * ...\n",
    "    * The temperature on January 31 was 22 degrees F.\n",
    "  "
   ]
  },
  {
   "cell_type": "code",
   "execution_count": null,
   "metadata": {},
   "outputs": [
    {
     "name": "stdout",
     "output_type": "stream",
     "text": [
      "The temperature on January 1 was 25 degrees F.\n",
      "The temperature on January 2 was 32 degrees F.\n",
      "The temperature on January 3 was 6 degrees F.\n",
      "The temperature on January 4 was 31 degrees F.\n",
      "The temperature on January 5 was 10 degrees F.\n",
      "The temperature on January 6 was 22 degrees F.\n",
      "The temperature on January 7 was -5 degrees F.\n",
      "The temperature on January 8 was -1 degrees F.\n",
      "The temperature on January 9 was 19 degrees F.\n",
      "The temperature on January 10 was 22 degrees F.\n",
      "The temperature on January 11 was 19 degrees F.\n",
      "The temperature on January 12 was 11 degrees F.\n",
      "The temperature on January 13 was 20 degrees F.\n",
      "The temperature on January 14 was 14 degrees F.\n",
      "The temperature on January 15 was 12 degrees F.\n",
      "The temperature on January 16 was -5 degrees F.\n",
      "The temperature on January 17 was 17 degrees F.\n",
      "The temperature on January 18 was -5 degrees F.\n",
      "The temperature on January 19 was 18 degrees F.\n",
      "The temperature on January 20 was 9 degrees F.\n",
      "The temperature on January 21 was 11 degrees F.\n",
      "The temperature on January 22 was 27 degrees F.\n",
      "The temperature on January 23 was 16 degrees F.\n",
      "The temperature on January 24 was 16 degrees F.\n",
      "The temperature on January 25 was -5 degrees F.\n",
      "The temperature on January 26 was 32 degrees F.\n",
      "The temperature on January 27 was 21 degrees F.\n",
      "The temperature on January 28 was 14 degrees F.\n",
      "The temperature on January 29 was 27 degrees F.\n",
      "The temperature on January 30 was 34 degrees F.\n",
      "The temperature on January 31 was 33 degrees F.\n",
      "\n"
     ]
    }
   ],
   "source": [
    "message=\"\"\n",
    "for i in range(1,32):\n",
    "    message+=\"The temperature on January \"+str(i)+\" was \"+str(random_numbers[i-1])+\" degrees F.\\n\"\n",
    "print(message)"
   ]
  },
  {
   "cell_type": "markdown",
   "metadata": {},
   "source": [
    "## Challenge\n",
    "  * use lists and math operators to write a function hex_converter(input) that takes a decimal number as input and returns its hexadecimal equivalent as output \n",
    "    * show the output for hex_converter(255), hex_converter(10), hex_converter(851) to show that your algorithm works\n",
    "  "
   ]
  },
  {
   "cell_type": "code",
   "execution_count": 70,
   "metadata": {
    "collapsed": true
   },
   "outputs": [
    {
     "name": "stdout",
     "output_type": "stream",
     "text": [
      "8\n",
      "FF\n",
      "353\n"
     ]
    }
   ],
   "source": [
    "def dec_To_Hex(decimalNumber):\n",
    "    message=[]\n",
    "    while (decimalNumber>0):\n",
    "        remainder=decimalNumber%16\n",
    "        if (remainder==10):\n",
    "            remainder=\"A\"\n",
    "        elif (remainder==11):\n",
    "            remainder=\"B\"\n",
    "        elif (remainder==12):\n",
    "            remainder=\"C\"\n",
    "        elif (remainder==13):\n",
    "            remainder=\"D\"\n",
    "        elif (remainder==14):\n",
    "            remainder=\"E\"\n",
    "        elif (remainder==15):\n",
    "            remainder=\"F\"\n",
    "        message.append(str(remainder))\n",
    "        decimalNumber=decimalNumber//16\n",
    "    message=message[::-1]\n",
    "    message=\"\".join(message)\n",
    "    return message\n",
    "print(dec_To_Hex(8))\n",
    "print(dec_To_Hex(255))\n",
    "print(dec_To_Hex(851))"
   ]
  },
  {
   "cell_type": "code",
   "execution_count": null,
   "metadata": {},
   "outputs": [],
   "source": []
  }
 ],
 "metadata": {
  "interpreter": {
   "hash": "5c3b02fa24688d32a1d09351b7f8eac82a87272ad081601c73caead00a8e1fc4"
  },
  "kernelspec": {
   "display_name": "Python 3",
   "language": "python",
   "name": "python3"
  },
  "language_info": {
   "codemirror_mode": {
    "name": "ipython",
    "version": 3
   },
   "file_extension": ".py",
   "mimetype": "text/x-python",
   "name": "python",
   "nbconvert_exporter": "python",
   "pygments_lexer": "ipython3",
   "version": "3.7.4"
  }
 },
 "nbformat": 4,
 "nbformat_minor": 1
}
