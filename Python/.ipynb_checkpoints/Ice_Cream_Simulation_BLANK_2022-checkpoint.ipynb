{
 "cells": [
  {
   "cell_type": "markdown",
   "metadata": {},
   "source": [
    "# Simulation Practice\n",
    "* Based on sales, frozen yogurt flavors have the following relative frequencies: \n",
    " * 38% chocolate\n",
    " * 42% vanilla\n",
    " * 20% strawberry\n",
    "    \n",
    "# Suppose a group of 5 customers comes into the store to purchase yogurt.  What is the probability that at least two of them choose chocolate?"
   ]
  },
  {
   "cell_type": "markdown",
   "metadata": {},
   "source": [
    "### Simulating a single customer\n",
    "* Generate a random integer between 1 and 100 to simulate their ice cream choice\n",
    " * #'s 1-38 represent purchasing chocolate\n",
    "      * 38% chance\n",
    " * #'s 39-80 represent purchasing vanilla\n",
    "      * 42% chance\n",
    " * #'s 81-100 represent purchasing Strawberry\n",
    "      * 20% chance"
   ]
  },
  {
   "cell_type": "code",
   "execution_count": 15,
   "metadata": {},
   "outputs": [],
   "source": [
    "# import the numpy package\n",
    "import numpy\n",
    "\n",
    "# Generate random number between 1-100\n",
    "random_int=numpy.random.randint(1,101)\n",
    "# Test the percentage ranges\n",
    "if random_int<=38:\n",
    "    print(random_int)\n",
    "    print('chocolate')\n",
    "elif random_int<=80:\n",
    "    print(random_int)\n",
    "    print('vanilla')\n",
    "else:\n",
    "    print(random_int)\n",
    "    print('strawbery')"
   ]
  },
  {
   "cell_type": "markdown",
   "metadata": {},
   "source": [
    "#### Copy and paste code into a function\n",
    "* Return a String of the ice cream chosen\n",
    "* Abstraction!"
   ]
  },
  {
   "cell_type": "code",
   "execution_count": 25,
   "metadata": {},
   "outputs": [
    {
     "name": "stdout",
     "output_type": "stream",
     "text": [
      "strawbery\n"
     ]
    }
   ],
   "source": [
    "# Create function to simulate a single customer\n",
    "import numpy\n",
    "\n",
    "def single_customer_trial():\n",
    "    single_customer=numpy.random.randint(1,101)\n",
    "    choice=\"\"\n",
    "    # Test the percentage ranges\n",
    "    if 1<=single_customer<=38:\n",
    "        choice='chocolate'\n",
    "    elif 39<=single_customer<=80:\n",
    "        choice='vanilla'\n",
    "    elif 81<=single_customer<=100:\n",
    "        choice='strawbery'\n",
    "    return choice\n",
    "\n",
    "print(single_customer_trial())"
   ]
  },
  {
   "cell_type": "markdown",
   "metadata": {},
   "source": [
    "### Simulate a single trail of 5 customers\n",
    "* Create three variables for Chocolate, Vanilla, and Strawberry counts\n",
    "* Repeat 5 times\n",
    "    * Execute a single trial\n",
    "    * Check which ice cream was chosen\n",
    "    * Update variable appropriately\n",
    "* Return \"true\" if chocolate's count is 2 or higher, false otherwise"
   ]
  },
  {
   "cell_type": "code",
   "execution_count": 65,
   "metadata": {},
   "outputs": [
    {
     "name": "stdout",
     "output_type": "stream",
     "text": [
      "False\n"
     ]
    }
   ],
   "source": [
    "#Import the numpy package\n",
    "import numpy as np\n",
    "\n",
    "# Create variables\n",
    "\n",
    "def customers_trial(amount_of_customers):\n",
    "    single_customer=np.random.randint(1,101, amount_of_customers)\n",
    "    chocolate=0\n",
    "    vanilla=0\n",
    "    strawbery=0\n",
    "    # Test the percentage ranges\n",
    "    for i in single_customer:\n",
    "        if 1<=i<=38:\n",
    "            chocolate+=1\n",
    "        elif 39<=i<=80:\n",
    "            vanilla+=1\n",
    "        elif 81<=i<=100:\n",
    "            strawbery+=1\n",
    "    #print(f\"chocolate: {chocolate}\\nvanilla: {vanilla}\\nstrawbery: {strawbery}\")\n",
    "    return chocolate,vanilla,strawbery\n",
    "\n",
    "#print(customers_trial(5))\n",
    "\n",
    "# For loop\n",
    "\n",
    "        \n",
    "# Print the end result of ice cream choices\n",
    "\n",
    "\n",
    "# Print whether chocolate was chosen at least twice\n",
    "#chocolate,vanilla,strawbery=customers_trial(5)\n",
    "#print(chocolate)\n",
    "#print(vanilla)\n",
    "#print(strawbery)\n",
    "chocolate,vanilla,strawbery=customers_trial(5)\n",
    "if chocolate>=2:\n",
    "    print(\"True\")\n",
    "else:\n",
    "    print(\"False\")\n",
    "    "
   ]
  },
  {
   "cell_type": "markdown",
   "metadata": {},
   "source": [
    "#### Copy and paste code into a function\n",
    "* Return true/false whether chocolate was chosen at least twice\n",
    "* Abstraction!"
   ]
  },
  {
   "cell_type": "code",
   "execution_count": 78,
   "metadata": {},
   "outputs": [],
   "source": [
    "def five_customer_order():\n",
    "    chocolate,vanilla,strawbery=customers_trial(5)\n",
    "    if chocolate>=2:\n",
    "        return \"True\"\n",
    "    else:\n",
    "        return \"False\""
   ]
  },
  {
   "cell_type": "markdown",
   "metadata": {},
   "source": [
    "### Finding the probabilty that if 5 customers come in, at least two of them purchase chocolate\n",
    "* Create an array to hold your results\n",
    "* Create a loop to run 10000 times\n",
    "    * Add result of each 5-customer trial to the array"
   ]
  },
  {
   "cell_type": "code",
   "execution_count": 108,
   "metadata": {},
   "outputs": [
    {
     "name": "stdout",
     "output_type": "stream",
     "text": [
      "to much to show\n"
     ]
    }
   ],
   "source": [
    "# Create variables\n",
    "ice_cream_results=[]\n",
    "total_trials=10000\n",
    "\n",
    "# Create a loop that repeats a large number of trials (5 customers), in this case 10000 times\n",
    "for i in range(total_trials):\n",
    "    ice_cream_results.append(five_customer_order())\n",
    "    \n",
    "# Print the results\n",
    "print(ice_cream_results)"
   ]
  },
  {
   "cell_type": "markdown",
   "metadata": {},
   "source": [
    "### Analyze the results"
   ]
  },
  {
   "cell_type": "markdown",
   "metadata": {},
   "source": [
    "#### Find the total number of successes (true)"
   ]
  },
  {
   "cell_type": "code",
   "execution_count": 90,
   "metadata": {},
   "outputs": [
    {
     "name": "stdout",
     "output_type": "stream",
     "text": [
      "6281 3719\n"
     ]
    }
   ],
   "source": [
    "# Create variables\n",
    "\n",
    "successful_trials=0\n",
    "failed_trials=0\n",
    "        \n",
    "\n",
    "# Loop through each entry, updating the number of successful trials (true)\n",
    "\n",
    "for i in ice_cream_results:\n",
    "    if i==\"True\":\n",
    "        successful_trials+=1\n",
    "    else:\n",
    "        failed_trials+=1\n",
    "        \n",
    "# Print the results\n",
    "print(successful_trials, failed_trials)"
   ]
  },
  {
   "cell_type": "markdown",
   "metadata": {},
   "source": [
    "#### Calculate the probability\n",
    "* Probability = (successes/total # trials)"
   ]
  },
  {
   "cell_type": "code",
   "execution_count": 91,
   "metadata": {},
   "outputs": [
    {
     "name": "stdout",
     "output_type": "stream",
     "text": [
      "0.6281\n"
     ]
    }
   ],
   "source": [
    "# Calculate probability\n",
    "print(successful_trials/total_trials)\n",
    "\n",
    "# Print results\n"
   ]
  },
  {
   "cell_type": "markdown",
   "metadata": {},
   "source": [
    "### Graph the results"
   ]
  },
  {
   "cell_type": "code",
   "execution_count": 106,
   "metadata": {},
   "outputs": [
    {
     "data": {
      "image/png": "[encoded data removed]",
      "text/plain": [
       "<Figure size 432x288 with 1 Axes>"
      ]
     },
     "metadata": {},
     "output_type": "display_data"
    }
   ],
   "source": [
    "# Import the library\n",
    "import matplotlib.pyplot as plot\n",
    "\n",
    "# Magic to allow the graph to display directly in this notebook\n",
    "\n",
    "# Create an array of labels\n",
    "labels = [\"2 Chose Chocolate\", \"Other\"]\n",
    "\n",
    "# Create an array of your results\n",
    "result_bin = [successful_trials, failed_trials]\n",
    "\n",
    "# Explode option\n",
    "    # 'Slices' appear distanced from the center\n",
    "        # Larger numbers = further explosion\n",
    "    # Explode array should be same size as labels\n",
    "explode = (.075, 0)\n",
    "\n",
    "# Use matplotlib module subplots() to get data for various charts\n",
    "    # Returns a tuple in the form (figure,axes)\n",
    "fig1,ax1 = plot.subplots()\n",
    "\n",
    "# Use axes to create a pie chart\n",
    "    # ax1.pie(data array, explode array, labels array, starting angle)\n",
    "ax1.pie(result_bin, explode, labels, autopct='%1.1f%%', startangle=90)\n",
    "\n",
    "# Equal aspect ratio ensures that pie is drawn as a circle.\n",
    "ax1.axis('equal')\n",
    "\n",
    "plot.show()"
   ]
  },
  {
   "cell_type": "markdown",
   "metadata": {},
   "source": [
    "### Don't forget to answer the original question!\n",
    "* Answer should be in the form of a complete sentence\n",
    "Based on our simulaion, we estimate that the ikelihood of more than 2 out of 5 ordering chocolate is approximately 62.81%."
   ]
  },
  {
   "cell_type": "markdown",
   "metadata": {},
   "source": []
  },
  {
   "cell_type": "code",
   "execution_count": null,
   "metadata": {},
   "outputs": [],
   "source": []
  }
 ],
 "metadata": {
  "kernelspec": {
   "display_name": "Python 3",
   "language": "python",
   "name": "python3"
  },
  "language_info": {
   "codemirror_mode": {
    "name": "ipython",
    "version": 3
   },
   "file_extension": ".py",
   "mimetype": "text/x-python",
   "name": "python",
   "nbconvert_exporter": "python",
   "pygments_lexer": "ipython3",
   "version": "3.7.4"
  }
 },
 "nbformat": 4,
 "nbformat_minor": 2
}
