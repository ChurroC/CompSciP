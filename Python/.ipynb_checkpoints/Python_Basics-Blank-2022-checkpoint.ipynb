{
 "cells": [
  {
   "cell_type": "markdown",
   "metadata": {},
   "source": [
    "# Python Basics"
   ]
  },
  {
   "cell_type": "markdown",
   "metadata": {},
   "source": [
    "## Background Information"
   ]
  },
  {
   "cell_type": "markdown",
   "metadata": {},
   "source": [
    "#### Jupyter Notebooks:\n",
    "  * a notebook is a system for combining code and written description\n",
    "    * run a cell: Shift-Enter\n",
    "    * run a cell and add new: Alt-Enter\n",
    "    * keyboard shortcuts: click above and press 'h'\n",
    "  * this text is in a 'markdown cell'\n",
    "  * markdown used for words, description, and paragraphs\n",
    "    * cheat sheet: https://github.com/adam-p/markdown-here/wiki/Markdown-Cheatsheet\n",
    "\n",
    "\n",
    "#### Python:\n",
    "  * our programming language for second semester\n",
    "  * a high-level programming language\n",
    "  * popular with data scientists and academic researchers\n",
    "  * style guide: https://www.python.org/dev/peps/pep-0008/\n",
    "  \n",
    "  \n",
    "#### High-Level Programming Languages:\n",
    "  * more abstraction than a lower-level language\n",
    "  * code more readable (looks a lot like English)\n",
    "  * code is easier to debug since it is easier to read and understand\n",
    "  * do more with less: your code is often shorter than it would otherwise be\n",
    "  * code will often run more slowly than with a lower-level language\n",
    "  \n",
    "#### Open Source\n",
    "  * Python and Jupyter are open source projects\n",
    "    * free for everyone to use (even commercially)\n",
    "  * Open source software:\n",
    "    * source code shared with all, often free to use/change/distribute\n",
    "    * many different open source licenses: Creative Commons, MIT, BSD\n",
    "    * may or may not require attribution to original author\n",
    "    * many open source projects on GitHub (github.com)\n"
   ]
  },
  {
   "cell_type": "markdown",
   "metadata": {},
   "source": [
    "## Working with cells in jupyter notebooks\n",
    "* let's learn how to add cells\n",
    "  * we'll also change between code and markdown\n",
    "  * now we'll add another bullet point\n",
    "      * this will nest bullet point\n",
    "  * then I can re-align left again\n",
    "  "
   ]
  },
  {
   "cell_type": "markdown",
   "metadata": {},
   "source": [
    "## Comments"
   ]
  },
  {
   "cell_type": "code",
   "execution_count": 1,
   "metadata": {},
   "outputs": [
    {
     "data": {
      "text/plain": [
       "553"
      ]
     },
     "execution_count": 1,
     "metadata": {},
     "output_type": "execute_result"
    }
   ],
   "source": [
    "# comment in Python with hashes\n",
    "# add two numbers:\n",
    "421+132"
   ]
  },
  {
   "cell_type": "markdown",
   "metadata": {},
   "source": [
    "This code above shows me 421+132\n"
   ]
  },
  {
   "cell_type": "markdown",
   "metadata": {},
   "source": [
    "## Whitespace\n",
    "  * in Python, whitespace matters\n",
    "    * instead of curly braces, use four spaces to mark a block "
   ]
  },
  {
   "cell_type": "code",
   "execution_count": null,
   "metadata": {},
   "outputs": [],
   "source": [
    "# in this cell, print(n) is not part of the block so it only runs once:\n"
   ]
  },
  {
   "cell_type": "markdown",
   "metadata": {},
   "source": [
    "## Selection\n",
    "\n",
    "  * also known as decision statements or 'if-else' statements"
   ]
  },
  {
   "cell_type": "code",
   "execution_count": 8,
   "metadata": {},
   "outputs": [
    {
     "name": "stdout",
     "output_type": "stream",
     "text": [
      "fe\n"
     ]
    }
   ],
   "source": [
    "# use 'elif' instead of 'else if'\n",
    "temp=55\n",
    "sunny=\"true\"\n",
    "if temp<=20:\n",
    "    print(\"wear a park!\")\n",
    "elif temp<50:\n",
    "    print('wear a jacket!')\n",
    "else:\n",
    "    print(\"fe\")"
   ]
  },
  {
   "cell_type": "markdown",
   "metadata": {},
   "source": [
    "## Iteration\n",
    "  * also known a loops ('for' and 'while')"
   ]
  },
  {
   "cell_type": "code",
   "execution_count": 9,
   "metadata": {},
   "outputs": [
    {
     "name": "stdout",
     "output_type": "stream",
     "text": [
      "0\n",
      "1\n",
      "2\n",
      "3\n",
      "4\n",
      "5\n",
      "6\n"
     ]
    }
   ],
   "source": [
    "# count to 7:\n",
    "for i in range(7):\n",
    "    print(i)"
   ]
  },
  {
   "cell_type": "code",
   "execution_count": 8,
   "metadata": {},
   "outputs": [
    {
     "name": "stdout",
     "output_type": "stream",
     "text": [
      "99 bottles of root beer on the wall... \n",
      "   Take one down, make a float... \n",
      "98 bottles of root beer on the wall... \n",
      "   Take one down, make a float... \n",
      "97 bottles of root beer on the wall... \n",
      "   Take one down, make a float... \n",
      "96 bottles of root beer on the wall... \n",
      "   Take one down, make a float... \n",
      "95 bottles of root beer on the wall... \n",
      "   Take one down, make a float... \n",
      "94 bottles of root beer on the wall... \n",
      "   Take one down, make a float... \n",
      "93 bottles of root beer on the wall... \n",
      "   Take one down, make a float... \n",
      "92 bottles of root beer on the wall... \n",
      "   Take one down, make a float... \n",
      "91 bottles of root beer on the wall... \n",
      "   Take one down, make a float... \n",
      "90 bottles of root beer on the wall... \n",
      "   Take one down, make a float... \n",
      "89 bottles of root beer on the wall... \n",
      "   Take one down, make a float... \n",
      "88 bottles of root beer on the wall... \n",
      "   Take one down, make a float... \n",
      "87 bottles of root beer on the wall... \n",
      "   Take one down, make a float... \n",
      "86 bottles of root beer on the wall... \n",
      "   Take one down, make a float... \n",
      "85 bottles of root beer on the wall... \n",
      "   Take one down, make a float... \n",
      "84 bottles of root beer on the wall... \n",
      "   Take one down, make a float... \n",
      "83 bottles of root beer on the wall... \n",
      "   Take one down, make a float... \n",
      "82 bottles of root beer on the wall... \n",
      "   Take one down, make a float... \n",
      "81 bottles of root beer on the wall... \n",
      "   Take one down, make a float... \n",
      "80 bottles of root beer on the wall... \n",
      "   Take one down, make a float... \n",
      "79 bottles of root beer on the wall... \n",
      "   Take one down, make a float... \n",
      "78 bottles of root beer on the wall... \n",
      "   Take one down, make a float... \n",
      "77 bottles of root beer on the wall... \n",
      "   Take one down, make a float... \n",
      "76 bottles of root beer on the wall... \n",
      "   Take one down, make a float... \n",
      "75 bottles of root beer on the wall... \n",
      "   Take one down, make a float... \n",
      "74 bottles of root beer on the wall... \n",
      "   Take one down, make a float... \n",
      "73 bottles of root beer on the wall... \n",
      "   Take one down, make a float... \n",
      "72 bottles of root beer on the wall... \n",
      "   Take one down, make a float... \n",
      "71 bottles of root beer on the wall... \n",
      "   Take one down, make a float... \n",
      "70 bottles of root beer on the wall... \n",
      "   Take one down, make a float... \n",
      "69 bottles of root beer on the wall... \n",
      "   Take one down, make a float... \n",
      "68 bottles of root beer on the wall... \n",
      "   Take one down, make a float... \n",
      "67 bottles of root beer on the wall... \n",
      "   Take one down, make a float... \n",
      "66 bottles of root beer on the wall... \n",
      "   Take one down, make a float... \n",
      "65 bottles of root beer on the wall... \n",
      "   Take one down, make a float... \n",
      "64 bottles of root beer on the wall... \n",
      "   Take one down, make a float... \n",
      "63 bottles of root beer on the wall... \n",
      "   Take one down, make a float... \n",
      "62 bottles of root beer on the wall... \n",
      "   Take one down, make a float... \n",
      "61 bottles of root beer on the wall... \n",
      "   Take one down, make a float... \n",
      "60 bottles of root beer on the wall... \n",
      "   Take one down, make a float... \n",
      "59 bottles of root beer on the wall... \n",
      "   Take one down, make a float... \n",
      "58 bottles of root beer on the wall... \n",
      "   Take one down, make a float... \n",
      "57 bottles of root beer on the wall... \n",
      "   Take one down, make a float... \n",
      "56 bottles of root beer on the wall... \n",
      "   Take one down, make a float... \n",
      "55 bottles of root beer on the wall... \n",
      "   Take one down, make a float... \n",
      "54 bottles of root beer on the wall... \n",
      "   Take one down, make a float... \n",
      "53 bottles of root beer on the wall... \n",
      "   Take one down, make a float... \n",
      "52 bottles of root beer on the wall... \n",
      "   Take one down, make a float... \n",
      "51 bottles of root beer on the wall... \n",
      "   Take one down, make a float... \n",
      "50 bottles of root beer on the wall... \n",
      "   Take one down, make a float... \n",
      "49 bottles of root beer on the wall... \n",
      "   Take one down, make a float... \n",
      "48 bottles of root beer on the wall... \n",
      "   Take one down, make a float... \n",
      "47 bottles of root beer on the wall... \n",
      "   Take one down, make a float... \n",
      "46 bottles of root beer on the wall... \n",
      "   Take one down, make a float... \n",
      "45 bottles of root beer on the wall... \n",
      "   Take one down, make a float... \n",
      "44 bottles of root beer on the wall... \n",
      "   Take one down, make a float... \n",
      "43 bottles of root beer on the wall... \n",
      "   Take one down, make a float... \n",
      "42 bottles of root beer on the wall... \n",
      "   Take one down, make a float... \n",
      "41 bottles of root beer on the wall... \n",
      "   Take one down, make a float... \n",
      "40 bottles of root beer on the wall... \n",
      "   Take one down, make a float... \n",
      "39 bottles of root beer on the wall... \n",
      "   Take one down, make a float... \n",
      "38 bottles of root beer on the wall... \n",
      "   Take one down, make a float... \n",
      "37 bottles of root beer on the wall... \n",
      "   Take one down, make a float... \n",
      "36 bottles of root beer on the wall... \n",
      "   Take one down, make a float... \n",
      "35 bottles of root beer on the wall... \n",
      "   Take one down, make a float... \n",
      "34 bottles of root beer on the wall... \n",
      "   Take one down, make a float... \n",
      "33 bottles of root beer on the wall... \n",
      "   Take one down, make a float... \n",
      "32 bottles of root beer on the wall... \n",
      "   Take one down, make a float... \n",
      "31 bottles of root beer on the wall... \n",
      "   Take one down, make a float... \n",
      "30 bottles of root beer on the wall... \n",
      "   Take one down, make a float... \n",
      "29 bottles of root beer on the wall... \n",
      "   Take one down, make a float... \n",
      "28 bottles of root beer on the wall... \n",
      "   Take one down, make a float... \n",
      "27 bottles of root beer on the wall... \n",
      "   Take one down, make a float... \n",
      "26 bottles of root beer on the wall... \n",
      "   Take one down, make a float... \n",
      "25 bottles of root beer on the wall... \n",
      "   Take one down, make a float... \n",
      "24 bottles of root beer on the wall... \n",
      "   Take one down, make a float... \n",
      "23 bottles of root beer on the wall... \n",
      "   Take one down, make a float... \n",
      "22 bottles of root beer on the wall... \n",
      "   Take one down, make a float... \n",
      "21 bottles of root beer on the wall... \n",
      "   Take one down, make a float... \n",
      "20 bottles of root beer on the wall... \n",
      "   Take one down, make a float... \n",
      "19 bottles of root beer on the wall... \n",
      "   Take one down, make a float... \n",
      "18 bottles of root beer on the wall... \n",
      "   Take one down, make a float... \n",
      "17 bottles of root beer on the wall... \n",
      "   Take one down, make a float... \n",
      "16 bottles of root beer on the wall... \n",
      "   Take one down, make a float... \n",
      "15 bottles of root beer on the wall... \n",
      "   Take one down, make a float... \n",
      "14 bottles of root beer on the wall... \n",
      "   Take one down, make a float... \n",
      "13 bottles of root beer on the wall... \n",
      "   Take one down, make a float... \n",
      "12 bottles of root beer on the wall... \n",
      "   Take one down, make a float... \n",
      "11 bottles of root beer on the wall... \n",
      "   Take one down, make a float... \n",
      "10 bottles of root beer on the wall... \n",
      "   Take one down, make a float... \n",
      "9 bottles of root beer on the wall... \n",
      "   Take one down, make a float... \n",
      "8 bottles of root beer on the wall... \n",
      "   Take one down, make a float... \n",
      "7 bottles of root beer on the wall... \n",
      "   Take one down, make a float... \n",
      "6 bottles of root beer on the wall... \n",
      "   Take one down, make a float... \n",
      "5 bottles of root beer on the wall... \n",
      "   Take one down, make a float... \n",
      "4 bottles of root beer on the wall... \n",
      "   Take one down, make a float... \n",
      "3 bottles of root beer on the wall... \n",
      "   Take one down, make a float... \n",
      "2 bottles of root beer on the wall... \n",
      "   Take one down, make a float... \n",
      "1 bottles of root beer on the wall... \n",
      "   Take one down, make a float... \n",
      "\n"
     ]
    }
   ],
   "source": [
    "# try a while loop\n",
    "# read code, THEN press Shift-Enter\n",
    "\n",
    "bottle_count = 99\n",
    "output = \"\"\n",
    "\n",
    "while bottle_count > 0:\n",
    "    output += f'{bottle_count} bottles of root beer on the wall... \\n   Take one down, make a float... \\n'\n",
    "    # str converts bottle_count to a string\n",
    "    bottle_count = bottle_count - 1\n",
    "\n",
    "\n",
    "print(output)"
   ]
  },
  {
   "cell_type": "markdown",
   "metadata": {},
   "source": [
    "## Writing Procedures\n",
    "\n",
    "  * using iteration and selection together"
   ]
  },
  {
   "cell_type": "code",
   "execution_count": 9,
   "metadata": {},
   "outputs": [
    {
     "name": "stdout",
     "output_type": "stream",
     "text": [
      "0 is an even number. \n",
      "\n",
      "Whitespace takes some time to understand.\n",
      "1 is an odd number. \n",
      "\n",
      "2 is an even number. \n",
      "\n",
      "Whitespace takes some time to understand.\n",
      "3 is an odd number. \n",
      "\n",
      "4 is an even number. \n",
      "\n",
      "Whitespace takes some time to understand.\n"
     ]
    }
   ],
   "source": [
    "# read this code, THEN press Shift-Enter\n",
    "for i in range(5):    #5 numbers, starting at 0 gives 0,1,2,3,4\n",
    "    if i % 2 == 1:\n",
    "        print(i,\"is an odd number. \\n\")\n",
    "    else:\n",
    "        print(i,\"is an even number. \\n\")\n",
    "        print(\"Whitespace takes some time to understand.\")\n",
    "        #change indentation of above line and predict output!"
   ]
  },
  {
   "cell_type": "code",
   "execution_count": 10,
   "metadata": {},
   "outputs": [
    {
     "name": "stdout",
     "output_type": "stream",
     "text": [
      "[0, 1, 2, 3, 'Four']\n"
     ]
    }
   ],
   "source": [
    "# using the append method:\n",
    "i=0\n",
    "output=[]\n",
    "while i<5:\n",
    "    if i is not 4:\n",
    "        output.append(i)\n",
    "    else:\n",
    "        output.append(\"Four\")\n",
    "    i+=1\n",
    "print(output)"
   ]
  },
  {
   "cell_type": "markdown",
   "metadata": {},
   "source": [
    "## Numbers and mathematical operators"
   ]
  },
  {
   "cell_type": "code",
   "execution_count": 21,
   "metadata": {},
   "outputs": [
    {
     "name": "stdout",
     "output_type": "stream",
     "text": [
      "1235765648\n",
      "123108918\n",
      "173873260326448\n"
     ]
    }
   ],
   "source": [
    "print(1342324+1234423324)# addition\n",
    "print(123322131-213213)# subtraction\n",
    "print(143223443432*1214)# multiplication"
   ]
  },
  {
   "cell_type": "code",
   "execution_count": 22,
   "metadata": {},
   "outputs": [
    {
     "name": "stdout",
     "output_type": "stream",
     "text": [
      "2.5\n",
      "2\n",
      "1\n"
     ]
    }
   ],
   "source": [
    "print(5/2) # floating-point division (true division)\n",
    "print(5//2) # integer division\n",
    "print(5%2) # modulus operator"
   ]
  },
  {
   "cell_type": "code",
   "execution_count": 23,
   "metadata": {},
   "outputs": [
    {
     "name": "stdout",
     "output_type": "stream",
     "text": [
      "25\n"
     ]
    }
   ],
   "source": [
    "# 5 raised to the 2nd power (5^2)\n",
    "print(5**2)"
   ]
  },
  {
   "cell_type": "code",
   "execution_count": 31,
   "metadata": {},
   "outputs": [
    {
     "name": "stdout",
     "output_type": "stream",
     "text": [
      "46\n",
      "35\n",
      "38\n",
      "17\n",
      "34\n",
      "15\n",
      "17\n",
      "10\n",
      "19\n",
      "26\n",
      "42\n",
      "47\n",
      "21\n",
      "26\n",
      "44\n",
      "49\n",
      "35\n",
      "22\n",
      "37\n",
      "44\n",
      "13\n",
      "48\n",
      "24\n",
      "43\n",
      "24\n",
      "30\n",
      "36\n",
      "32\n",
      "28\n",
      "11\n",
      "13\n",
      "21\n",
      "35\n",
      "20\n",
      "43\n",
      "17\n",
      "11\n",
      "10\n",
      "40\n",
      "41\n",
      "29\n",
      "26\n",
      "36\n",
      "43\n",
      "19\n",
      "48\n",
      "49\n",
      "13\n",
      "15\n",
      "48\n"
     ]
    }
   ],
   "source": [
    "# generate 3 random numbers between 10 and 50\n",
    "\n",
    "# import the random module:\n",
    "import random\n",
    "\n",
    "# for loop:\n",
    "for i in range(50):\n",
    "    print(random.randint(10,50))"
   ]
  },
  {
   "cell_type": "code",
   "execution_count": 34,
   "metadata": {},
   "outputs": [],
   "source": [
    "# access documentation\n",
    "?random.randint"
   ]
  },
  {
   "cell_type": "markdown",
   "metadata": {},
   "source": [
    "## Variables and Functions"
   ]
  },
  {
   "cell_type": "code",
   "execution_count": 35,
   "metadata": {},
   "outputs": [
    {
     "name": "stdout",
     "output_type": "stream",
     "text": [
      "6\n"
     ]
    }
   ],
   "source": [
    "# to create a variable, simply assign a value to it:\n",
    "cool=6\n",
    "print(cool)"
   ]
  },
  {
   "cell_type": "code",
   "execution_count": 36,
   "metadata": {},
   "outputs": [
    {
     "name": "stdout",
     "output_type": "stream",
     "text": [
      "5\n"
     ]
    }
   ],
   "source": [
    "def cool():\n",
    "    print(\"5\")\n",
    "\n",
    "cool()"
   ]
  },
  {
   "cell_type": "markdown",
   "metadata": {},
   "source": [
    "## Strings"
   ]
  },
  {
   "cell_type": "code",
   "execution_count": 41,
   "metadata": {},
   "outputs": [
    {
     "name": "stdout",
     "output_type": "stream",
     "text": [
      "ef\n"
     ]
    }
   ],
   "source": [
    "# single or double quotes for strings, but be consistent\n",
    "print(\"ef\")"
   ]
  },
  {
   "cell_type": "code",
   "execution_count": 38,
   "metadata": {},
   "outputs": [
    {
     "name": "stdout",
     "output_type": "stream",
     "text": [
      "This is a new line \n",
      "of text\n"
     ]
    }
   ],
   "source": [
    "# backslash to encode special characters\n",
    "new_line =\"\\n\"     # finish this line with your teacher\n",
    "print('This is a new line ' + new_line + 'of text')"
   ]
  },
  {
   "cell_type": "code",
   "execution_count": 49,
   "metadata": {},
   "outputs": [
    {
     "name": "stdout",
     "output_type": "stream",
     "text": [
      "This will not give a \\n new line of text\n",
      "This will give a\n",
      "new line of text\n"
     ]
    }
   ],
   "source": [
    "# PRELOADED\n",
    "# r to represent a raw string (example: if you want a backslash to appear and not signify a new line)\n",
    "not_new_line =r\"\\n\"     # finish this line with your teacher\n",
    "new_line = \"\\n\"\n",
    "print('This will not give a ' + not_new_line + ' new line of text')\n",
    "print ('This will give a' + new_line + 'new line of text')"
   ]
  },
  {
   "cell_type": "code",
   "execution_count": 40,
   "metadata": {},
   "outputs": [
    {
     "name": "stdout",
     "output_type": "stream",
     "text": [
      "The Red Wheelbarrow\n",
      "William Carlos Williams\n",
      "\n",
      " so much depends\n",
      "upon\n",
      "\n",
      "a red wheel\n",
      "barrow\n",
      "\n",
      "glazed with rain\n",
      "water\n",
      "\n",
      "beside the white\n",
      "chickens.\n"
     ]
    }
   ],
   "source": [
    "# triple (double) quotes to create a multi-line string\n",
    "myMessage = \"\"\"The Red Wheelbarrow\n",
    "William Carlos Williams\n",
    "\n",
    " so much depends\n",
    "upon\n",
    "\n",
    "a red wheel\n",
    "barrow\n",
    "\n",
    "glazed with rain\n",
    "water\n",
    "\n",
    "beside the white\n",
    "chickens.\"\"\"\n",
    "print(myMessage)"
   ]
  },
  {
   "cell_type": "markdown",
   "metadata": {
    "collapsed": true
   },
   "source": [
    "## Task 1\n",
    "\n",
    "* Write a for-loop that prints out all positive perfect squares less than 31^2 that are not divisible by 3"
   ]
  },
  {
   "cell_type": "markdown",
   "metadata": {
    "collapsed": true
   },
   "source": [
    "## Task 2\n",
    "\n",
    "* Part 1: define a function, describe_temp(current_temp), that returns a descriptive string that describes the current temperature\n",
    "  * Sample outputs: \n",
    "    * describe_temp(82) might return '82 degrees is beach weather!'\n",
    "    * describe_temp(71) might return '71 degrees is barbecue weather!'\n",
    "    * describe_temp(25) might return '25 degrees is Chicago weather.'\n",
    "\n",
    "* Part 2: Write an expression that passes a random number from 0 to 100 to describe_temp "
   ]
  },
  {
   "cell_type": "markdown",
   "metadata": {},
   "source": [
    "# "
   ]
  },
  {
   "cell_type": "code",
   "execution_count": 55,
   "metadata": {},
   "outputs": [
    {
     "name": "stdout",
     "output_type": "stream",
     "text": [
      "1\n",
      "4\n",
      "16\n",
      "25\n",
      "49\n",
      "64\n",
      "100\n",
      "121\n",
      "169\n",
      "196\n",
      "256\n",
      "289\n",
      "361\n",
      "400\n",
      "484\n",
      "529\n",
      "625\n",
      "676\n",
      "784\n",
      "841\n"
     ]
    }
   ],
   "source": [
    "for i in range(31):\n",
    "    if (i**2)%3!=0:\n",
    "        print(i**2)\n",
    "        \n",
    "    "
   ]
  },
  {
   "cell_type": "code",
   "execution_count": 59,
   "metadata": {},
   "outputs": [
    {
     "name": "stdout",
     "output_type": "stream",
     "text": [
      "It is super hot with a temperature of 119\n"
     ]
    }
   ],
   "source": [
    "import random\n",
    "def describe_temp(current_temp):\n",
    "    if current_temp>100:\n",
    "        message=f\"It is super hot with a temperature of {current_temp}\"\n",
    "    elif current_temp>60:\n",
    "        message=f\"It is nice outside with a temperature of {current_temp}\"\n",
    "    elif current_temp>32:\n",
    "        message=f\"It is chilly outside with a temperature of {current_temp}\"\n",
    "    else:\n",
    "        message=f\"Don't go out since there's a temperature of {current_temp}\"\n",
    "    return message\n",
    "\n",
    "print(describe_temp(random.randint(-30,130)))"
   ]
  },
  {
   "cell_type": "code",
   "execution_count": null,
   "metadata": {},
   "outputs": [],
   "source": []
  },
  {
   "cell_type": "code",
   "execution_count": null,
   "metadata": {},
   "outputs": [],
   "source": []
  },
  {
   "cell_type": "code",
   "execution_count": null,
   "metadata": {},
   "outputs": [],
   "source": []
  },
  {
   "cell_type": "code",
   "execution_count": null,
   "metadata": {},
   "outputs": [],
   "source": []
  },
  {
   "cell_type": "code",
   "execution_count": null,
   "metadata": {},
   "outputs": [],
   "source": []
  },
  {
   "cell_type": "code",
   "execution_count": null,
   "metadata": {},
   "outputs": [],
   "source": []
  },
  {
   "cell_type": "code",
   "execution_count": null,
   "metadata": {},
   "outputs": [],
   "source": []
  },
  {
   "cell_type": "code",
   "execution_count": null,
   "metadata": {},
   "outputs": [],
   "source": []
  },
  {
   "cell_type": "code",
   "execution_count": null,
   "metadata": {},
   "outputs": [],
   "source": []
  },
  {
   "cell_type": "code",
   "execution_count": null,
   "metadata": {},
   "outputs": [],
   "source": []
  },
  {
   "cell_type": "code",
   "execution_count": null,
   "metadata": {},
   "outputs": [],
   "source": []
  },
  {
   "cell_type": "code",
   "execution_count": null,
   "metadata": {},
   "outputs": [],
   "source": []
  },
  {
   "cell_type": "code",
   "execution_count": null,
   "metadata": {},
   "outputs": [],
   "source": []
  },
  {
   "cell_type": "code",
   "execution_count": null,
   "metadata": {},
   "outputs": [],
   "source": []
  },
  {
   "cell_type": "code",
   "execution_count": null,
   "metadata": {},
   "outputs": [],
   "source": []
  },
  {
   "cell_type": "code",
   "execution_count": null,
   "metadata": {},
   "outputs": [],
   "source": []
  },
  {
   "cell_type": "code",
   "execution_count": null,
   "metadata": {},
   "outputs": [],
   "source": []
  },
  {
   "cell_type": "code",
   "execution_count": null,
   "metadata": {},
   "outputs": [],
   "source": []
  },
  {
   "cell_type": "code",
   "execution_count": null,
   "metadata": {},
   "outputs": [],
   "source": []
  },
  {
   "cell_type": "code",
   "execution_count": null,
   "metadata": {},
   "outputs": [],
   "source": []
  },
  {
   "cell_type": "code",
   "execution_count": null,
   "metadata": {},
   "outputs": [],
   "source": []
  },
  {
   "cell_type": "code",
   "execution_count": null,
   "metadata": {},
   "outputs": [],
   "source": []
  },
  {
   "cell_type": "code",
   "execution_count": null,
   "metadata": {},
   "outputs": [],
   "source": []
  },
  {
   "cell_type": "code",
   "execution_count": null,
   "metadata": {},
   "outputs": [],
   "source": []
  },
  {
   "cell_type": "code",
   "execution_count": null,
   "metadata": {},
   "outputs": [],
   "source": []
  },
  {
   "cell_type": "code",
   "execution_count": null,
   "metadata": {},
   "outputs": [],
   "source": []
  },
  {
   "cell_type": "code",
   "execution_count": null,
   "metadata": {},
   "outputs": [],
   "source": []
  },
  {
   "cell_type": "code",
   "execution_count": null,
   "metadata": {},
   "outputs": [],
   "source": []
  },
  {
   "cell_type": "code",
   "execution_count": null,
   "metadata": {},
   "outputs": [],
   "source": []
  },
  {
   "cell_type": "code",
   "execution_count": null,
   "metadata": {},
   "outputs": [],
   "source": []
  },
  {
   "cell_type": "code",
   "execution_count": null,
   "metadata": {},
   "outputs": [],
   "source": []
  },
  {
   "cell_type": "code",
   "execution_count": null,
   "metadata": {},
   "outputs": [],
   "source": []
  },
  {
   "cell_type": "code",
   "execution_count": null,
   "metadata": {},
   "outputs": [],
   "source": []
  },
  {
   "cell_type": "code",
   "execution_count": null,
   "metadata": {},
   "outputs": [],
   "source": []
  },
  {
   "cell_type": "code",
   "execution_count": null,
   "metadata": {},
   "outputs": [],
   "source": []
  },
  {
   "cell_type": "code",
   "execution_count": null,
   "metadata": {},
   "outputs": [],
   "source": []
  },
  {
   "cell_type": "code",
   "execution_count": null,
   "metadata": {},
   "outputs": [],
   "source": []
  },
  {
   "cell_type": "code",
   "execution_count": null,
   "metadata": {},
   "outputs": [],
   "source": []
  },
  {
   "cell_type": "code",
   "execution_count": null,
   "metadata": {},
   "outputs": [],
   "source": []
  },
  {
   "cell_type": "code",
   "execution_count": null,
   "metadata": {},
   "outputs": [],
   "source": []
  },
  {
   "cell_type": "code",
   "execution_count": null,
   "metadata": {},
   "outputs": [],
   "source": []
  },
  {
   "cell_type": "code",
   "execution_count": null,
   "metadata": {},
   "outputs": [],
   "source": []
  },
  {
   "cell_type": "code",
   "execution_count": null,
   "metadata": {},
   "outputs": [],
   "source": []
  },
  {
   "cell_type": "code",
   "execution_count": null,
   "metadata": {},
   "outputs": [],
   "source": []
  },
  {
   "cell_type": "code",
   "execution_count": null,
   "metadata": {},
   "outputs": [],
   "source": []
  },
  {
   "cell_type": "code",
   "execution_count": null,
   "metadata": {},
   "outputs": [],
   "source": []
  },
  {
   "cell_type": "code",
   "execution_count": null,
   "metadata": {},
   "outputs": [],
   "source": []
  },
  {
   "cell_type": "code",
   "execution_count": null,
   "metadata": {},
   "outputs": [],
   "source": []
  },
  {
   "cell_type": "code",
   "execution_count": null,
   "metadata": {},
   "outputs": [],
   "source": []
  },
  {
   "cell_type": "code",
   "execution_count": null,
   "metadata": {},
   "outputs": [],
   "source": []
  },
  {
   "cell_type": "code",
   "execution_count": null,
   "metadata": {},
   "outputs": [],
   "source": []
  },
  {
   "cell_type": "code",
   "execution_count": null,
   "metadata": {},
   "outputs": [],
   "source": []
  },
  {
   "cell_type": "code",
   "execution_count": null,
   "metadata": {},
   "outputs": [],
   "source": []
  },
  {
   "cell_type": "code",
   "execution_count": null,
   "metadata": {},
   "outputs": [],
   "source": []
  }
 ],
 "metadata": {
  "kernelspec": {
   "display_name": "Python 3",
   "language": "python",
   "name": "python3"
  },
  "language_info": {
   "codemirror_mode": {
    "name": "ipython",
    "version": 3
   },
   "file_extension": ".py",
   "mimetype": "text/x-python",
   "name": "python",
   "nbconvert_exporter": "python",
   "pygments_lexer": "ipython3",
   "version": "3.7.4"
  }
 },
 "nbformat": 4,
 "nbformat_minor": 1
}
