{
 "cells": [
  {
   "cell_type": "markdown",
   "metadata": {},
   "source": [
    "# Simulation Project\n",
    "* Charan\n",
    "* 8\n",
    "* 6\n",
    "* A basketball player makes 70% of her free throws in a long season. In a tournament game she shoots 5 free throws late in the game and misses 3 of them. The fans think she was nervous, but the misses may simply be chance. What is the likelihood of her missing 3 or more of the 5 shots? "
   ]
  },
  {
   "cell_type": "markdown",
   "metadata": {},
   "source": [
    "### Single Trial Setup"
   ]
  },
  {
   "cell_type": "code",
   "execution_count": 15,
   "metadata": {},
   "outputs": [
    {
     "name": "stdout",
     "output_type": "stream",
     "text": [
      "30% chance to win\n"
     ]
    }
   ],
   "source": [
    "import numpy as np\n",
    "\n",
    "random_number=np.random.randint(1,101)\n",
    "# Refer to your World Series Simulation as a resource!\n",
    "if random_number<=70:\n",
    "    print('70% chance to win')\n",
    "else:\n",
    "    print('30% chance to win')"
   ]
  },
  {
   "cell_type": "markdown",
   "metadata": {},
   "source": [
    "### 1 Throw"
   ]
  },
  {
   "cell_type": "code",
   "execution_count": 2,
   "metadata": {},
   "outputs": [
    {
     "name": "stdout",
     "output_type": "stream",
     "text": [
      "score\n"
     ]
    }
   ],
   "source": [
    "def one_throw():\n",
    "    random_number=np.random.randint(1,101)\n",
    "    # Refer to your World Series Simulation as a resource!\n",
    "    if random_number<=70:\n",
    "        return \"score\"\n",
    "    else:\n",
    "        return \"miss\"\n",
    "    \n",
    "print(one_throw())"
   ]
  },
  {
   "cell_type": "markdown",
   "metadata": {},
   "source": [
    "### 5 Throws\n",
    "* Make sure you simulate a large number of trials!"
   ]
  },
  {
   "cell_type": "code",
   "execution_count": 3,
   "metadata": {},
   "outputs": [
    {
     "name": "stdout",
     "output_type": "stream",
     "text": [
      "(4, 1)\n"
     ]
    }
   ],
   "source": [
    "def five_throw():\n",
    "    hit=0\n",
    "    miss=0\n",
    "    for i in range (5):\n",
    "        if one_throw()=='score':\n",
    "            hit+=1\n",
    "        else:\n",
    "            miss+=1\n",
    "    return (hit,miss)\n",
    "# Record your data in an array\n",
    "print(five_throw())"
   ]
  },
  {
   "cell_type": "markdown",
   "metadata": {},
   "source": [
    "### Result Of 5 Throws"
   ]
  },
  {
   "cell_type": "code",
   "execution_count": 4,
   "metadata": {},
   "outputs": [
    {
     "name": "stdout",
     "output_type": "stream",
     "text": [
      "false\n"
     ]
    }
   ],
   "source": [
    "def result_of_five_throws():\n",
    "    if five_throw()[1]>=3:\n",
    "        return 'true'\n",
    "    else:\n",
    "        return 'false'\n",
    "print(result_of_five_throws())"
   ]
  },
  {
   "cell_type": "markdown",
   "metadata": {},
   "source": [
    "### Lots of 5 throws"
   ]
  },
  {
   "cell_type": "code",
   "execution_count": 5,
   "metadata": {},
   "outputs": [
    {
     "name": "stdout",
     "output_type": "stream",
     "text": [
      "['true', 'false', 'false', 'false', 'false', 'false', 'false', 'false', 'true', 'false', 'true', 'false', 'false', 'true', 'false', 'false', 'false', 'false', 'false', 'false', 'false', 'false', 'false', 'true', 'false', 'false', 'false', 'true', 'false', 'false', 'false', 'false', 'false', 'false', 'false', 'true', 'true', 'false', 'false', 'false', 'false', 'false', 'false', 'false', 'false', 'false', 'false', 'false', 'false', 'false']\n"
     ]
    }
   ],
   "source": [
    "result_of_all_throws=[]\n",
    "for i in range(5000000):\n",
    "    result_of_all_throws.append(result_of_five_throws())\n",
    "print(result_of_all_throws[:50])"
   ]
  },
  {
   "cell_type": "markdown",
   "metadata": {},
   "source": [
    "### Analyze The Results"
   ]
  },
  {
   "cell_type": "code",
   "execution_count": 6,
   "metadata": {},
   "outputs": [],
   "source": [
    "successful_trials=0\n",
    "failed_trials=0\n",
    "\n",
    "for i in result_of_all_throws:\n",
    "    if i == 'true':\n",
    "        successful_trials += 1\n",
    "    else:\n",
    "        failed_trials += 1"
   ]
  },
  {
   "cell_type": "markdown",
   "metadata": {},
   "source": [
    "### Graph"
   ]
  },
  {
   "cell_type": "code",
   "execution_count": 27,
   "metadata": {},
   "outputs": [
    {
     "data": {
      "image/png": "[encoded data removed]",
      "text/plain": [
       "<Figure size 432x288 with 1 Axes>"
      ]
     },
     "metadata": {},
     "output_type": "display_data"
    }
   ],
   "source": [
    "# Graphically display results related directly to your question\n",
    "# source: http://matplotlib.org/examples/pie_and_polar_charts/pie_demo_features.html\n",
    "\n",
    "# Import the library\n",
    "import matplotlib.pyplot as plot\n",
    "# Magic to allow the graph to display directly in this notebook\n",
    "\n",
    "# Create an array of labels\n",
    "bins = [successful_trials, failed_trials]\n",
    "\n",
    "# Explode option\n",
    "    # 'Slices' appear distanced from the center\n",
    "        # Larger numbers = further explosion\n",
    "    # Explode array should be same size as labels and\n",
    "explode = (.075, 0)\n",
    "\n",
    "# Use matplotlib module subplots() to get data for various charts\n",
    "    # Returns a tuple in the form (figure,axes)\n",
    "fig1,ax1 = plot.subplots()\n",
    "\n",
    "# Use axes to create a pie chart\n",
    "    # ax1.pie(data array, explode array, labels array, starting angle)\n",
    "ax1.pie(bins, explode, ['Missed 3 Or More Of The 5 Shots', 'Scored 3 Or More Of The 5 Shots'], autopct='%1.1f%%', startangle=90)\n",
    "ax1.axis('equal')  # Equal aspect ratio ensures that pie is drawn as a circle.\n",
    "\n",
    "plot.show()"
   ]
  },
  {
   "cell_type": "markdown",
   "metadata": {},
   "source": [
    "### Answer"
   ]
  },
  {
   "cell_type": "markdown",
   "metadata": {},
   "source": [
    "If a basketball player makes 70% of her free throws in a long season, if she shoots 5 free shots in a game the likelihood of her missing 3 or more of the 5 shots is 16.3 percent."
   ]
  },
  {
   "cell_type": "markdown",
   "metadata": {},
   "source": [
    "### Additional Question\n",
    "What are the chances that she will make all 5 of the shots."
   ]
  },
  {
   "cell_type": "markdown",
   "metadata": {},
   "source": [
    "### Calculate the Results"
   ]
  },
  {
   "cell_type": "markdown",
   "metadata": {},
   "source": [
    "### Single Trial Setup"
   ]
  },
  {
   "cell_type": "code",
   "execution_count": 17,
   "metadata": {},
   "outputs": [
    {
     "name": "stdout",
     "output_type": "stream",
     "text": [
      "70% chance to win\n"
     ]
    }
   ],
   "source": [
    "import numpy as np\n",
    "\n",
    "random_number=np.random.randint(1,101)\n",
    "# Refer to your World Series Simulation as a resource!\n",
    "if random_number<=70:\n",
    "    print('70% chance to win')\n",
    "else:\n",
    "    print('30% chance to win')"
   ]
  },
  {
   "cell_type": "markdown",
   "metadata": {},
   "source": [
    "### 1 Throw"
   ]
  },
  {
   "cell_type": "code",
   "execution_count": 18,
   "metadata": {},
   "outputs": [
    {
     "name": "stdout",
     "output_type": "stream",
     "text": [
      "miss\n"
     ]
    }
   ],
   "source": [
    "def one_throw():\n",
    "    random_number=np.random.randint(1,101)\n",
    "    # Refer to your World Series Simulation as a resource!\n",
    "    if random_number<=70:\n",
    "        return \"score\"\n",
    "    else:\n",
    "        return \"miss\"\n",
    "    \n",
    "print(one_throw())"
   ]
  },
  {
   "cell_type": "markdown",
   "metadata": {},
   "source": [
    "### 5 Throws\n",
    "* Make sure you simulate a large number of trials!"
   ]
  },
  {
   "cell_type": "code",
   "execution_count": 19,
   "metadata": {},
   "outputs": [
    {
     "name": "stdout",
     "output_type": "stream",
     "text": [
      "(3, 2)\n"
     ]
    }
   ],
   "source": [
    "def five_throw():\n",
    "    hit=0\n",
    "    miss=0\n",
    "    for i in range (5):\n",
    "        if one_throw()=='score':\n",
    "            hit+=1\n",
    "        else:\n",
    "            miss+=1\n",
    "    return (hit,miss)\n",
    "# Record your data in an array\n",
    "print(five_throw())"
   ]
  },
  {
   "cell_type": "markdown",
   "metadata": {},
   "source": [
    "### Result Of 5 Throws"
   ]
  },
  {
   "cell_type": "code",
   "execution_count": 21,
   "metadata": {},
   "outputs": [
    {
     "name": "stdout",
     "output_type": "stream",
     "text": [
      "false\n"
     ]
    }
   ],
   "source": [
    "def result_of_five_throws():\n",
    "    if five_throw()[0]==5:\n",
    "        return 'true'\n",
    "    else:\n",
    "        return 'false'\n",
    "print(result_of_five_throws())"
   ]
  },
  {
   "cell_type": "markdown",
   "metadata": {},
   "source": [
    "### Lots of 5 throws"
   ]
  },
  {
   "cell_type": "code",
   "execution_count": 28,
   "metadata": {},
   "outputs": [
    {
     "name": "stdout",
     "output_type": "stream",
     "text": [
      "['true', 'false', 'false', 'false', 'true', 'false', 'false', 'true', 'false', 'false', 'false', 'false', 'false', 'false', 'false', 'false', 'false', 'false', 'false', 'false', 'false', 'false', 'false', 'false', 'false', 'false', 'false', 'false', 'false', 'false', 'false', 'true', 'true', 'false', 'false', 'false', 'false', 'true', 'true', 'false', 'false', 'true', 'false', 'false', 'false', 'false', 'false', 'false', 'false', 'false']\n"
     ]
    }
   ],
   "source": [
    "result_of_all_throws=[]\n",
    "for i in range(50000):\n",
    "    result_of_all_throws.append(result_of_five_throws())\n",
    "print(result_of_all_throws[:50])"
   ]
  },
  {
   "cell_type": "markdown",
   "metadata": {},
   "source": [
    "### Analyze The Results"
   ]
  },
  {
   "cell_type": "code",
   "execution_count": 29,
   "metadata": {},
   "outputs": [
    {
     "name": "stdout",
     "output_type": "stream",
     "text": [
      "0 0\n",
      "8452 41548\n"
     ]
    }
   ],
   "source": [
    "successful_trials=0\n",
    "failed_trials=0\n",
    "print(successful_trials, failed_trials)\n",
    "\n",
    "for i in result_of_all_throws:\n",
    "    if i == 'true':\n",
    "        successful_trials += 1\n",
    "    else:\n",
    "        failed_trials += 1\n",
    "        \n",
    "print(successful_trials, failed_trials)"
   ]
  },
  {
   "cell_type": "markdown",
   "metadata": {},
   "source": [
    "### Graph"
   ]
  },
  {
   "cell_type": "code",
   "execution_count": 30,
   "metadata": {},
   "outputs": [
    {
     "name": "stdout",
     "output_type": "stream",
     "text": [
      "[8452, 41548]\n"
     ]
    },
    {
     "data": {
      "image/png": "[encoded data removed]",
      "text/plain": [
       "<Figure size 432x288 with 1 Axes>"
      ]
     },
     "metadata": {},
     "output_type": "display_data"
    }
   ],
   "source": [
    "# Graphically display results related directly to your question\n",
    "# source: http://matplotlib.org/examples/pie_and_polar_charts/pie_demo_features.html\n",
    "\n",
    "# Import the library\n",
    "import matplotlib.pyplot as plot\n",
    "# Magic to allow the graph to display directly in this notebook\n",
    "\n",
    "# Create an array of labels\n",
    "bins = [successful_trials, failed_trials]\n",
    "print(bins)\n",
    "\n",
    "# Explode option\n",
    "    # 'Slices' appear distanced from the center\n",
    "        # Larger numbers = further explosion\n",
    "    # Explode array should be same size as labels and\n",
    "explode = (.075, 0)\n",
    "\n",
    "# Use matplotlib module subplots() to get data for various charts\n",
    "    # Returns a tuple in the form (figure,axes)\n",
    "fig1,ax1 = plot.subplots()\n",
    "\n",
    "# Use axes to create a pie chart\n",
    "    # ax1.pie(data array, explode array, labels array, starting angle)\n",
    "ax1.pie(bins, explode, ['Missed 3 Or More Of The 5 Shots', 'Scored 3 Or More Of The 5 Shots'], autopct='%1.1f%%', startangle=90)\n",
    "ax1.axis('equal')  # Equal aspect ratio ensures that pie is drawn as a circle.\n",
    "\n",
    "plot.show()"
   ]
  },
  {
   "cell_type": "code",
   "execution_count": 8,
   "metadata": {},
   "outputs": [],
   "source": [
    "# Using the results array, grab appropriate data and perform the necessary calculations"
   ]
  },
  {
   "cell_type": "markdown",
   "metadata": {},
   "source": [
    "### Display the Results "
   ]
  },
  {
   "cell_type": "code",
   "execution_count": 9,
   "metadata": {},
   "outputs": [],
   "source": [
    "# Graphically display results related directly to your question"
   ]
  }
 ],
 "metadata": {
  "kernelspec": {
   "display_name": "Python 3",
   "language": "python",
   "name": "python3"
  },
  "language_info": {
   "codemirror_mode": {
    "name": "ipython",
    "version": 3
   },
   "file_extension": ".py",
   "mimetype": "text/x-python",
   "name": "python",
   "nbconvert_exporter": "python",
   "pygments_lexer": "ipython3",
   "version": "3.8.0"
  }
 },
 "nbformat": 4,
 "nbformat_minor": 2
}
