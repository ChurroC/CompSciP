{
 "cells": [
  {
   "cell_type": "markdown",
   "metadata": {},
   "source": [
    "# Randomly Generate Dice Rolls\n",
    "* Use numpy.random.randint(min index, max index + 1, times to repeat)\n",
    "    * link: https://numpy.org/doc/stable/reference/random/generated/numpy.random.randint.html\n",
    "* You should generate numbers numbers between 1 and 6\n",
    "    * These are the values on the faces of a die\n",
    "* You should \"roll the die\" 1000 times\n",
    "    * That is, you should generate 1000 random numbers between 1 and 6 (inclusive)"
   ]
  },
  {
   "cell_type": "code",
   "execution_count": 1,
   "metadata": {},
   "outputs": [
    {
     "name": "stdout",
     "output_type": "stream",
     "text": [
      "[6 5 3 4 3 2 5 5 2 6 6 6 5 4 1 2 5 4 5 3 4 3 2 5 4 4 6 4 6 3 3 2 1 1 2 4 1\n",
      " 2 6 2 2 1 2 6 1 3 6 4 2 3 3 3 3 4 2 6 6 6 6 3 6 1 3 1 2 1 1 2 4 6 3 5 3 6\n",
      " 2 6 2 5 2 6 1 3 6 1 4 6 2 1 5 4 1 2 3 6 5 2 3 2 6 5 2 6 5 6 6 4 6 3 6 5 2\n",
      " 6 6 6 3 5 3 3 1 6 2 1 5 3 4 3 5 6 6 4 2 5 2 5 3 1 5 4 3 6 6 2 5 5 3 2 6 3\n",
      " 6 3 3 2 3 6 2 3 2 2 2 4 4 6 5 3 5 5 2 5 6 2 3 3 1 6 3 4 4 6 6 1 4 6 2 3 5\n",
      " 5 1 4 5 3 1 5 5 2 4 2 3 4 4 2 5 5 1 5 3 2 3 1 2 5 6 6 5 3 6 6 2 3 3 4 3 3\n",
      " 6 6 6 2 2 3 3 3 1 4 2 6 4 3 4 1 6 5 1 3 5 4 1 6 1 1 4 2 4 4 4 3 6 1 4 3 2\n",
      " 6 3 5 6 3 6 3 3 3 3 6 3 6 1 5 1 1 6 2 4 5 6 1 3 4 2 4 2 5 2 3 3 1 5 1 3 5\n",
      " 3 2 3 2 6 6 5 5 1 6 2 3 4 3 2 2 5 5 5 2 5 6 6 5 3 5 3 2 1 4 2 2 3 6 1 1 1\n",
      " 1 4 6 6 5 2 2 3 2 3 5 4 4 6 1 1 6 2 6 6 4 5 3 4 2 1 5 4 5 1 5 3 2 6 1 1 6\n",
      " 2 5 3 1 5 4 3 1 4 2 6 1 3 4 3 2 5 2 2 3 3 4 6 5 1 1 1 2 1 1 2 5 6 6 4 5 5\n",
      " 6 3 2 5 3 3 5 3 6 5 2 6 1 5 4 4 6 5 2 1 6 1 3 1 6 2 1 5 3 5 3 4 6 6 1 2 6\n",
      " 3 3 2 1 6 3 1 6 4 2 1 1 1 1 2 2 5 1 3 5 2 5 6 3 6 2 4 4 4 5 1 5 6 5 6 3 6\n",
      " 1 4 3 6 6 3 4 4 2 1 4 4 2 6 4 5 6 5 2 2 6 6 5 3 2 3 3 3 2 5 6 5 1 2 3 6 1\n",
      " 2 1 4 5 1 6 2 5 5 4 3 2 3 1 2 5 1 1 6 3 6 4 1 2 4 1 4 4 5 6 5 4 5 2 2 4 6\n",
      " 2 3 5 6 5 3 5 1 2 3 5 1 6 6 2 2 2 4 5 4 1 4 6 2 4 4 2 1 2 1 1 4 6 3 1 1 5\n",
      " 1 3 3 2 6 6 3 3 3 2 4 2 4 6 6 5 4 5 4 3 5 5 2 2 6 4 1 2 1 2 4 6 3 4 5 6 3\n",
      " 2 6 3 1 3 1 6 5 5 6 4 1 1 2 3 1 2 6 6 5 2 5 6 1 3 6 2 5 6 1 6 5 3 5 3 5 6\n",
      " 1 3 4 4 4 6 1 5 1 1 1 3 1 2 5 4 1 4 4 1 1 2 1 4 3 4 6 4 4 4 2 3 6 6 1 2 5\n",
      " 2 3 3 6 3 3 1 6 4 1 4 6 2 6 1 3 1 2 4 5 1 3 3 1 5 2 5 3 4 1 1 1 4 3 6 3 5\n",
      " 2 5 3 4 6 5 4 6 6 5 2 2 4 5 1 5 6 2 1 6 1 4 4 6 5 6 2 6 1 2 5 1 5 6 4 2 2\n",
      " 6 2 6 5 6 6 6 5 5 6 2 5 6 6 3 4 1 2 4 4 1 4 2 4 2 6 5 3 6 3 4 1 3 4 4 3 6\n",
      " 6 6 3 3 5 5 2 2 5 1 2 1 5 1 1 3 1 1 1 4 1 6 6 5 1 2 4 6 4 5 3 6 2 4 1 6 5\n",
      " 3 5 6 2 5 6 2 6 3 6 2 6 3 6 2 5 4 5 5 1 4 3 6 4 1 5 5 4 6 5 5 3 3 4 1 2 6\n",
      " 3 1 6 4 5 6 6 6 2 6 6 5 3 3 1 3 6 1 6 4 1 4 2 1 5 4 6 3 4 4 4 1 2 5 3 6 4\n",
      " 4 5 6 4 6 4 3 6 6 1 3 6 2 2 5 2 3 5 3 2 4 5 3 5 6 4 6 1 3 2 2 3 6 1 2 6 1\n",
      " 1 3 1 2 5 1 2 1 6 3 5 6 3 4 5 4 3 2 2 5 4 6 6 1 5 2 6 4 3 2 6 6 1 4 2 6 2\n",
      " 4]\n"
     ]
    }
   ],
   "source": [
    "import numpy\n",
    "\n",
    "\n",
    "for i in range(1000):\n",
    "    dice_rolls=numpy.random.randint(1,7,1000)\n",
    "\n",
    "print(dice_rolls)"
   ]
  },
  {
   "cell_type": "markdown",
   "metadata": {},
   "source": [
    "# Count the results using Bin Count\n",
    "* Useful method: numpy.bincount()\n",
    "* Counts the number of times a number appears in a list\n",
    "* Returns an array with counts\n",
    "  * link: https://numpy.org/doc/stable/reference/generated/numpy.bincount.html"
   ]
  },
  {
   "cell_type": "code",
   "execution_count": 2,
   "metadata": {},
   "outputs": [
    {
     "name": "stdout",
     "output_type": "stream",
     "text": [
      "[  0 156 167 170 145 159 203]\n"
     ]
    }
   ],
   "source": [
    "import numpy as np\n",
    "bin_of_dice_rolls=np.bincount(dice_rolls)\n",
    "print(bin_of_dice_rolls)"
   ]
  },
  {
   "cell_type": "markdown",
   "metadata": {},
   "source": [
    "# Histogram\n",
    "* Useful method: np.random.choice()\n",
    "  * link: https://numpy.org/doc/stable/reference/random/generated/numpy.random.choice.html"
   ]
  },
  {
   "cell_type": "code",
   "execution_count": 3,
   "metadata": {},
   "outputs": [
    {
     "ename": "SyntaxError",
     "evalue": "invalid syntax (<ipython-input-3-07f4f0565b2c>, line 8)",
     "output_type": "error",
     "traceback": [
      "\u001b[1;36m  File \u001b[1;32m\"<ipython-input-3-07f4f0565b2c>\"\u001b[1;36m, line \u001b[1;32m8\u001b[0m\n\u001b[1;33m    print(f'#{np.random.choice(['pooh', 'rabbit', 'piglet', 'Christopher'], 5)}0FF00')\u001b[0m\n\u001b[1;37m                                    ^\u001b[0m\n\u001b[1;31mSyntaxError\u001b[0m\u001b[1;31m:\u001b[0m invalid syntax\n"
     ]
    }
   ],
   "source": [
    "import matplotlib.pyplot as plot\n",
    "import numpy as np\n",
    "bins = []\n",
    "for i in range(len(bin_of_dice_rolls)+1):\n",
    "    bins.append(i)\n",
    "print(bins)\n",
    "print(f\"{np.random.choice(['pooh', 'rabbit', 'piglet', 'Christopher'], 5)}\")\n",
    "print(f'#{np.random.choice(['pooh', 'rabbit', 'piglet', 'Christopher'], 5)}0FF00')\n",
    "# plot.hist(array, bins, alignment, graph color, border color)\n",
    "plot.hist(dice_rolls, bins, align='left', color=f'#00FF00' ,edgecolor='black')\n",
    "plot.title(\"Simulation of rolling a fair six-sided die 1000 times\")\n",
    "plot.show()"
   ]
  },
  {
   "cell_type": "code",
   "execution_count": null,
   "metadata": {},
   "outputs": [],
   "source": []
  }
 ],
 "metadata": {
  "interpreter": {
   "hash": "5c3b02fa24688d32a1d09351b7f8eac82a87272ad081601c73caead00a8e1fc4"
  },
  "kernelspec": {
   "display_name": "Python 3",
   "language": "python",
   "name": "python3"
  },
  "language_info": {
   "codemirror_mode": {
    "name": "ipython",
    "version": 3
   },
   "file_extension": ".py",
   "mimetype": "text/x-python",
   "name": "python",
   "nbconvert_exporter": "python",
   "pygments_lexer": "ipython3",
   "version": "3.7.4"
  }
 },
 "nbformat": 4,
 "nbformat_minor": 2
}
