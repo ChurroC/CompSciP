{
 "cells": [
  {
   "cell_type": "markdown",
   "metadata": {},
   "source": [
    "# Randomly Generate Dice Rolls\n",
    "* Use numpy.random.randint(min index, max index + 1, times to repeat)\n",
    "    * link: https://numpy.org/doc/stable/reference/random/generated/numpy.random.randint.html\n",
    "* You should generate numbers numbers between 1 and 6\n",
    "    * These are the values on the faces of a die\n",
    "* You should \"roll the die\" 1000 times\n",
    "    * That is, you should generate 1000 random numbers between 1 and 6 (inclusive)"
   ]
  },
  {
   "cell_type": "code",
   "execution_count": 7,
   "metadata": {},
   "outputs": [
    {
     "name": "stdout",
     "output_type": "stream",
     "text": [
      "[5 3 2 6 3 5 3 6 5 5 5 1 4 5 3 5 2 3 2 4 2 2 4 6 6 2 6 2 3 3 4 6 4 5 6 3 4\n",
      "\n",
      " 2 4 3 4 5 3 4 3 2 6 1 3 3 5 6 3 1 2 3 1 1 5 4 6 6 5 1 2 2 2 5 5 1 6 1 4 2\n",
      "\n",
      " 1 5 2 3 6 3 1 6 3 4 3 3 4 5 5 5 1 4 3 5 4 1 4 5 2 5 1 4 4 5 6 2 5 2 6 2 5\n",
      "\n",
      " 4 1 3 3 6 6 3 3 1 5 3 1 3 4 1 2 4 3 6 5 1 2 3 3 3 1 6 4 6 3 4 2 6 1 1 5 3\n",
      "\n",
      " 4 5 4 3 6 1 2 3 3 5 4 1 1 4 3 1 3 1 1 6 5 5 6 3 6 2 3 2 6 5 1 3 6 6 4 2 4\n",
      "\n",
      " 1 5 3 3 3 4 6 3 6 1 6 2 1 2 2 3 5 5 4 3 5 5 3 2 1 2 3 5 3 6 6 4 6 2 3 1 5\n",
      "\n",
      " 6 4 4 2 3 3 2 4 3 3 3 6 6 1 2 3 6 6 2 2 4 3 5 5 3 3 1 6 6 5 2 5 2 5 6 4 4\n",
      "\n",
      " 4 1 5 2 1 6 1 1 3 2 6 6 3 6 1 6 6 1 3 4 3 2 1 2 6 3 2 4 3 5 3 4 5 3 3 3 6\n",
      "\n",
      " 1 4 1 6 5 3 4 6 4 2 6 1 2 6 1 3 1 3 1 2 2 2 3 4 3 3 6 3 2 2 2 5 3 6 2 3 4\n",
      "\n",
      " 4 6 5 3 3 2 4 3 6 4 4 1 4 2 4 1 2 5 4 4 3 5 4 6 2 2 1 1 6 2 2 1 2 5 1 6 3\n",
      "\n",
      " 4 5 4 6 1 5 1 6 3 6 5 1 2 6 2 1 5 5 1 4 5 5 5 4 3 1 5 3 4 6 5 3 3 2 5 4 6\n",
      "\n",
      " 3 3 1 1 4 1 2 1 1 3 1 5 2 6 5 1 5 1 5 3 6 2 6 2 1 1 1 2 6 6 2 6 3 5 6 6 4\n",
      "\n",
      " 2 2 3 4 2 2 1 5 6 3 1 3 2 5 3 2 4 6 4 2 3 2 6 6 3 3 1 2 5 3 1 1 6 3 6 3 3\n",
      "\n",
      " 4 1 3 2 6 4 2 2 6 4 5 1 2 2 2 5 2 2 5 2 5 5 5 6 3 6 3 6 1 5 3 3 1 5 5 2 6\n",
      "\n",
      " 5 3 4 3 2 1 5 5 6 1 5 3 1 2 2 4 1 5 2 5 2 4 2 3 3 3 3 1 4 2 3 5 6 4 5 4 4\n",
      "\n",
      " 1 5 5 4 3 2 2 5 3 5 2 6 5 3 4 4 2 1 3 2 2 5 4 1 1 3 4 4 5 1 1 3 2 1 3 4 2\n",
      "\n",
      " 4 6 2 4 3 3 1 6 4 4 1 6 1 1 1 6 4 5 6 6 4 3 4 4 3 5 3 4 5 2 5 3 5 4 6 3 5\n",
      "\n",
      " 4 4 3 4 1 4 3 5 2 6 4 2 4 6 4 2 2 4 4 3 5 4 2 5 1 3 6 6 3 2 2 6 2 2 2 2 4\n",
      "\n",
      " 6 4 6 3 6 6 6 4 5 4 1 1 5 1 2 4 5 2 1 2 2 1 6 1 6 4 2 6 3 6 4 3 6 4 5 2 1\n",
      "\n",
      " 3 2 1 4 1 4 5 5 6 1 4 2 1 3 2 1 5 6 2 4 2 6 2 6 6 6 2 2 3 2 3 5 4 2 6 6 1\n",
      "\n",
      " 2 2 3 5 6 3 1 1 3 1 6 4 3 4 4 4 5 6 6 3 3 2 3 3 1 1 2 2 6 3 4 5 6 4 3 1 6\n",
      "\n",
      " 6 1 5 2 6 1 1 6 5 2 6 4 2 4 1 6 2 2 3 6 1 3 2 1 2 3 4 2 5 5 3 1 3 6 4 2 1\n",
      "\n",
      " 1 3 4 2 2 6 6 4 1 5 5 5 1 3 3 3 5 4 4 2 4 3 5 4 6 5 2 2 6 6 6 4 2 1 1 4 3\n",
      "\n",
      " 2 6 2 6 1 1 1 4 3 5 1 5 1 1 3 2 5 5 1 2 6 1 2 1 6 1 2 6 4 4 6 5 2 6 4 2 6\n",
      "\n",
      " 3 2 2 2 3 4 5 5 2 2 6 2 4 2 1 3 5 6 3 1 4 2 4 1 3 5 5 3 1 4 4 4 2 1 2 3 5\n",
      "\n",
      " 2 3 5 6 5 5 3 4 5 3 4 6 6 2 1 1 2 1 6 4 4 3 6 5 3 1 3 3 2 1 6 2 4 3 2 5 2\n",
      "\n",
      " 3 4 3 6 2 2 6 3 2 3 2 1 4 4 4 3 2 2 4 6 1 4 5 4 2 2 2 6 2 4 5 2 4 1 2 4 6\n",
      "\n",
      " 2]\n"
     ]
    }
   ],
   "source": [
    "import numpy\n",
    "\n",
    "\n",
    "dice_rolls=numpy.random.randint(1,7,1000)\n",
    "\n",
    "print(dice_rolls)"
   ]
  },
  {
   "cell_type": "markdown",
   "metadata": {},
   "source": [
    "# Count the results using Bin Count\n",
    "* Useful method: numpy.bincount()\n",
    "* Counts the number of times a number appears in a list\n",
    "* Returns an array with counts\n",
    "  * link: https://numpy.org/doc/stable/reference/generated/numpy.bincount.html"
   ]
  },
  {
   "cell_type": "code",
   "execution_count": 3,
   "metadata": {},
   "outputs": [
    {
     "name": "stdout",
     "output_type": "stream",
     "text": [
      "[  0 166 167 149 198 162 158]\n"
     ]
    }
   ],
   "source": [
    "import numpy as np\n",
    "bin_of_dice_rolls=np.bincount(dice_rolls)\n",
    "print(bin_of_dice_rolls)"
   ]
  },
  {
   "cell_type": "markdown",
   "metadata": {},
   "source": [
    "# Histogram\n",
    "* Useful method: np.random.choice()\n",
    "  * link: https://numpy.org/doc/stable/reference/random/generated/numpy.random.choice.html"
   ]
  },
  {
   "cell_type": "code",
   "execution_count": 61,
   "metadata": {},
   "outputs": [
    {
     "data": {
      "image/png": "[encoded data removed]",
      "text/plain": [
       "<Figure size 432x288 with 1 Axes>"
      ]
     },
     "metadata": {
      "needs_background": "light"
     },
     "output_type": "display_data"
    }
   ],
   "source": [
    "import matplotlib.pyplot as plot\n",
    "import numpy as np\n",
    "\n",
    "bins = []\n",
    "for i in range(len(bin_of_dice_rolls)+1):\n",
    "    bins.append(i)\n",
    "\n",
    "hex_values=[1,2,3,4,5,6,7,8,9,'A','B','C','D','E','F']\n",
    "hex_color=f\"#{np.random.choice(hex_values)}{np.random.choice(hex_values)}{np.random.choice(hex_values)}{np.random.choice(hex_values)}{np.random.choice(hex_values)}{np.random.choice(hex_values)}\"\n",
    "\n",
    "plot.hist(dice_rolls, bins, align='left', color=hex_color ,edgecolor='black')\n",
    "plot.title(\"Simulation of rolling a fair six-sided die 1000 times\")\n",
    "plot.show()"
   ]
  }
 ],
 "metadata": {
  "interpreter": {
   "hash": "5c3b02fa24688d32a1d09351b7f8eac82a87272ad081601c73caead00a8e1fc4"
  },
  "kernelspec": {
   "display_name": "Python 3",
   "language": "python",
   "name": "python3"
  },
  "language_info": {
   "codemirror_mode": {
    "name": "ipython",
    "version": 3
   },
   "file_extension": ".py",
   "mimetype": "text/x-python",
   "name": "python",
   "nbconvert_exporter": "python",
   "pygments_lexer": "ipython3",
   "version": "3.7.4"
  }
 },
 "nbformat": 4,
 "nbformat_minor": 4
}
