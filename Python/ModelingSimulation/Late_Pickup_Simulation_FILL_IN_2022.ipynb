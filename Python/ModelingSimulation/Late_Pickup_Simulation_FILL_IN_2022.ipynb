{
 "cells": [
  {
   "cell_type": "markdown",
   "metadata": {},
   "source": [
    "# Simulation Practice - Wait Time\n",
    "* Every morning, there is a 15% chance that your friend picks you up late on the way to school.\n",
    "    \n",
    "## How many school days in a row will typically pass until your friend is late?"
   ]
  },
  {
   "cell_type": "markdown",
   "metadata": {},
   "source": [
    "### Simulating a single day\n",
    "* Generate a random integer between 1 and 100\n",
    " * #'s 1-15 represent your friend showing up late\n",
    "      * 15% chance\n",
    " * #'s 16-100 represent your friend showing up on time\n",
    "      * 85% chance"
   ]
  },
  {
   "cell_type": "code",
   "execution_count": 3,
   "metadata": {},
   "outputs": [
    {
     "name": "stdout",
     "output_type": "stream",
     "text": [
      "On Time\n"
     ]
    }
   ],
   "source": [
    "# import the numpy package\n",
    "import numpy as np\n",
    "\n",
    "# Generate random number between 1-100\n",
    "single_day = np.random.randint(1,101)\n",
    "\n",
    "# Test the percentage ranges\n",
    "if (single_day <= 15):\n",
    "    print(\"Late\")\n",
    "else:\n",
    "    print(\"On Time\")"
   ]
  },
  {
   "cell_type": "markdown",
   "metadata": {},
   "source": [
    "#### Copy and paste code into a function\n",
    "* Return a String of \"Late\" or \"On Time\"\n",
    "* Abstraction!"
   ]
  },
  {
   "cell_type": "code",
   "execution_count": 4,
   "metadata": {},
   "outputs": [],
   "source": [
    "# Create a function to simulate a single day\n",
    "def single_day_trial():\n",
    "    single_day = np.random.randint(1,101)\n",
    "    if (single_day <= 15):\n",
    "        return \"Late\"\n",
    "    else:\n",
    "        return \"On Time\""
   ]
  },
  {
   "cell_type": "markdown",
   "metadata": {},
   "source": [
    "### Simulate a single trial until your friend shows up late\n",
    "* Create a variable that tracks the number of consecutive days on time\n",
    "    * Start at 0!\n",
    "* Utilize a \"while\" loop\n",
    "    * While your single day trial returns \"On Time\", add one to your consecutive days variable\n",
    "* Print the variable tracking the number of consecutive days before your friend shows up late"
   ]
  },
  {
   "cell_type": "code",
   "execution_count": 5,
   "metadata": {},
   "outputs": [
    {
     "name": "stdout",
     "output_type": "stream",
     "text": [
      "1\n"
     ]
    }
   ],
   "source": [
    "#Import the numpy package\n",
    "import numpy as np\n",
    "\n",
    "# Create variables\n",
    "consecutive_days = 0\n",
    "\n",
    "# While loop\n",
    "while (single_day_trial() == \"On Time\"):\n",
    "    consecutive_days += 1\n",
    "    \n",
    "# Print results\n",
    "print(consecutive_days)"
   ]
  },
  {
   "cell_type": "markdown",
   "metadata": {},
   "source": [
    "#### Copy and paste code into a function\n",
    "* Return the number of consecutive days your friend showed up on time\n",
    "* Abstraction!"
   ]
  },
  {
   "cell_type": "code",
   "execution_count": 6,
   "metadata": {},
   "outputs": [],
   "source": [
    "# Create a function that simulates a complete single trial\n",
    "def consecutive_days_trial():\n",
    "    consecutive_days = 0\n",
    "\n",
    "    while (single_day_trial() == \"On Time\"):\n",
    "        consecutive_days = consecutive_days + 1\n",
    "    return consecutive_days"
   ]
  },
  {
   "cell_type": "markdown",
   "metadata": {},
   "source": [
    "### Finding the average number of consecutive days until your friend shows up late\n",
    "* Create an array to hold your results\n",
    "* Create a loop to run 10000 times\n",
    "    * Add result of each consecutive days trial to the array"
   ]
  },
  {
   "cell_type": "code",
   "execution_count": 13,
   "metadata": {},
   "outputs": [
    {
     "name": "stdout",
     "output_type": "stream",
     "text": [
      "[5, 6, 7, 1, 1, 4, 7, 5, 4, 9, 3, 0, 4, 2, 6, 5, 2, 11, 1, 3, 13, 10, 23, 6, 7, 3, 1, 3, 8, 6, 0, 5, 2, 0, 2, 5, 0, 1, 14, 2, 0, 2, 15, 1, 6, 5, 3, 5, 0, 1]\n",
      "66\n"
     ]
    }
   ],
   "source": [
    "# Create variables\n",
    "consecutive_days_results = []\n",
    "\n",
    "# Create a loop that repeats a large number of trials (5 customers), in this case 10000 times\n",
    "for i in range(10000):\n",
    "    consecutive_days_results.append(consecutive_days_trial())\n",
    "    \n",
    "# Print the results\n",
    "print(consecutive_days_results[:50])\n",
    "print(max(consecutive_days_results))"
   ]
  },
  {
   "cell_type": "markdown",
   "metadata": {},
   "source": [
    "### Analyze the results"
   ]
  },
  {
   "cell_type": "markdown",
   "metadata": {},
   "source": [
    "#### Calculate the sum of all trials in the list"
   ]
  },
  {
   "cell_type": "code",
   "execution_count": 8,
   "metadata": {},
   "outputs": [
    {
     "name": "stdout",
     "output_type": "stream",
     "text": [
      "56898\n"
     ]
    }
   ],
   "source": [
    "# Create variables\n",
    "total_trials = 10000\n",
    "sum_of_trials = 0\n",
    "\n",
    "# Loop through each entry, adding it to the sum\n",
    "for i in consecutive_days_results:\n",
    "    sum_of_trials+=i\n",
    "        \n",
    "# Print the results\n",
    "print(sum_of_trials)"
   ]
  },
  {
   "cell_type": "markdown",
   "metadata": {},
   "source": [
    "#### Calculate the average\n",
    "* Average = sum of trials / total trials"
   ]
  },
  {
   "cell_type": "code",
   "execution_count": 9,
   "metadata": {},
   "outputs": [
    {
     "name": "stdout",
     "output_type": "stream",
     "text": [
      "5.6898\n"
     ]
    }
   ],
   "source": [
    "# Calculate the average\n",
    "average = sum_of_trials/total_trials\n",
    "\n",
    "# Print the results\n",
    "print(average)"
   ]
  },
  {
   "cell_type": "markdown",
   "metadata": {},
   "source": [
    "### Graph the results"
   ]
  },
  {
   "cell_type": "code",
   "execution_count": 10,
   "metadata": {},
   "outputs": [
    {
     "name": "stdout",
     "output_type": "stream",
     "text": [
      "[1460 1282 1122  932  776  657  558  503  408  345  290  268  187  186\n",
      "  148  143   85   96   77   72   66   41   57   34   22   22   22   24\n",
      "   11   15   12   14   11    9    3    7    7    7    5    4    0    3\n",
      "    1    1    1    1    1    0    1    0    0    0    0    0    0    0\n",
      "    1    0    0    1    0    0    0    0    0    1]\n"
     ]
    }
   ],
   "source": [
    "# Count the results using bincount()\n",
    "count_consecutive_days = np.bincount(consecutive_days_results)\n",
    "print(count_consecutive_days)"
   ]
  },
  {
   "cell_type": "markdown",
   "metadata": {},
   "source": [
    "## Histogram"
   ]
  },
  {
   "cell_type": "code",
   "execution_count": 11,
   "metadata": {},
   "outputs": [
    {
     "name": "stdout",
     "output_type": "stream",
     "text": [
      "[0, 1, 2, 3, 4, 5, 6, 7, 8, 9, 10, 11, 12, 13, 14, 15, 16, 17, 18, 19, 20, 21, 22, 23, 24, 25, 26, 27, 28, 29, 30, 31, 32, 33, 34, 35, 36, 37, 38, 39, 40, 41, 42, 43, 44, 45, 46, 47, 48, 49, 50, 51, 52, 53, 54, 55, 56, 57, 58, 59, 60, 61, 62, 63, 64, 65]\n"
     ]
    },
    {
     "data": {
      "image/png": "[encoded data removed]",
      "text/plain": [
       "<Figure size 432x288 with 1 Axes>"
      ]
     },
     "metadata": {
      "needs_background": "light"
     },
     "output_type": "display_data"
    }
   ],
   "source": [
    "import matplotlib.pyplot as plt #importing a module for plotting\n",
    "%matplotlib inline \n",
    "# this allows us to show graphs in a notebook\n",
    "\n",
    "# Create the bins array\n",
    "bins = []\n",
    "length = len(count_consecutive_days)\n",
    "for i in range(length):\n",
    "    bins.append(i)\n",
    "print(bins)\n",
    "\n",
    "# plt.hist(array, dividers/bins, alignment, graph color, border color)\n",
    "plt.hist(consecutive_days_results,bins,align='mid',color=\"blue\",edgecolor='k')\n",
    "\n",
    "# Labels\n",
    "plt.title(\"Consecutive Days On Time\")\n",
    "plt.ylabel(\"Frequency\")\n",
    "plt.xlabel(\"Number of Consecutive Days\")\n",
    "\n",
    "plt.show()"
   ]
  },
  {
   "cell_type": "markdown",
   "metadata": {},
   "source": [
    "### \"Grouped\" Histogram"
   ]
  },
  {
   "cell_type": "code",
   "execution_count": 12,
   "metadata": {},
   "outputs": [
    {
     "data": {
      "image/png": "[encoded data removed]",
      "text/plain": [
       "<Figure size 432x288 with 1 Axes>"
      ]
     },
     "metadata": {
      "needs_background": "light"
     },
     "output_type": "display_data"
    }
   ],
   "source": [
    "# Import matplotlib\n",
    "import matplotlib.pyplot as plt\n",
    "%matplotlib inline\n",
    "\n",
    "# Create bins array\n",
    "bins = []\n",
    "for i in range(12):\n",
    "    bin = i*5\n",
    "    bins.append(bin)\n",
    "\n",
    "# Create title and lables\n",
    "plt.title(\"Consecutive Days On Time\")\n",
    "plt.ylabel(\"Frequency\")\n",
    "plt.xlabel(\"Number of Consecutive Days\")\n",
    "\n",
    "# plt.hist(array, dividers/bins, alignment, graph color, border color)\n",
    "plt.hist(consecutive_days_results,bins,align='mid',color=\"blue\",edgecolor='k')\n",
    "\n",
    "# Show\n",
    "plt.show()"
   ]
  }
 ],
 "metadata": {
  "kernelspec": {
   "display_name": "Python 3",
   "language": "python",
   "name": "python3"
  },
  "language_info": {
   "codemirror_mode": {
    "name": "ipython",
    "version": 3
   },
   "file_extension": ".py",
   "mimetype": "text/x-python",
   "name": "python",
   "nbconvert_exporter": "python",
   "pygments_lexer": "ipython3",
   "version": "3.7.4"
  }
 },
 "nbformat": 4,
 "nbformat_minor": 2
}
