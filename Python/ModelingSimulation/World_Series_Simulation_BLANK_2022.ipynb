{
 "cells": [
  {
   "cell_type": "markdown",
   "metadata": {},
   "source": [
    "# Baseball World Series Simulation\n",
    "## On average, how many games (out of 7) does it take for a team to World Series?\n",
    "* An American League (AL) baseball team is considered to have a 60% chance of beating the National League (NL) team in any given World Series game. A team wins the World Series by being the first to win four individual games."
   ]
  },
  {
   "cell_type": "markdown",
   "metadata": {},
   "source": [
    "### Individual game\n",
    "* Generate a random integer between 1 and 100\n",
    " * #'s 1-60 will represent an American League (AL) team win\n",
    "   * 60% chance to win\n",
    " * #'s 61-100 will represent a National League (NL) team win \n",
    "   * 40% chance to win"
   ]
  },
  {
   "cell_type": "code",
   "execution_count": 2,
   "metadata": {},
   "outputs": [
    {
     "name": "stdout",
     "output_type": "stream",
     "text": [
      "60% chance to win\n"
     ]
    }
   ],
   "source": [
    "# Import the numpy package\n",
    "import numpy as np\n",
    "\n",
    "# Generate random number between 1-100\n",
    "random_number=np.random.randint(1,101)\n",
    "\n",
    "# Test the percentage ranges\n",
    "if random_number<=60:\n",
    "    print('60% chance to win')\n",
    "else:\n",
    "    print('40% chance to win')"
   ]
  },
  {
   "cell_type": "markdown",
   "metadata": {},
   "source": [
    "#### Copy and paste code into a function\n",
    "* Return a String of the winning division\n",
    "* Abstraction!"
   ]
  },
  {
   "cell_type": "code",
   "execution_count": 3,
   "metadata": {},
   "outputs": [
    {
     "name": "stdout",
     "output_type": "stream",
     "text": [
      "AL\n"
     ]
    }
   ],
   "source": [
    "import numpy as np\n",
    "# Create function that represents one game being played\n",
    "def one_game_played():\n",
    "    random_number=np.random.randint(1,101)\n",
    "    if random_number<=60:\n",
    "        return \"AL\"\n",
    "    else:\n",
    "        return \"NL\"\n",
    "print(one_game_played())"
   ]
  },
  {
   "cell_type": "markdown",
   "metadata": {},
   "source": [
    "### Individual World Series\n",
    "* Create two variables for AL and NL win counts\n",
    "* While both counts are below 4 wins, play a single game\n",
    "  * Update variables appropriately\n",
    "* Return a tuple in the form (winning division,total games played)"
   ]
  },
  {
   "cell_type": "code",
   "execution_count": 4,
   "metadata": {},
   "outputs": [
    {
     "name": "stdout",
     "output_type": "stream",
     "text": [
      "AL 4\n"
     ]
    }
   ],
   "source": [
    "# Import the numpy package\n",
    "import numpy as np\n",
    "\n",
    "# Create variables\n",
    "al_wins=0\n",
    "nl_wins=0\n",
    "        \n",
    "# While loop\n",
    "while al_wins < 4 and nl_wins < 4:\n",
    "    wsg = one_game_played()\n",
    "    if wsg == \"AL\": al_wins += 1\n",
    "    else: nl_wins += 1\n",
    "\n",
    "# Total games played before a division reached four wins\n",
    "total_num_games = al_wins+nl_wins\n",
    "\n",
    "# Print winner and games\n",
    "if al_wins == 4:\n",
    "    print(f\"AL {total_num_games}\")\n",
    "elif nl_wins == 4:\n",
    "    print(f\"NL {total_num_games}\")"
   ]
  },
  {
   "cell_type": "markdown",
   "metadata": {},
   "source": [
    "## Defining an individual trial\n",
    "#### Copy and paste code into a function\n",
    "* Return a tuple in the format (winning division, total number of games played)\n",
    "* Abstraction!"
   ]
  },
  {
   "cell_type": "code",
   "execution_count": 5,
   "metadata": {},
   "outputs": [
    {
     "name": "stdout",
     "output_type": "stream",
     "text": [
      "('NL', 7)\n"
     ]
    }
   ],
   "source": [
    "# Create function to represent one trial of a World Series \n",
    "# Import the numpy package\n",
    "import numpy as np\n",
    "\n",
    "def individual_trial():\n",
    "    al_wins=0\n",
    "    nl_wins=0\n",
    "\n",
    "    while al_wins < 4 and nl_wins < 4:\n",
    "        wsg = one_game_played()\n",
    "        if wsg == \"AL\": al_wins += 1\n",
    "        else: nl_wins += 1\n",
    "\n",
    "    total_num_games = al_wins+nl_wins\n",
    "\n",
    "    if al_wins == 4: return (\"AL\", total_num_games)\n",
    "    else: return (\"NL\", total_num_games)\n",
    "print(individual_trial())"
   ]
  },
  {
   "cell_type": "markdown",
   "metadata": {},
   "source": [
    "### Finding the average number of total games played to win a World Series\n",
    "#### Simulate a large number of individual trials of a World Series, analyze the results\n",
    "* Create an array to hold your results\n",
    "* Create a loop to run 10,000 times\n",
    "    * Add results of a single World Series to the array"
   ]
  },
  {
   "cell_type": "code",
   "execution_count": 6,
   "metadata": {},
   "outputs": [
    {
     "name": "stdout",
     "output_type": "stream",
     "text": [
      "[('AL', 6), ('AL', 6), ('NL', 7), ('NL', 6), ('AL', 5), ('AL', 7), ('AL', 7), ('NL', 7), ('AL', 6), ('AL', 6)]\n"
     ]
    }
   ],
   "source": [
    "# Create variables\n",
    "test_amount=10000\n",
    "ws_results=[]\n",
    "\n",
    "# Create a loop that repeats a large number of trials (World Series), in this case 10,000\n",
    "for i in range(test_amount):\n",
    "    ws_results.append(individual_trial())\n",
    "    \n",
    "# Print the results\n",
    "print(ws_results[:10])"
   ]
  },
  {
   "cell_type": "markdown",
   "metadata": {},
   "source": [
    "### Analyze the results"
   ]
  },
  {
   "cell_type": "markdown",
   "metadata": {},
   "source": [
    "#### Find the counts of each number of total games (How many times did it take 4, 5, 6, 7 games to win?)\n",
    "* Create an array to hold the results\n",
    "* Loop through each tuple, read second value (total games played)\n",
    "* Add the value to array"
   ]
  },
  {
   "cell_type": "code",
   "execution_count": 7,
   "metadata": {},
   "outputs": [
    {
     "name": "stdout",
     "output_type": "stream",
     "text": [
      "[6, 6, 7, 6, 5, 7, 7, 7, 6, 6]\n"
     ]
    }
   ],
   "source": [
    "# Create variables\n",
    "final_results=[]\n",
    "\n",
    "# Loop through each individual trial within the ws_results array\n",
    "    # Store second value of the tuple at index 1 (total number of games)\n",
    "    # Add game total to the total_games_array\n",
    "for i in ws_results:\n",
    "    final_results.append(i[1])\n",
    "    \n",
    "\n",
    "# Print results\n",
    "print(final_results[:10])"
   ]
  },
  {
   "cell_type": "markdown",
   "metadata": {},
   "source": [
    "#### Create bins for each total"
   ]
  },
  {
   "cell_type": "code",
   "execution_count": 8,
   "metadata": {},
   "outputs": [
    {
     "name": "stdout",
     "output_type": "stream",
     "text": [
      "[   0    0    0    0 1518 2700 3008 2774]\n"
     ]
    }
   ],
   "source": [
    "# Create the bin\n",
    "bin_of_results=[]\n",
    "bin_of_results = np.bincount(final_results)\n",
    "# Print the results\n",
    "print(bin_of_results[:10])"
   ]
  },
  {
   "cell_type": "code",
   "execution_count": 9,
   "metadata": {},
   "outputs": [
    {
     "name": "stdout",
     "output_type": "stream",
     "text": [
      "10000\n"
     ]
    }
   ],
   "source": [
    "# Make sure this adds to 10,000 trials!\n",
    "check_if_10000=0\n",
    "for i in bin_of_results:\n",
    "    check_if_10000+=i\n",
    "print(check_if_10000)"
   ]
  },
  {
   "cell_type": "markdown",
   "metadata": {},
   "source": [
    "#### Calculate the average number of games played in each trial\n",
    "* This will represent the average number of games played to win the World Series after 10,000 trials"
   ]
  },
  {
   "cell_type": "code",
   "execution_count": 10,
   "metadata": {},
   "outputs": [
    {
     "data": {
      "text/plain": [
       "5.7038"
      ]
     },
     "execution_count": 10,
     "metadata": {},
     "output_type": "execute_result"
    }
   ],
   "source": [
    "# Use np.average(array)\n",
    "np.average(final_results)"
   ]
  },
  {
   "cell_type": "markdown",
   "metadata": {},
   "source": [
    "### Graph the results"
   ]
  },
  {
   "cell_type": "markdown",
   "metadata": {},
   "source": [
    "#### Histogram\n",
    "* Frequency chart"
   ]
  },
  {
   "cell_type": "code",
   "execution_count": 11,
   "metadata": {},
   "outputs": [
    {
     "name": "stdout",
     "output_type": "stream",
     "text": [
      "[0, 1, 2, 3, 4, 5, 6, 7, 8]\n"
     ]
    },
    {
     "data": {
      "image/png": "[encoded data removed]",
      "text/plain": [
       "<Figure size 432x288 with 1 Axes>"
      ]
     },
     "metadata": {
      "needs_background": "light"
     },
     "output_type": "display_data"
    }
   ],
   "source": [
    "# Import the library\n",
    "import matplotlib.pyplot as plot\n",
    "%matplotlib inline  \n",
    "# Magic to allow the graph to display directly in this notebook\n",
    "\n",
    "# Create bins/dividers for your data\n",
    "bins = []\n",
    "for i in range(len(bin_of_results)+1):\n",
    "    bins.append(i)\n",
    "print(bins)\n",
    "\n",
    "# plot.hist(array, bins, alignment, graph color, border color)\n",
    "plot.hist(final_results, bins, align='left', color='lightgreen' ,edgecolor='black')\n",
    "plot.title(\"Average Total Games Played To Win a World Series\")\n",
    "plot.show()"
   ]
  },
  {
   "cell_type": "markdown",
   "metadata": {},
   "source": [
    "#### Pie Chart\n",
    "* Percentage chart"
   ]
  },
  {
   "cell_type": "code",
   "execution_count": 28,
   "metadata": {},
   "outputs": [
    {
     "name": "stdout",
     "output_type": "stream",
     "text": [
      "[0, 1, 2, 3, 4, 5, 6, 7, 8]\n",
      "[3, 45, 6, 7]\n",
      "[6, 6, 7, 6, 5, 7, 7, 7, 6, 6, 4, 5, 5, 6, 5, 5, 5, 6, 7, 5, 7, 7, 7, 5, 5, 5, 7, 5, 5, 7, 7, 6, 7, 5, 7, 4, 7, 7, 7, 6, 5, 6, 6, 5, 7, 6, 5, 6, 5, 4, 5, 7, 6, 5, 6, 6, 7, 7, 7, 7, 6, 5, 5, 7, 6, 5, 5, 5, 6, 4, 5, 5, 5, 5, 6, 6, 7, 6, 4, 4, 4, 7, 7, 5, 7, 7, 5, 7, 7, 6, 4, 6, 6, 7, 4, 5, 5, 5, 7, 4, 4, 5, 6, 5, 5, 7, 6, 7, 4, 5, 6, 5, 5, 6, 6, 4, 5, 7, 5, 5, 7, 5, 5, 7, 6, 5, 6, 7, 6, 5, 7, 7, 5, 6, 6, 7, 5, 5, 6, 5, 6, 7, 4, 5, 5, 6, 5, 6, 5, 7, 6, 7, 6, 6, 5, 7, 5, 6, 4, 4, 7, 4, 5, 7, 5, 7, 5, 6, 5, 5, 5, 5, 5, 6, 7, 4, 5, 7, 7, 5, 7, 5, 6, 6, 5, 6, 5, 5, 7, 7, 7, 6, 5, 7, 4, 5, 7, 5, 5, 7, 6, 4, 5, 7, 7, 5, 6, 5, 4, 5, 7, 5, 7, 7, 6, 6, 7, 4, 7, 5, 7, 4, 7, 5, 6, 7, 6, 7, 5, 7, 6, 5, 4, 4, 4, 7, 7, 6, 6, 5, 6, 7, 7, 7, 5, 6, 6, 6, 4, 5, 7, 5, 6, 5, 6, 4, 6, 4, 4, 7, 4, 6, 7, 5, 6, 7, 5, 5, 6, 4, 7, 5, 6, 4, 5, 7, 5, 6, 6, 5, 6, 4, 5, 7, 6, 5, 5, 6, 4, 7, 6, 5, 6, 7, 7, 6, 4, 5, 7, 7, 7, 5, 5, 5, 5, 5, 5, 7, 4, 6, 7, 6, 7, 7, 6, 6, 5, 6, 7, 6, 4, 7, 6, 6, 7, 7, 6, 7, 5, 5, 4, 7, 5, 7, 5, 4, 7, 7, 5, 5, 6, 6, 5, 5, 5, 6, 7, 4, 4, 7, 4, 5, 5, 6, 6, 7, 7, 6, 4, 7, 5, 6, 7, 4, 4, 6, 4, 4, 5, 7, 6, 5, 4, 6, 5, 4, 5, 7, 6, 4, 5, 5, 7, 5, 6, 7, 4, 6, 7, 5, 7, 5, 4, 5, 5, 7, 6, 6, 7, 5, 4, 5, 5, 6, 4, 5, 7, 4, 7, 6, 7, 6, 5, 6, 5, 6, 7, 5, 6, 6, 7, 7, 5, 7, 5, 6, 6, 4, 6, 7, 4, 7, 6, 7, 6, 5, 5, 7, 6, 7, 4, 5, 4, 6, 7, 4, 5, 4, 4, 6, 5, 7, 6, 6, 7, 7, 4, 7, 6, 6, 7, 7, 4, 4, 5, 6, 5, 5, 5, 6, 5, 5, 6, 7, 4, 5, 7, 7, 5, 5, 7, 5, 7, 6, 7, 7, 7, 7, 7, 7, 5, 5, 7, 6, 7, 7, 5, 4, 5, 7, 5, 7, 5, 7, 7, 7, 7, 6, 6, 7, 6, 6, 7, 5, 6, 7, 7, 6, 6, 5, 6, 7, 7, 5, 4, 7, 5, 7, 6, 7, 7, 5, 5, 4, 6, 4, 5, 6, 5, 4, 5, 7, 4, 6, 6, 7, 7, 7, 6, 7, 7, 7, 6, 5, 7, 7, 6, 5, 5, 7, 5, 5, 7, 6, 4, 7, 5, 5, 4, 4, 5, 6, 6, 5, 5, 7, 4, 6, 5, 6, 5, 4, 7, 6, 5, 7, 7, 7, 5, 6, 6, 5, 6, 7, 6, 7, 5, 5, 7, 4, 4, 7, 4, 5, 6, 7, 7, 6, 4, 7, 7, 4, 4, 6, 6, 7, 6, 7, 6, 5, 7, 5, 7, 5, 6, 7, 5, 7, 5, 6, 7, 7, 5, 6, 5, 6, 7, 5, 5, 6, 5, 4, 7, 5, 6, 6, 6, 4, 6, 5, 7, 7, 7, 6, 5, 5, 5, 6, 6, 6, 7, 4, 7, 6, 5, 7, 7, 6, 6, 6, 5, 5, 4, 6, 4, 7, 4, 7, 5, 7, 6, 6, 4, 7, 4, 7, 4, 4, 4, 6, 7, 7, 7, 6, 6, 6, 6, 5, 6, 6, 6, 7, 6, 7, 6, 5, 6, 6, 7, 7, 7, 5, 6, 4, 6, 6, 4, 5, 6, 5, 6, 4, 5, 4, 5, 5, 4, 6, 7, 5, 5, 6, 6, 5, 4, 5, 7, 7, 4, 5, 4, 7, 6, 5, 5, 5, 6, 7, 5, 4, 6, 6, 6, 6, 6, 6, 5, 7, 6, 6, 5, 7, 4, 5, 6, 6, 6, 4, 6, 6, 5, 5, 5, 6, 7, 4, 7, 5, 5, 6, 7, 6, 7, 6, 7, 6, 7, 5, 5, 4, 5, 5, 5, 6, 6, 6, 7, 7, 6, 6, 6, 4, 6, 6, 4, 6, 4, 5, 6, 6, 5, 6, 6, 6, 7, 6, 7, 6, 4, 5, 5, 4, 6, 7, 6, 6, 6, 5, 6, 5, 7, 4, 6, 7, 4, 4, 6, 7, 6, 6, 7, 7, 4, 7, 5, 5, 5, 4, 6, 6, 7, 7, 7, 6, 4, 4, 6, 4, 7, 4, 5, 7, 5, 5, 6, 4, 4, 6, 4, 7, 7, 6, 6, 6, 4, 6, 5, 7, 5, 6, 5, 6, 6, 5, 6, 6, 5, 6, 7, 4, 5, 5, 5, 4, 6, 6, 6, 6, 6, 7, 6, 7, 5, 4, 4, 7, 7, 6, 6, 6, 7, 5, 6, 5, 7, 6, 7, 6, 7, 5, 6, 5, 6, 4, 7, 6, 4, 6, 6, 7, 7, 6, 6, 6, 7, 6, 6, 7, 5, 5, 5, 4, 7, 7, 4, 6, 4, 6, 6, 6, 5, 5, 4, 5, 4, 4, 5, 5, 6, 7, 5, 7, 4, 6, 7, 7, 4, 6, 6, 5, 5, 7, 5, 7, 5, 5, 4, 6, 5, 6, 7, 7, 7, 6, 6, 7, 5, 6, 6, 6, 6, 5, 6, 5, 4, 6, 7, 5, 7, 5, 5, 7, 7, 4, 5, 6, 7, 6, 4, 7, 5, 7, 4, 5, 7, 4, 5, 6, 6, 6, 6, 7, 7, 5, 7, 6, 5, 7, 6, 4, 6, 5, 7, 5, 6, 7, 7, 7, 5, 7, 6, 4, 5, 5, 4, 5, 6, 7, 7, 5, 6, 6, 5, 6, 5, 6, 5, 7, 6, 6, 6, 7, 6, 6, 7, 6, 6, 4, 4, 5, 7, 6, 7, 6, 7, 5, 5, 7, 4, 7, 7, 6, 7, 6, 6, 7, 5, 7, 6, 5, 7, 5, 5, 6, 7, 6, 7, 6, 4, 6, 4, 6, 6, 5, 5, 5, 5, 6, 6, 5, 5, 6, 7, 4, 6, 5, 6, 4, 5, 7, 7, 7, 7, 5, 4, 6, 7, 5, 4, 7, 5, 4, 5, 7, 7, 7, 4, 5, 5, 7, 6, 7, 7, 6, 7, 5, 4, 7, 6, 7, 6, 7, 7, 7, 6, 6, 7, 7, 6, 7, 7, 6, 5, 4, 5, 4, 7, 6, 5, 6, 6, 7, 6, 7, 6, 5, 6, 4, 5, 5, 6, 5, 4, 7, 6, 4, 7, 5, 7, 5, 7, 7, 5, 7, 6, 4, 6, 5, 6, 5, 6, 4, 4, 7, 4, 7, 5, 6, 5, 7, 6, 7, 6, 6, 7, 7, 5, 6, 7, 7, 7, 4, 5, 5, 4, 7, 6, 7, 7, 6, 6, 6, 6, 7, 6, 5, 5, 6, 7, 5, 4, 6, 7, 7, 4, 5, 7, 7, 6, 6, 6, 5, 5, 4, 7, 5, 5, 5, 5, 7, 7, 6, 5, 5, 6, 5, 6, 5, 7, 7, 6, 6, 5, 7, 7, 5, 6, 6, 5, 6, 4, 5, 4, 4, 4, 5, 5, 5, 6, 5, 6, 5, 5, 5, 7, 4, 5, 6, 6, 5, 6, 5, 5, 6, 7, 6, 7, 7, 6, 5, 5, 7, 6, 7, 6, 7, 5, 5, 7, 5, 7, 5, 5, 7, 7, 7, 7, 7, 6, 6, 7, 5, 7, 4, 7, 4, 7, 6, 6, 7, 7, 7, 7, 6, 4, 4, 4, 5, 7, 4, 6, 4, 4, 6, 6, 5, 6, 5, 7, 5, 6, 6, 6, 5, 5, 6, 6, 5, 6, 7, 6, 6, 6, 7, 7, 4, 4, 7, 4, 5, 6, 5, 4, 5, 7, 6, 7, 6, 5, 4, 7, 5, 7, 6, 5, 7, 6, 6, 4, 6, 5, 6, 6, 7, 6, 6, 4, 7, 4, 6, 7, 5, 6, 5, 4, 5, 4, 7, 4, 7, 7, 5, 6, 4, 5, 5, 7, 7, 6, 4, 5, 4, 6, 5, 6, 5, 6, 5, 6, 7, 4, 4, 5, 5, 5, 4, 7, 7, 5, 5, 4, 7, 4, 6, 7, 5, 5, 6, 4, 5, 4, 5, 5, 4, 7, 6, 6, 6, 6, 5, 4, 7, 5, 6, 5, 7, 7, 7, 5, 6, 6, 7, 5, 5, 7, 6, 6, 7, 7, 5, 6, 5, 6, 6, 6, 5, 7, 4, 5, 7, 6, 5, 7, 7, 5, 7, 6, 6, 7, 6, 7, 7, 4, 5, 5, 7, 7, 5, 7, 7, 5, 6, 5, 7, 7, 7, 5, 5, 7, 5, 5, 5, 7, 6, 6, 6, 4, 7, 5, 7, 6, 5, 5, 5, 6, 5, 7, 6, 6, 6, 5, 5, 5, 4, 7, 5, 5, 5, 5, 5, 6, 6, 5, 4, 7, 5, 5, 6, 4, 7, 7, 6, 5, 7, 4, 6, 6, 7, 5, 7, 4, 6, 5, 7, 6, 4, 5, 6, 6, 6, 7, 6, 7, 7, 4, 7, 7, 5, 6, 7, 4, 5, 6, 7, 7, 4, 7, 4, 5, 7, 6, 4, 4, 4, 7, 6, 4, 7, 6, 5, 5, 5, 4, 7, 6, 4, 7, 7, 4, 5, 6, 6, 7, 7, 7, 6, 7, 7, 6, 5, 7, 6, 7, 5, 4, 6, 7, 6, 5, 7, 7, 6, 6, 4, 4, 6, 6, 4, 5, 4, 4, 7, 6, 6, 4, 5, 7, 7, 7, 7, 5, 5, 7, 7, 6, 6, 6, 7, 6, 6, 5, 5, 7, 5, 4, 7, 7, 4, 7, 7, 7, 7, 6, 4, 6, 5, 6, 4, 5, 6, 6, 4, 5, 4, 7, 4, 7, 5, 6, 6, 6, 7, 7, 5, 4, 5, 6, 5, 6, 6, 7, 6, 4, 4, 7, 5, 7, 4, 7, 6, 7, 4, 7, 5, 5, 7, 6, 7, 5, 7, 7, 5, 6, 6, 6, 7, 4, 4, 4, 6, 7, 5, 7, 6, 6, 5, 7, 7, 5, 7, 7, 5, 5, 7, 4, 4, 5, 4, 5, 7, 5, 7, 7, 5, 4, 5, 7, 5, 5, 5, 6, 6, 5, 5, 6, 4, 7, 5, 4, 5, 4, 7, 6, 7, 5, 7, 7, 7, 7, 5, 7, 5, 7, 4, 7, 6, 6, 5, 6, 6, 5, 4, 6, 5, 6, 4, 5, 7, 5, 6, 5, 5, 7, 5, 5, 5, 6, 4, 6, 6, 6, 7, 6, 6, 6, 4, 6, 7, 4, 6, 6, 5, 4, 5, 5, 5, 5, 6, 5, 7, 7, 5, 7, 5, 5, 6, 6, 7, 7, 7, 7, 6, 4, 4, 6, 6, 5, 7, 6, 4, 6, 6, 5, 7, 6, 4, 7, 6, 5, 4, 5, 5, 6, 5, 7, 4, 5, 7, 7, 5, 5, 6, 5, 4, 6, 6, 5, 5, 5, 6, 6, 4, 7, 7, 6, 6, 7, 7, 6, 7, 5, 7, 4, 7, 6, 5, 5, 5, 4, 6, 4, 6, 6, 5, 7, 6, 5, 6, 5, 4, 6, 4, 5, 4, 4, 6, 6, 6, 7, 5, 4, 5, 7, 7, 4, 6, 7, 6, 4, 7, 5, 5, 7, 7, 7, 7, 6, 6, 7, 4, 4, 5, 7, 4, 6, 6, 5, 4, 6, 7, 6, 6, 6, 6, 5, 4, 6, 6, 6, 6, 7, 5, 5, 4, 6, 4, 6, 5, 6, 7, 6, 6, 6, 5, 6, 6, 4, 6, 7, 7, 5, 6, 6, 7, 7, 5, 5, 4, 6, 5, 7, 5, 7, 7, 6, 7, 5, 7, 7, 7, 6, 7, 4, 5, 6, 4, 6, 5, 4, 7, 7, 5, 4, 6, 5, 7, 6, 4, 7, 7, 7, 6, 7, 7, 6, 7, 4, 4, 6, 6, 6, 7, 5, 6, 4, 6, 6, 5, 6, 7, 6, 7, 4, 6, 6, 6, 5, 5, 7, 6, 7, 5, 6, 5, 5, 5, 6, 4, 7, 5, 6, 7, 6, 6, 4, 5, 5, 5, 5, 4, 7, 7, 6, 7, 6, 4, 6, 5, 5, 5, 5, 5, 6, 4, 7, 4, 4, 6, 7, 5, 5, 7, 7, 7, 4, 7, 4, 6, 4, 6, 6, 5, 6, 6, 6, 4, 7, 7, 5, 7, 7, 4, 5, 5, 5, 6, 6, 5, 6, 6, 5, 4, 7, 6, 4, 4, 5, 7, 5, 6, 7, 5, 6, 6, 6, 6, 4, 7, 5, 5, 7, 5, 7, 6, 6, 6, 4, 7, 7, 4, 5, 4, 4, 7, 4, 6, 6, 7, 7, 5, 4, 5, 7, 7, 7, 4, 5, 5, 7, 4, 6, 5, 7, 7, 4, 6, 4, 7, 5, 6, 6, 7, 7, 5, 4, 5, 6, 5, 7, 6, 6, 5, 5, 6, 4, 6, 4, 4, 6, 5, 5, 7, 7, 5, 7, 6, 7, 7, 7, 5, 4, 6, 7, 7, 5, 7, 7, 5, 5, 6, 5, 5, 5, 6, 5, 7, 6, 5, 4, 7, 6, 6, 7, 7, 5, 5, 5, 4, 5, 7, 7, 4, 7, 6, 6, 5, 5, 6, 7, 5, 7, 5, 4, 6, 7, 7, 7, 6, 4, 7, 6, 6, 6, 6, 7, 7, 6, 7, 5, 4, 5, 5, 7, 5, 7, 6, 6, 7, 6, 7, 4, 5, 7, 5, 6, 5, 4, 4, 6, 6, 7, 5, 5, 7, 6, 5, 7, 6, 6, 7, 6, 6, 5, 5, 6, 5, 5, 7, 7, 6, 7, 5, 7, 4, 6, 4, 6, 6, 5, 5, 7, 6, 5, 4, 7, 6, 5, 5, 6, 6, 5, 5, 6, 5, 4, 4, 7, 7, 6, 6, 7, 6, 5, 6, 6, 4, 5, 7, 7, 6, 7, 5, 6, 7, 7, 5, 7, 7, 5, 5, 5, 6, 5, 7, 7, 5, 5, 7, 4, 4, 6, 6, 5, 5, 5, 7, 7, 6, 6, 5, 6, 4, 6, 7, 7, 7, 4, 6, 6, 6, 6, 4, 5, 6, 5, 7, 6, 6, 6, 6, 6, 5, 7, 5, 6, 5, 7, 6, 5, 7, 6, 5, 5, 4, 4, 6, 7, 7, 7, 6, 6, 5, 5, 4, 4, 7, 5, 7, 6, 7, 5, 4, 5, 6, 4, 4, 7, 5, 5, 4, 6, 4, 4, 4, 7, 6, 7, 7, 6, 7, 5, 6, 4, 6, 6, 5, 6, 6, 7, 5, 6, 5, 5, 6, 5, 7, 7, 6, 6, 7, 4, 4, 7, 7, 5, 5, 6, 7, 4, 5, 4, 5, 6, 5, 7, 4, 6, 6, 5, 5, 7, 6, 6, 5, 7, 7, 7, 7, 4, 5, 6, 6, 7, 5, 7, 6, 5, 6, 5, 6, 6, 6, 7, 4, 5, 6, 4, 5, 7, 5, 6, 6, 7, 4, 5, 7, 6, 6, 5, 4, 5, 5, 6, 6, 7, 7, 5, 5, 7, 6, 7, 7, 7, 5, 7, 5, 7, 4, 7, 6, 4, 7, 7, 5, 6, 4, 6, 7, 5, 4, 5, 5, 6, 5, 4, 5, 5, 5, 4, 5, 6, 7, 6, 5, 6, 5, 5, 7, 5, 5, 7, 5, 5, 6, 7, 4, 5, 5, 7, 5, 7, 6, 7, 5, 4, 6, 6, 7, 6, 7, 7, 5, 5, 4, 7, 5, 5, 4, 4, 6, 5, 7, 5, 5, 6, 6, 6, 4, 5, 6, 6, 7, 7, 6, 7, 6, 5, 6, 7, 6, 7, 6, 6, 7, 6, 7, 4, 6, 7, 6, 4, 4, 6, 7, 5, 6, 7, 4, 7, 6, 6, 7, 5, 6, 7, 6, 7, 7, 4, 7, 7, 5, 7, 5, 5, 6, 6, 5, 6, 4, 7, 6, 5, 7, 5, 4, 7, 7, 4, 7, 5, 6, 6, 7, 6, 7, 7, 6, 7, 6, 4, 6, 4, 6, 7, 7, 4, 7, 4, 7, 6, 5, 4, 6, 5, 7, 6, 5, 5, 7, 4, 5, 7, 4, 6, 7, 5, 5, 6, 5, 7, 6, 7, 6, 6, 4, 7, 5, 7, 5, 4, 5, 4, 7, 7, 4, 6, 6, 6, 5, 6, 6, 7, 7, 6, 7, 5, 4, 6, 4, 5, 4, 5, 6, 7, 4, 6, 5, 6, 6, 6, 6, 6, 6, 7, 4, 7, 7, 7, 4, 4, 5, 7, 6, 6, 7, 7, 4, 7, 7, 6, 7, 7, 4, 5, 6, 6, 7, 7, 5, 6, 5, 6, 6, 6, 7, 6, 4, 6, 6, 7, 7, 4, 4, 5, 6, 7, 4, 7, 6, 6, 4, 6, 6, 5, 7, 7, 7, 5, 7, 4, 5, 6, 6, 7, 4, 7, 4, 4, 7, 6, 7, 5, 4, 7, 7, 7, 5, 6, 7, 7, 4, 7, 7, 7, 4, 6, 7, 7, 6, 6, 6, 5, 6, 7, 4, 6, 7, 5, 6, 4, 5, 5, 7, 6, 7, 5, 6, 6, 7, 4, 7, 5, 7, 7, 5, 5, 7, 7, 7, 4, 6, 6, 6, 4, 6, 6, 4, 5, 4, 5, 4, 5, 4, 7, 7, 4, 6, 4, 6, 7, 6, 4, 4, 6, 6, 7, 7, 5, 7, 4, 7, 5, 6, 5, 6, 7, 5, 7, 7, 6, 4, 5, 6, 7, 4, 4, 5, 6, 4, 5, 4, 6, 5, 5, 5, 6, 4, 6, 5, 7, 5, 5, 5, 6, 6, 5, 5, 4, 5, 5, 7, 7, 7, 7, 7, 5, 7, 5, 6, 5, 5, 7, 5, 5, 6, 6, 7, 5, 5, 7, 5, 4, 5, 5, 6, 5, 7, 5, 7, 7, 5, 6, 5, 7, 7, 6, 5, 7, 7, 5, 4, 6, 5, 6, 6, 7, 7, 4, 6, 6, 7, 7, 4, 6, 5, 4, 7, 6, 7, 5, 4, 5, 7, 6, 7, 4, 5, 6, 6, 7, 5, 7, 7, 5, 6, 4, 5, 6, 6, 4, 4, 7, 6, 7, 5, 5, 7, 6, 7, 5, 6, 6, 5, 6, 4, 4, 6, 7, 6, 6, 7, 5, 7, 5, 5, 5, 4, 7, 5, 4, 7, 6, 5, 6, 5, 6, 5, 7, 7, 5, 7, 7, 4, 7, 7, 6, 7, 6, 6, 7, 5, 6, 6, 5, 6, 6, 5, 4, 6, 6, 4, 4, 5, 6, 5, 6, 5, 6, 5, 5, 7, 4, 4, 7, 7, 7, 5, 4, 5, 7, 6, 5, 5, 7, 5, 7, 6, 5, 5, 7, 6, 7, 5, 7, 7, 6, 7, 5, 4, 4, 6, 7, 4, 7, 7, 5, 6, 7, 7, 7, 6, 7, 7, 5, 7, 7, 6, 5, 4, 5, 7, 4, 5, 6, 5, 6, 5, 5, 6, 5, 6, 7, 5, 5, 4, 5, 6, 7, 7, 7, 7, 7, 4, 6, 6, 5, 7, 6, 6, 7, 4, 7, 5, 7, 6, 6, 5, 5, 5, 7, 7, 7, 6, 6, 7, 5, 7, 5, 6, 5, 7, 5, 4, 4, 7, 5, 4, 6, 5, 5, 6, 4, 5, 7, 6, 7, 7, 6, 5, 5, 6, 4, 4, 5, 4, 6, 7, 6, 5, 6, 7, 4, 7, 4, 6, 7, 7, 6, 6, 7, 6, 6, 6, 7, 7, 5, 7, 5, 6, 6, 5, 5, 7, 7, 5, 6, 4, 4, 5, 6, 6, 4, 6, 7, 6, 7, 7, 7, 6, 5, 7, 4, 6, 7, 7, 6, 7, 5, 6, 5, 6, 4, 6, 5, 6, 7, 6, 6, 7, 7, 6, 5, 7, 7, 5, 7, 5, 5, 5, 6, 7, 4, 6, 5, 6, 6, 7, 5, 5, 4, 4, 6, 7, 5, 5, 5, 5, 6, 4, 6, 4, 5, 7, 4, 6, 6, 5, 6, 6, 6, 6, 4, 7, 6, 5, 6, 4, 7, 4, 6, 5, 6, 5, 5, 5, 4, 6, 6, 5, 5, 5, 6, 7, 4, 7, 7, 6, 6, 6, 6, 7, 7, 5, 6, 5, 6, 7, 7, 4, 5, 7, 6, 5, 6, 5, 6, 5, 6, 6, 7, 7, 4, 6, 4, 7, 7, 4, 7, 7, 5, 5, 5, 4, 4, 4, 6, 7, 4, 5, 4, 5, 4, 7, 6, 6, 6, 6, 6, 6, 4, 5, 6, 6, 5, 4, 6, 6, 5, 7, 4, 7, 7, 7, 6, 6, 7, 5, 5, 6, 6, 4, 5, 7, 6, 5, 5, 5, 7, 5, 6, 4, 6, 6, 5, 6, 7, 7, 5, 4, 4, 5, 5, 6, 7, 5, 7, 7, 6, 7, 7, 7, 7, 7, 7, 5, 6, 4, 6, 4, 6, 7, 6, 6, 7, 7, 7, 6, 5, 4, 4, 6, 7, 4, 7, 6, 4, 5, 7, 5, 7, 7, 5, 5, 4, 6, 4, 5, 4, 5, 4, 7, 4, 5, 7, 6, 7, 5, 6, 7, 7, 6, 6, 6, 5, 7, 5, 6, 7, 5, 7, 6, 6, 6, 5, 6, 5, 7, 5, 6, 6, 6, 5, 5, 6, 5, 5, 7, 6, 6, 6, 4, 6, 5, 7, 4, 4, 6, 6, 6, 6, 5, 4, 7, 5, 7, 4, 5, 5, 6, 6, 5, 4, 5, 6, 7, 6, 7, 4, 5, 5, 4, 7, 5, 6, 4, 6, 7, 4, 5, 6, 5, 7, 4, 5, 7, 7, 4, 7, 6, 5, 6, 6, 7, 5, 6, 5, 7, 5, 6, 5, 7, 6, 7, 5, 6, 7, 6, 4, 6, 5, 6, 5, 7, 5, 7, 7, 6, 5, 5, 5, 6, 4, 7, 7, 5, 4, 7, 5, 7, 6, 5, 5, 5, 4, 6, 4, 7, 6, 6, 4, 4, 5, 5, 7, 4, 6, 5, 4, 4, 7, 6, 7, 4, 5, 5, 6, 4, 7, 5, 6, 7, 4, 7, 6, 6, 7, 5, 5, 7, 6, 7, 6, 6, 5, 4, 4, 5, 4, 5, 6, 6, 6, 6, 6, 7, 7, 6, 5, 5, 5, 4, 6, 7, 5, 5, 7, 6, 4, 5, 5, 5, 7, 7, 6, 5, 6, 6, 5, 7, 6, 6, 7, 6, 5, 4, 7, 6, 5, 6, 6, 5, 4, 6, 7, 5, 6, 5, 5, 5, 4, 6, 7, 5, 6, 7, 5, 7, 5, 5, 7, 4, 6, 5, 5, 7, 7, 4, 7, 7, 5, 6, 6, 5, 5, 7, 6, 7, 5, 7, 6, 5, 5, 5, 5, 7, 5, 6, 6, 5, 7, 5, 6, 6, 6, 6, 6, 4, 6, 7, 4, 5, 4, 4, 6, 5, 7, 4, 5, 5, 7, 7, 6, 7, 7, 6, 5, 5, 5, 7, 6, 6, 5, 6, 4, 7, 7, 6, 7, 5, 7, 6, 6, 7, 6, 6, 5, 6, 6, 7, 6, 4, 6, 5, 5, 7, 6, 5, 7, 6, 5, 6, 6, 7, 4, 5, 7, 6, 7, 7, 6, 6, 6, 6, 7, 6, 5, 4, 6, 4, 6, 6, 5, 4, 6, 5, 7, 4, 7, 6, 7, 6, 7, 4, 4, 6, 4, 6, 6, 4, 7, 6, 5, 6, 4, 5, 7, 6, 5, 7, 6, 7, 7, 7, 5, 6, 7, 5, 5, 6, 5, 4, 7, 4, 4, 7, 5, 5, 6, 5, 7, 6, 4, 6, 7, 7, 7, 7, 7, 6, 6, 5, 5, 7, 6, 4, 6, 5, 7, 6, 4, 7, 7, 7, 4, 6, 6, 4, 5, 5, 7, 7, 6, 5, 7, 5, 6, 5, 7, 6, 7, 6, 7, 5, 7, 7, 7, 7, 7, 5, 5, 6, 6, 4, 4, 4, 7, 5, 6, 6, 4, 4, 6, 6, 4, 6, 7, 4, 4, 5, 6, 7, 6, 4, 5, 6, 6, 6, 7, 6, 5, 7, 5, 6, 7, 5, 5, 5, 4, 5, 6, 4, 6, 6, 7, 5, 5, 6, 6, 5, 6, 5, 6, 6, 7, 4, 5, 5, 5, 4, 6, 4, 5, 6, 7, 7, 5, 5, 7, 7, 6, 5, 7, 5, 7, 7, 4, 7, 6, 6, 4, 7, 7, 6, 6, 6, 5, 4, 7, 4, 7, 4, 5, 5, 6, 6, 7, 7, 4, 5, 6, 7, 5, 6, 4, 6, 5, 7, 4, 6, 5, 6, 4, 6, 5, 5, 4, 5, 5, 7, 7, 6, 7, 4, 5, 4, 6, 5, 6, 7, 5, 7, 6, 6, 5, 6, 7, 4, 5, 6, 4, 7, 4, 4, 4, 6, 5, 6, 5, 7, 4, 5, 5, 6, 5, 6, 6, 4, 7, 7, 7, 6, 6, 7, 7, 7, 6, 5, 5, 7, 6, 7, 6, 5, 5, 4, 6, 6, 5, 5, 5, 5, 5, 6, 5, 4, 7, 4, 5, 7, 7, 6, 7, 6, 5, 7, 7, 6, 4, 6, 4, 5, 7, 4, 5, 4, 7, 6, 7, 7, 6, 7, 6, 6, 4, 6, 4, 4, 7, 5, 5, 4, 5, 6, 7, 5, 7, 6, 7, 7, 4, 7, 5, 5, 6, 6, 7, 4, 7, 5, 7, 5, 5, 6, 6, 5, 6, 5, 7, 5, 6, 6, 6, 7, 6, 6, 4, 6, 5, 4, 7, 7, 4, 6, 7, 5, 6, 7, 4, 6, 4, 5, 7, 5, 4, 6, 5, 6, 4, 5, 4, 5, 7, 6, 5, 5, 7, 6, 4, 6, 4, 6, 5, 5, 5, 5, 7, 6, 4, 4, 4, 4, 7, 6, 6, 6, 6, 6, 6, 5, 7, 7, 6, 7, 5, 7, 6, 7, 6, 7, 4, 7, 6, 6, 7, 6, 5, 5, 6, 7, 5, 6, 5, 6, 6, 5, 7, 5, 6, 7, 6, 7, 6, 4, 6, 6, 6, 5, 5, 5, 4, 4, 7, 5, 6, 6, 6, 6, 6, 4, 7, 5, 7, 7, 6, 7, 5, 6, 5, 7, 6, 7, 6, 6, 4, 6, 7, 5, 6, 5, 7, 7, 6, 7, 5, 5, 7, 5, 5, 7, 6, 4, 5, 6, 7, 4, 7, 6, 4, 6, 6, 5, 7, 6, 7, 6, 5, 7, 5, 7, 7, 5, 6, 5, 5, 7, 6, 7, 6, 6, 5, 7, 6, 7, 6, 7, 5, 7, 6, 7, 7, 6, 5, 6, 6, 5, 6, 5, 7, 6, 7, 6, 6, 5, 4, 6, 4, 5, 7, 7, 6, 5, 6, 4, 5, 6, 6, 6, 5, 7, 6, 7, 7, 4, 7, 4, 5, 4, 6, 6, 5, 5, 4, 4, 6, 6, 5, 6, 4, 5, 4, 5, 5, 7, 6, 5, 6, 6, 4, 5, 6, 6, 5, 4, 5, 5, 6, 5, 6, 6, 7, 5, 5, 7, 7, 6, 6, 4, 7, 6, 4, 5, 6, 6, 5, 4, 7, 4, 7, 6, 4, 5, 5, 5, 6, 6, 6, 6, 7, 4, 5, 5, 4, 5, 7, 5, 6, 4, 7, 6, 7, 6, 5, 7, 6, 6, 7, 6, 7, 5, 7, 6, 7, 7, 7, 4, 7, 7, 6, 7, 4, 6, 6, 5, 4, 6, 5, 7, 6, 6, 7, 7, 6, 6, 5, 5, 7, 6, 5, 7, 6, 4, 7, 7, 6, 6, 7, 7, 7, 5, 6, 5, 6, 5, 5, 6, 6, 7, 7, 4, 7, 6, 5, 6, 7, 5, 7, 7, 4, 6, 7, 7, 5, 7, 7, 6, 7, 6, 5, 4, 6, 6, 7, 5, 5, 4, 7, 7, 7, 4, 6, 6, 5, 5, 7, 5, 4, 6, 7, 7, 4, 5, 5, 7, 7, 7, 6, 6, 6, 5, 7, 4, 6, 7, 6, 7, 5, 6, 4, 6, 6, 4, 7, 7, 5, 7, 7, 6, 7, 7, 4, 4, 5, 4, 5, 7, 6, 7, 6, 6, 6, 6, 7, 4, 4, 6, 6, 5, 6, 6, 7, 5, 7, 5, 6, 4, 4, 4, 4, 5, 7, 7, 5, 5, 5, 7, 7, 6, 7, 4, 6, 5, 5, 4, 7, 5, 6, 7, 5, 5, 4, 6, 7, 6, 6, 4, 6, 6, 4, 5, 7, 7, 7, 7, 5, 5, 6, 5, 6, 6, 6, 4, 7, 7, 4, 4, 6, 7, 7, 6, 7, 6, 7, 6, 6, 6, 5, 4, 4, 6, 4, 6, 4, 6, 5, 5, 4, 5, 4, 4, 6, 7, 6, 6, 6, 5, 6, 4, 7, 7, 5, 4, 7, 7, 5, 5, 6, 6, 7, 6, 6, 7, 7, 7, 4, 6, 4, 6, 5, 5, 6, 5, 7, 4, 6, 5, 5, 5, 5, 5, 4, 4, 6, 5, 6, 6, 4, 7, 7, 4, 5, 7, 6, 6, 6, 6, 6, 7, 6, 6, 7, 5, 6, 6, 7, 5, 7, 6, 4, 7, 7, 6, 7, 7, 6, 7, 5, 7, 7, 7, 7, 6, 5, 4, 6, 7, 5, 7, 5, 6, 6, 6, 7, 5, 5, 4, 5, 5, 4, 7, 4, 7, 7, 6, 5, 6, 7, 7, 5, 4, 5, 6, 5, 4, 7, 6, 4, 6, 5, 7, 6, 6, 5, 7, 5, 5, 6, 5, 4, 7, 6, 5, 6, 5, 5, 7, 5, 6, 7, 6, 7, 4, 6, 4, 7, 6, 5, 4, 6, 5, 6, 5, 5, 5, 6, 6, 4, 6, 5, 6, 6, 4, 5, 5, 7, 7, 6, 7, 7, 6, 5, 5, 4, 4, 5, 7, 6, 6, 4, 5, 7, 4, 4, 5, 6, 6, 5, 4, 6, 5, 4, 7, 6, 6, 4, 6, 7, 5, 5, 7, 6, 6, 5, 6, 7, 6, 5, 5, 5, 4, 5, 7, 7, 5, 6, 4, 4, 7, 7, 5, 5, 5, 4, 5, 5, 6, 7, 6, 5, 5, 5, 6, 6, 4, 7, 5, 6, 5, 4, 7, 7, 6, 7, 6, 6, 5, 4, 6, 6, 5, 4, 6, 5, 6, 7, 6, 6, 6, 6, 5, 6, 7, 7, 4, 7, 7, 6, 6, 7, 7, 7, 5, 7, 5, 7, 5, 7, 6, 4, 7, 7, 7, 5, 5, 4, 5, 5, 4, 4, 6, 4, 7, 6, 4, 6, 6, 4, 7, 6, 5, 7, 7, 5, 5, 5, 4, 6, 5, 6, 5, 7, 6, 7, 7, 7, 6, 7, 5, 6, 5, 7, 5, 5, 5, 6, 5, 5, 7, 6, 5, 7, 7, 5, 4, 5, 5, 7, 4, 5, 7, 5, 6, 7, 5, 7, 7, 4, 5, 5, 5, 6, 5, 4, 7, 7, 6, 5, 7, 7, 7, 6, 7, 5, 4, 5, 5, 6, 6, 7, 6, 5, 4, 6, 5, 5, 7, 6, 5, 6, 6, 6, 7, 7, 4, 7, 4, 7, 5, 6, 6, 4, 5, 6, 6, 6, 7, 7, 5, 5, 4, 6, 4, 5, 5, 6, 6, 5, 4, 4, 6, 6, 6, 4, 6, 4, 4, 5, 4, 5, 4, 6, 4, 5, 6, 6, 6, 6, 5, 4, 6, 7, 7, 7, 7, 7, 5, 4, 7, 6, 7, 5, 6, 7, 6, 5, 5, 7, 7, 5, 7, 6, 5, 5, 7, 7, 7, 5, 5, 7, 7, 6, 5, 6, 7, 6, 4, 6, 5, 5, 4, 5, 6, 6, 6, 5, 4, 7, 7, 6, 7, 7, 5, 4, 5, 6, 5, 4, 5, 6, 5, 6, 4, 6, 7, 7, 7, 5, 6, 4, 5, 5, 7, 4, 4, 4, 7, 6, 5, 6, 6, 5, 7, 5, 6, 6, 5, 7, 5, 4, 6, 5, 7, 7, 7, 5, 7, 5, 5, 7, 6, 5, 5, 4, 6, 4, 6, 7, 6, 5, 7, 7, 7, 4, 4, 6, 4, 7, 4, 4, 5, 5, 5, 4, 6, 5, 6, 5, 5, 4, 5, 7, 7, 7, 7, 6, 7, 5, 5, 5, 6, 7, 4, 6, 5, 7, 6, 6, 6, 7, 7, 7, 7, 5, 7, 6, 4, 6, 7, 7, 5, 7, 4, 6, 7, 4, 4, 7, 6, 4, 6, 5, 4, 7, 4, 7, 5, 4, 5, 4, 7, 7, 4, 7, 6, 6, 7, 6, 7, 5, 6, 6, 6, 6, 6, 6, 5, 5, 7, 7, 4, 5, 5, 5, 4, 6, 5, 5, 5, 6, 4, 6, 6, 7, 6, 5, 5, 6, 7, 6, 5, 6, 7, 4, 7, 5, 7, 6, 5, 7, 5, 7, 5, 4, 5, 6, 5, 7, 7, 5, 7, 5, 6, 6, 5, 6, 6, 6, 4, 7, 6, 5, 6, 7, 7, 7, 6, 5, 5, 4, 5, 7, 6, 5, 6, 6, 5, 4, 6, 7, 6, 5, 4, 7, 7, 7, 7, 5, 6, 5, 6, 6, 6, 7, 6, 7, 6, 5, 6, 4, 6, 4, 7, 5, 6, 7, 6, 7, 4, 6, 5, 6, 6, 5, 5, 5, 6, 4, 4, 6, 6, 4, 5, 6, 5, 5, 6, 6, 7, 5, 5, 7, 5, 6, 5, 6, 7, 6, 7, 6, 4, 5, 5, 7, 5, 5, 4, 5, 6, 6, 6, 6, 5, 6, 4, 4, 6, 4, 6, 7, 4, 6, 5, 6, 7, 6, 6, 6, 6, 6, 4, 5, 5, 7, 5, 5, 6, 5, 7, 6, 5, 5, 6, 6, 5, 7, 5, 6, 6, 6, 4, 6, 6, 6, 6, 4, 5, 5, 7, 5, 7, 5, 4, 7, 7, 5, 5, 5, 5, 4, 5, 7, 6, 5, 6, 7, 7, 5, 6, 7, 4, 4, 6, 7, 4, 7, 6, 5, 5, 6, 6, 5, 4, 7, 5, 6, 5, 6, 5, 5, 6, 6, 5, 6, 5, 5, 5, 7, 7, 6, 5, 7, 4, 7, 7, 6, 7, 6, 7, 6, 7, 7, 6, 6, 6, 5, 6, 7, 4, 5, 5, 6, 6, 7, 7, 7, 4, 5, 6, 5, 7, 7, 6, 6, 5, 4, 7, 6, 6, 7, 7, 7, 7, 6, 6, 5, 6, 6, 7, 5, 5, 6, 5, 4, 6, 5, 6, 6, 5, 7, 5, 7, 7, 7, 5, 6, 6, 6, 6, 7, 7, 4, 7, 5, 7, 6, 5, 5, 5, 4, 5, 6, 4, 4, 4, 5, 6, 5, 4, 7, 7, 5, 4, 4, 5, 5, 4, 7, 6, 7, 6, 6, 6, 7, 4, 4, 7, 5, 7, 4, 6, 5, 7, 7, 6, 5, 6, 6, 7, 7, 4, 6, 6, 5, 5, 4, 5, 5, 7, 7, 5, 6, 4, 4, 4, 5, 6, 4, 6, 6, 4, 4, 4, 6, 6, 5, 7, 5, 7, 4, 5, 6, 5, 5, 6, 4, 6, 7, 4, 7, 5, 7, 6, 6, 6, 7, 5, 7, 7, 5, 6, 4, 5, 4, 6, 4, 6, 6, 5, 7, 5, 5, 6, 5, 7, 7, 6, 7, 5, 7, 5, 7, 5, 5, 6, 6, 7, 4, 5, 4, 5, 7, 5, 5, 4, 7, 6, 7, 7, 5, 7, 5, 5, 6, 5, 4, 6, 7, 5, 5, 7, 7, 7, 5, 7, 6, 4, 7, 7, 6, 6, 4, 5, 5, 4, 4, 7, 6, 5, 4, 4, 4, 6, 6, 7, 5, 7, 7, 4, 6, 4, 7, 7, 6, 5, 6, 5, 5, 5, 7, 7, 6, 6, 5, 4, 7, 6, 6, 5, 6, 4, 4, 5, 6, 6, 5, 4, 7, 7, 5, 7, 6, 7, 7, 7, 6, 4, 5, 6, 7, 5, 5, 4, 6, 4, 5, 4, 4, 7, 7, 6, 4, 6, 6, 4, 4, 7, 7, 5, 4, 7, 5, 7, 6, 5, 6, 4, 6, 6, 7, 7, 5, 7, 4, 7, 5, 7, 6, 7, 4, 5, 5, 6, 6, 4, 6, 7, 6, 7, 6, 7, 7, 6, 5, 6, 7, 5, 7, 7, 6, 4, 6, 7, 4, 6, 7, 4, 6, 5, 7, 4, 6, 5, 7, 4, 7, 4, 6, 6, 5, 5, 4, 5, 6, 5, 5, 6, 6, 6, 6, 7, 5, 6, 6, 6, 7, 7, 4, 4, 5, 6, 6, 7, 5, 5, 5, 5, 6, 6, 6, 6, 7, 4, 7, 7, 6, 6, 6, 7, 7, 7, 6, 6, 6, 5, 4, 7, 5, 6, 4, 6, 5, 7, 5, 7, 7, 6, 5, 7, 7, 5, 7, 6, 7, 5, 6, 6, 4, 5, 4, 7, 5, 5, 7, 7, 6, 5, 6, 7, 6, 5, 6, 7, 5, 6, 6, 4, 7, 7, 5, 5, 7, 6, 5, 6, 4, 6, 6, 7, 6, 7, 5, 6, 7, 6, 6, 5, 7, 7, 7, 7, 5, 5, 6, 4, 6, 5, 6, 6, 7, 4, 5, 6, 5, 6, 5, 7, 7, 4, 7, 5, 7, 5, 6, 6, 5, 5, 5, 7, 6, 5, 5, 7, 6, 7, 6, 7, 7, 5, 6, 6, 7, 5, 5, 4, 5, 4, 5, 6, 6, 5, 4, 5, 6, 5, 6, 6, 5, 6, 4, 7, 7, 4, 5, 7, 6, 5, 4, 5, 5, 6, 5, 5, 7, 6, 5, 5, 6, 6, 5, 7, 7, 4, 6, 6, 5, 7, 4, 5, 6, 7, 5, 6, 6, 6, 5, 7, 4, 6, 6, 7, 6, 7, 7, 5, 5, 6, 4, 6, 7, 6, 7, 7, 5, 6, 5, 5, 4, 6, 5, 4, 7, 6, 6, 5, 6, 6, 7, 7, 7, 6, 4, 5, 6, 7, 7, 6, 7, 7, 5, 6, 6, 5, 7, 4, 4, 6, 6, 5, 5, 6, 6, 5, 6, 4, 5, 6, 5, 7, 4, 6, 7, 5, 6, 7, 6, 7, 6, 4, 5, 7, 6, 7, 6, 4, 6, 7, 7, 6, 7, 5, 5, 6, 7, 6, 5, 4, 5, 6, 6, 5, 6, 7, 5, 5, 4, 6, 6, 7, 7, 4, 7, 5, 7, 6, 6, 4, 6, 5, 5, 4, 6, 6, 4, 4, 7, 5, 6, 7, 5, 6, 6, 6, 7, 4, 7, 4, 4, 5, 4, 7, 4, 6, 7, 6, 6, 5, 6, 4, 7, 5, 5, 7, 6, 7, 6, 7, 4, 7, 7, 7, 5, 6, 6, 7, 7, 6, 5, 4, 7, 5, 7, 6, 5, 6, 7, 6, 4, 5, 7, 7, 4, 6, 5, 4, 7, 6, 6, 6, 7, 7, 5, 7, 5, 4, 4, 5, 7, 4, 6, 5, 5, 6, 6, 5, 7, 5, 7, 7, 7, 4, 5, 4, 7, 6, 5, 4, 7, 6, 7, 6, 5, 5, 5, 6, 6, 5, 5, 5, 6, 6, 6, 4, 4, 5, 5, 4, 7, 6, 4, 5, 4, 5, 5, 6, 5, 6, 4, 6, 6, 7, 5, 4, 6, 5, 4, 7, 5, 4, 7, 4, 4, 5, 7, 6, 6, 6, 6, 4, 6, 5, 6, 5, 5, 7, 4, 5, 6, 6, 4, 6, 4, 5, 6, 5, 7, 6, 5, 7, 5, 5, 4, 6, 6, 4, 4, 4, 5, 7, 5, 4, 4, 7, 4, 7, 7, 6, 7, 6, 7, 6, 7, 7, 7, 5, 4, 4, 4, 5, 7, 6, 5, 6, 5, 7, 5, 7, 5, 6, 4, 5, 6, 6, 7, 5, 5, 5, 7, 5, 6, 6, 6, 5, 7, 7, 5, 7, 5, 5, 5, 6, 4, 7, 7, 5, 5, 5, 5, 5, 6, 7, 4, 6, 6, 6, 7, 7, 5, 4, 7, 4, 7, 6, 4, 5, 6, 7, 6, 7, 6, 7, 4, 5, 4, 6, 7, 5, 7, 7, 7, 7, 6, 5, 7, 5, 7, 5, 6, 7, 5, 5, 4, 5, 6, 6, 4, 7, 7, 6, 7, 6, 5, 6, 6, 5, 4, 6, 4, 6, 7, 6, 5, 6, 6, 7, 5, 4, 4, 5, 7, 5, 6, 4, 4, 5, 7, 5, 6, 4, 6, 5, 7, 5, 4, 5, 5, 6, 5, 4, 4, 7, 5, 4, 7, 5, 5, 7, 7, 5, 4, 6, 5, 5, 7, 6, 7, 7, 5, 4, 6, 6, 5, 5, 6, 7, 4, 6, 7, 7, 7, 4, 5, 6, 4, 7, 6, 7, 4, 7, 7, 5, 5, 6, 7, 6, 7, 5, 5, 7, 4, 5, 7, 5, 6, 6, 5, 5, 7, 4, 5, 5, 6, 6, 7, 7, 7, 7, 4, 4, 6, 4, 6, 7, 6, 5, 6, 5, 6, 6, 4, 5, 6, 5, 6, 7, 7, 6, 4, 7, 4, 5, 7, 6, 6, 4, 7, 5, 5, 6, 6, 7, 7, 7, 4, 7, 7, 7, 7, 6, 5, 7, 5, 5, 6, 5, 4, 7, 5, 5, 6, 7, 6, 5, 4, 5, 5, 5, 6, 5, 6, 7, 5, 7, 4, 4, 5, 4, 6, 7, 7, 6, 6, 4, 5, 6, 7, 7, 7, 4, 6, 5, 5, 5, 7, 4, 4, 5, 4, 7, 7, 5, 7, 7, 4, 5, 5, 7, 5, 5, 5, 5, 6, 7, 6, 5, 7, 4, 5, 6, 5, 5, 6, 4, 7, 5, 6, 7, 4, 6, 6, 5, 6, 6, 7, 6, 6, 6, 7, 7, 7, 4, 5, 4, 5, 6, 5, 6, 6, 5, 5, 4, 5, 4, 5, 4, 7, 6, 5, 4, 5, 7, 4, 7, 7, 6, 6, 5, 6, 4, 6, 4, 5, 7, 7, 7, 6, 6, 7, 7, 6, 5, 5, 5, 6, 7, 6, 7, 6, 6, 6, 7, 5, 6, 7, 7, 5, 6, 4, 5, 5, 5, 6, 5, 5, 6, 5, 5, 6, 5, 7, 4, 6, 6, 5, 7, 7, 5, 5, 4, 5, 7, 4, 6, 6, 4, 7, 5, 6, 5, 7, 7, 4, 6, 6, 5, 7, 7, 4, 6, 4, 6, 4, 5, 5, 5, 7, 7, 6, 6, 7, 7, 5, 6, 6, 4, 5, 6, 6, 5, 6, 6, 7, 5, 7, 6, 5, 5, 6, 6, 4, 7, 7, 7, 4, 5, 6, 5, 4, 6, 7, 5, 5, 6, 4, 4, 5, 4, 4, 4, 7, 7, 7, 7, 7, 5, 6, 7, 7, 6, 6, 4, 7, 7, 4, 6, 6, 6, 5, 6, 7, 4, 4, 5, 6, 7, 7, 7, 7, 4, 6, 6, 6, 6, 4, 7, 5, 6, 6, 4, 6, 5, 5, 5, 6, 7, 5, 7, 7, 7, 7, 6, 5, 4, 7, 7, 6, 7, 6, 4, 5, 5, 5, 6, 5, 7, 5, 6, 7, 6, 6, 6, 5, 6, 7, 7, 6, 6, 7, 5, 6, 5, 7, 7, 7, 7, 4, 6, 7, 7, 5, 7, 6, 5, 5, 5, 7, 5, 7, 6, 6, 6, 7, 4, 4, 7, 4, 6, 6, 5, 4, 6, 5, 6, 7, 5, 4, 6, 4, 4, 6, 4, 7, 5, 5, 7, 4, 7, 6, 7, 6, 7, 7, 5, 5, 7, 6, 5, 6, 7, 5, 6, 6, 5, 7, 7, 4, 7, 7, 4, 5, 6, 4, 6, 7, 5, 6, 5, 5, 4, 5, 5, 7, 7, 6, 4, 7, 6, 7, 4, 5, 7, 6, 5, 6, 6, 6, 6, 6, 4, 7, 6, 6, 6, 5, 6, 6, 7, 6, 5, 7, 6, 6, 5, 5, 6, 4, 4, 6, 7, 5, 7, 6, 4, 5, 5, 7, 7, 5, 4, 4, 6, 4, 5, 6, 5, 5, 6, 4, 4, 6, 7, 4, 5, 6, 4, 7, 5, 7, 4, 5, 5, 4, 7, 6, 4, 5, 6, 6, 6, 6, 7, 5, 6, 6, 5, 7, 5, 5, 5, 4, 4, 5, 6, 5, 5, 6, 4, 5, 5, 6, 4, 6, 7, 7, 7, 7, 5, 5, 5, 6, 7, 7, 7, 4, 6, 7, 6, 7, 6, 7, 7, 5, 6, 5, 7, 7, 7, 5, 7, 5, 7, 5, 4, 6, 5, 5, 5, 7, 5, 5, 6, 4, 5, 7, 4, 4, 6, 5, 7, 7, 6, 4, 5, 5, 4, 7, 5, 6, 5, 6, 5, 7, 4, 6, 6, 7, 7, 6, 7, 4, 5, 6, 7, 4, 7, 5, 7, 5, 5, 7, 4, 4, 5, 7, 7, 5, 4, 4, 6, 6, 5, 7, 4, 7, 5, 5, 6, 5, 7, 4, 4, 6, 5, 6, 6, 6, 5, 6, 7, 7, 5, 5, 6, 7, 5, 6, 5, 7, 5, 7, 5, 4, 6, 7, 5, 5, 5, 5, 6, 4, 6, 6, 7, 5, 6, 7, 4, 5, 6, 4, 5, 4, 6, 5, 6, 7, 6, 6, 6, 5, 7, 7, 6, 7, 5, 5, 6, 5, 7, 7, 4, 5, 6, 7, 6, 5, 5, 4, 4, 5, 5, 5, 5, 4, 6, 6, 4, 4, 4, 7, 7, 6, 6, 4, 5, 6, 5, 5, 7, 6, 4, 5, 6, 5, 7, 6, 4, 5, 5, 7, 5, 7, 6, 5, 7, 5, 6, 7, 5, 6, 5, 5, 6, 6, 6, 6, 5, 5, 7, 7, 7, 7, 6, 6, 4, 6, 6, 6, 7, 4, 7, 5, 7, 5, 6, 6, 6, 4, 6, 5, 6, 7, 7, 5, 5, 6, 6, 7, 7, 7, 7, 5, 7, 4, 5, 4, 6, 7, 4, 4, 7, 6, 7, 6, 6, 4, 4, 5, 4, 6, 5, 6, 4, 5, 4, 5, 6, 6, 6, 7, 5, 5, 7, 7, 6, 7, 6, 7, 6, 4, 4, 5, 5, 7, 5, 7, 6, 6, 6, 7, 7, 4, 7, 5, 6, 4, 7, 7, 6, 6, 7, 6, 6, 6, 5, 5, 7, 6, 7, 7, 7, 5, 4, 6, 5, 7, 4, 7, 4, 6, 7, 5, 6, 5, 6, 4, 5, 4, 6, 5, 6, 5, 6, 7, 6, 7, 7, 4, 7, 5, 6, 6, 6, 6, 4, 4, 7, 5, 6, 6, 4, 6, 6, 4, 5, 6, 7, 7, 5, 5, 5, 7, 6, 7, 7, 6, 6, 6, 5, 5, 5, 4, 6, 6, 6, 5, 6, 4, 5, 7, 7, 7, 6, 7, 4, 6, 6, 4, 4, 4, 4, 5, 7, 6, 4, 4, 5, 7, 6, 5, 6, 7, 6, 6, 7, 5, 6, 6, 5, 6, 6, 7, 7, 5, 6, 6, 4, 5, 5, 7, 4, 5, 5, 7, 7, 5, 4, 4, 7, 6, 6, 6, 7, 7, 6, 7, 6, 5, 6, 4, 6, 7, 6, 5, 6, 5, 4, 5, 7, 6, 5, 6, 5, 4, 6, 7, 6, 4, 5, 6, 6, 6, 6, 4, 5, 6, 7, 6, 6, 5, 7, 4, 5, 5, 6, 4, 6, 7, 4, 7, 7, 4, 7, 4, 5, 5, 6, 6, 4, 5, 5, 4, 6, 7, 7, 4, 5, 6, 4, 5, 6, 6, 6, 7, 7, 6, 6, 7, 7, 5, 6, 6, 5, 7, 7, 7, 7, 5, 6, 6, 6, 5, 7, 5, 4, 7, 7, 5, 5, 6, 5, 4, 6, 5, 6, 5, 6, 5, 7, 7, 7, 7, 7, 6, 6, 6, 5, 7, 5, 5, 6, 4, 5, 5, 5, 6, 4, 4, 6, 6, 6, 5, 6, 7, 6, 7, 5, 4, 6, 7, 7, 5, 7, 7, 6, 7, 5, 5, 6, 4, 6, 6, 6, 6, 4, 5, 7, 5, 6, 4, 7, 7, 5, 4, 7, 6, 7, 6, 7, 6, 6, 4, 7, 5, 6, 6, 5, 6, 7, 7, 5, 6, 4, 7, 7, 6, 7, 7, 7, 7, 4, 5, 6, 7, 5, 5, 5, 6, 6, 6, 5, 7, 7, 7, 6, 5, 7, 7, 7, 7, 5, 5, 5, 5, 6, 6, 5, 7, 7, 5, 5, 7, 7, 7, 6, 5, 7, 7, 7, 7, 7, 5, 5, 6, 7, 6, 7, 6, 5, 5, 4, 6, 5, 4, 4, 6, 5, 6, 5, 7, 5, 7, 7, 6, 5, 5, 6, 6, 5, 6, 5, 7, 6, 4, 5, 5, 7, 6, 7, 4, 5, 4, 6, 6, 6, 7, 6, 5, 4, 6, 6, 6, 6, 7, 4, 6, 5, 5, 7, 6, 4, 6, 4, 6, 4, 5, 5, 5, 7, 6, 7, 7, 7, 4, 6, 7, 5, 4, 4, 5, 5, 7, 4, 6, 5, 7, 5, 6, 4, 6, 5, 7, 5, 4, 5, 5, 5, 4, 6, 4, 6, 5, 7, 7, 5, 6, 6, 7, 4, 6, 6, 4, 6, 5, 7, 4, 7, 4, 6, 6, 7, 4, 7, 5, 7, 6, 7, 5, 5, 7, 6, 5, 5, 5, 7, 5, 4, 4, 7, 6, 5, 5, 5, 6, 6, 5, 5, 7, 6, 4, 4, 5, 7, 7, 5, 6, 5, 5, 7, 6, 6, 6, 6, 7, 7, 5, 4, 6, 7, 6, 6, 6, 6, 5, 5, 4, 6, 6, 5, 4, 7, 7, 5, 5, 6, 4, 5, 6, 7, 4, 7, 7, 6, 4, 7, 4, 5, 6, 5, 4, 7, 7, 7, 7, 4, 5, 7, 7, 7, 4, 5, 7, 7, 6, 7, 7, 6, 6, 7, 5, 4, 7, 6, 7, 7, 6, 7, 4, 6, 7, 4, 4, 5, 5, 4, 4, 6, 4, 4, 5, 7, 7, 4, 6, 7, 5, 6, 6, 6, 4, 7, 7, 5, 7, 6, 6, 5, 5, 6, 6, 4, 7, 4, 5, 7, 6, 7, 7, 7, 5, 6, 6, 7, 6, 6, 4, 7, 7, 7, 6, 7, 5, 5, 6, 5, 5, 5, 7, 6, 6, 5, 7, 7, 5, 6, 7, 6, 5, 5, 4, 7, 6, 7, 6, 6, 5, 5, 7, 6, 5, 5, 5, 6, 7, 7, 5, 4, 7, 4, 6, 6, 5, 7, 4, 4, 5, 7, 4, 5, 6, 6, 6, 5, 7, 7, 6, 6, 7, 5, 6, 6, 6, 4, 5, 6, 6, 6, 4, 5, 4, 5, 5, 4, 6, 4, 7, 6, 5, 4, 7, 7, 5, 7, 7, 5, 7, 5, 7, 4, 7, 5, 6, 7, 6, 7, 7, 5, 5, 5, 7, 7, 6, 6, 5, 7, 5, 6, 7, 5, 5, 6, 6, 6, 4, 4, 7, 7, 5, 5, 5, 5, 7, 4, 5, 4, 6, 6, 7, 6, 6, 4, 6, 5, 7, 6, 6, 5, 5, 7, 6, 6, 5, 6, 5, 5, 4, 6, 6, 5, 6, 7, 4, 6, 6, 5, 5, 7, 7, 6, 6, 4, 5, 5, 6, 6, 7, 7, 5, 7, 6, 7, 5, 6, 7, 7, 5, 7, 7, 6, 6, 6, 7, 6, 5, 7, 6, 7, 7, 7, 7, 6, 5, 4, 5, 5, 5, 6, 7, 7, 5, 6, 5, 6, 5, 7, 6, 7, 5, 5, 5, 7, 7, 6, 5, 6, 7, 4, 7, 5, 7, 4, 4, 7, 6, 6, 7, 5, 5, 7, 7, 6, 6, 4, 5, 6, 7, 6, 7, 5, 6, 5, 7, 7, 4, 4, 4, 6, 6, 6, 7, 4, 7, 6, 7, 6, 7, 6, 7, 4, 5, 5, 4, 7, 7, 6, 5, 4, 6, 7, 5, 7, 6, 5, 6, 6, 4, 7, 6, 5, 6, 4, 5, 5, 5, 7, 6, 7, 7, 7, 5, 7, 5, 6, 6, 6, 6, 6, 4, 5, 6, 6, 7, 4, 6, 6, 6, 6, 5, 5, 5, 6, 7, 7, 7, 6, 5, 6, 6, 4, 6, 6, 7, 4, 6, 6, 4, 6, 5, 5, 5, 7, 7, 4, 6, 4, 6, 5, 6, 7, 5, 5, 4, 4, 7, 7, 6, 6, 7, 5, 4, 7, 7, 6, 5, 5, 7, 6, 5, 6, 6, 6, 5, 5, 6, 5, 6, 7, 4, 5, 5, 4, 7, 5, 6, 4, 7, 5, 6, 7, 7, 7, 6, 5, 7, 7, 6, 6, 7, 7, 7, 6, 7, 5, 5, 5, 7, 7, 5, 4, 7, 5, 7, 4, 4, 5, 5, 7, 7, 7, 6, 7, 7, 6, 4, 6, 7, 4, 7, 5, 5, 4, 5, 7, 7, 7, 5, 5, 6, 7, 5, 6, 5, 7, 6, 7, 4, 5, 5, 5, 4, 7, 4, 7, 6, 5, 5, 6, 7, 6, 5, 4, 7, 7, 6, 6, 6, 4, 6, 6, 5, 4, 5, 4, 7, 7, 4, 6, 5, 7, 6, 7, 7, 5, 6, 7, 5, 5, 7, 5, 4, 6, 7, 4, 6, 4, 7, 5, 4, 5, 7, 5, 7, 6, 4, 4, 5, 7, 7, 5, 6, 5, 7, 6, 6, 4, 5, 6, 6, 6, 7, 6, 7, 7, 5, 7, 7, 7, 5, 5, 6, 6, 7, 6, 4, 5, 7, 4, 5, 6, 5, 5, 7, 5, 6, 6, 4, 6, 6, 6, 7, 5, 4, 6, 5, 5, 7, 5, 6, 6, 6, 6, 6, 7, 7, 4, 5, 6, 7, 7, 7, 6, 5, 7, 6, 6, 5, 7, 4, 5, 7, 5, 6, 7, 6, 5, 7, 7, 6, 6, 7, 5, 6, 4, 6, 6, 7, 5, 5, 4, 6, 6, 6, 4, 7, 7, 4, 5, 7, 4, 5, 5, 7, 5, 7, 7, 7, 6, 7, 7, 7, 6, 7, 6, 6, 4, 7, 7, 7, 6, 7, 5, 4, 7, 7, 6, 5, 4, 5, 5, 7, 6, 7, 7, 4, 6, 5, 7, 4, 5, 6, 5, 7, 7, 5, 7, 6, 6, 5, 4, 6, 7, 5, 7, 7, 5, 5, 6, 6, 5, 7, 4, 5, 5, 6, 4, 6, 6, 7, 5, 5, 6, 6, 6, 6, 5, 5, 5, 5, 5, 5, 6, 6, 6, 7, 4, 5, 5, 7, 4, 5, 4, 7, 5, 6, 6, 6, 6, 5, 6, 4, 7, 6, 7, 5, 6, 6, 6, 4, 7, 7, 7, 4, 7, 5, 5, 5, 7, 7, 6, 6, 7, 7, 7, 7, 6, 4, 5, 7, 4, 6, 7, 6, 4, 5, 6, 5, 7, 5, 5, 7, 7, 6, 6, 5, 4, 6, 6, 6, 6, 7, 6, 6, 4, 5, 5, 6, 7, 5, 4, 5, 5, 4, 6, 5, 5, 6, 6, 4, 6, 6, 5, 5, 7, 7, 7, 4, 7, 5, 6, 6, 5, 6, 5, 6, 5, 6, 7, 6, 6, 4, 5, 5, 7, 7, 5, 7, 4, 6, 6, 6, 6, 4, 5, 4, 7, 4, 5, 5, 7, 4, 6, 5, 5, 6, 7, 7, 7, 6, 6, 7, 4, 7, 6, 5, 7, 6, 6, 6, 5, 5, 6, 7, 7, 6, 5, 5, 7, 5, 4, 5, 6, 7, 7, 7, 6, 4, 7, 5, 5, 7, 6, 5, 7, 5, 7, 5, 5, 7, 7, 6, 7, 7, 4, 7, 7, 7, 5, 5, 4, 6, 4, 5, 4, 5, 4, 4, 7, 6, 6, 7, 7, 5, 4, 6, 6, 7, 4, 4, 5, 4, 6, 6, 6, 5, 6, 6, 7, 6, 5, 5, 7, 6, 5, 5, 7, 7, 4, 7, 6, 7, 6, 5, 5, 7, 6, 6, 6, 7, 4, 6, 7, 5, 7, 7, 7, 6, 6, 6, 5, 5, 5, 6, 7, 5, 6, 6, 7, 5, 5, 7, 6, 4, 7, 7, 7, 6, 4, 7, 6, 5, 6, 5, 6, 6, 4, 7, 5, 5, 5, 7, 6, 7, 6, 7, 7, 5, 6, 4, 6, 7, 7, 5, 7, 5, 7, 7, 5, 4, 5, 4, 6, 4, 4, 5, 7, 5, 6, 7, 5, 6, 5, 6, 7, 5, 7, 5, 6, 7, 6, 5, 7, 6, 7, 6, 6, 7, 6, 6, 5, 6, 5, 7, 5, 6, 5, 5, 7, 5, 5, 6, 6, 4, 7, 7, 6, 6, 6, 7, 6, 5, 4, 5, 5, 7, 6, 6, 6, 6, 4, 4, 5, 6, 6, 6, 5, 5, 6, 4, 4, 6, 5, 7, 4, 5, 5, 5, 7, 6, 7, 5, 7, 6, 7, 7, 7, 7, 7, 6, 6, 5, 5, 4, 7, 4, 7, 5, 7, 6, 7, 4, 5, 4, 6, 6, 7, 6, 5, 4, 5, 6, 7, 5, 5, 6, 4, 7, 7, 7, 7, 7, 4, 5, 4, 5, 6, 7, 4, 6, 7, 6, 7, 7, 5, 6, 5, 6, 6, 7, 5, 6, 4, 7, 5, 6, 7, 6, 6, 6, 4, 5, 5, 4, 7, 6, 7, 4, 7, 6, 5, 5, 6, 4, 5, 7, 7, 6, 7, 6, 7, 6, 6, 7, 6, 6, 5, 5, 4, 7, 5, 6, 5, 6, 5, 5, 4, 5, 7, 6, 4, 6, 5, 7, 6, 7, 7, 6, 6, 5, 5, 5, 4, 4, 6, 7, 6, 7, 6, 5, 7, 5, 5, 5, 4, 5, 6, 5, 4, 7, 7, 4, 7, 4, 6, 7, 6, 6, 7, 6, 4, 7, 6, 7, 5, 5, 7, 7, 7, 6, 4, 5, 6, 6, 6, 7, 6, 7, 4, 6, 6, 4, 5, 5, 4, 5, 7, 7, 4, 6, 6, 6, 5, 7, 7, 6, 4, 6, 5, 4, 7, 6, 6, 6, 6, 6, 7, 6, 5, 6, 4, 4, 6, 5, 7, 4, 5, 5, 6, 5, 6, 6, 5, 7, 6, 6, 4, 6, 6, 6, 6, 4, 7, 5, 5, 5, 7, 6, 5, 7, 7, 6, 5, 7, 6, 6, 7, 5, 5, 6, 7, 4, 4, 7, 6, 6, 4, 7, 5, 6, 4, 7, 5, 7, 6, 7, 7, 7, 6, 5, 4, 4, 4, 7, 4, 6, 7, 5, 6, 6, 4, 5, 4, 7, 7, 6, 6, 7, 6, 6, 5, 6, 6, 7, 7, 7, 4, 6, 4, 4, 4, 6, 5, 7, 6, 7, 7, 5, 5, 4, 5, 5, 5, 4, 4, 6, 7, 7, 7, 7, 5, 6, 6, 5, 4, 6, 5, 5, 7, 7, 6, 5, 7, 5, 6, 7, 7, 6, 6, 5, 5, 5, 4, 5, 5, 7, 6, 5, 6, 5, 7, 6, 7, 6, 7, 7, 7, 5, 5, 6, 7, 5, 4, 5, 6, 6, 6, 4, 6, 7, 5, 7, 5, 7, 6, 5, 5, 6, 6, 4, 6, 7, 6, 4, 5, 4, 7, 5, 5, 6, 7, 6, 7, 6, 5, 4, 6, 6, 6, 5, 5, 7, 5, 7, 5, 6, 5, 6, 5, 4, 7, 6, 4, 5, 7, 4, 4, 7, 5, 5, 5, 6, 7, 6, 6, 6, 7, 7, 4, 4, 6, 5, 4, 6, 5, 6, 7, 7, 7, 6, 6, 4, 7, 5, 6, 6, 7, 6, 6, 5, 5, 4, 6, 4, 4, 7, 5, 5, 7, 7, 7, 5, 7, 6, 5, 5, 5, 5, 7, 5, 5, 6, 7, 6, 7, 5, 7, 5, 7, 6, 5, 5, 5, 7, 6, 4, 7, 7, 6, 7, 5, 6, 6, 5, 6, 7, 6, 5, 7, 4, 6, 5, 6, 6, 7, 6, 6, 7, 4, 7, 7, 5, 4, 7, 6, 7, 6, 4, 6, 5, 6, 6, 6, 4, 4, 4, 4, 6, 6, 6, 6, 6, 4, 7, 4, 6, 5, 5, 6, 7, 5, 4, 7, 6, 7, 7, 5, 5, 5, 5, 6, 6, 5, 5, 7, 5, 6, 6, 7, 5, 5, 5, 7, 6, 7, 4, 6, 7, 7, 7, 7, 4, 7, 7, 7, 6, 7, 5, 5, 4, 7, 6, 6, 6, 6, 5, 6, 4, 5, 6, 4, 6, 4, 5, 5, 5, 4, 4, 7, 6, 6, 5, 7, 6, 6, 6, 5, 6, 6, 7, 4, 4, 6, 6, 5, 7, 7, 4, 7, 6, 7, 5, 4, 7, 5, 4, 7, 6, 7, 7, 4, 5, 7, 4, 5, 4, 7, 5, 7, 7, 5, 7, 5, 6, 4, 6, 5, 7, 7, 5, 5, 7, 5, 5, 5, 6, 5, 7, 6, 6, 6, 7, 7, 5, 6, 7, 6, 7, 7, 6, 6, 6, 6, 7, 5, 6, 5, 7, 5, 6, 7, 7, 6, 5, 6, 7, 6, 6, 5, 4, 6, 5, 5, 4, 7, 7, 4, 6, 5, 7, 5, 7, 5, 6, 5, 4, 6, 7, 6, 5, 5, 5, 4, 7, 5, 7, 7, 7, 5, 5, 6, 5, 4, 4, 6, 5, 7, 7, 7, 7, 6, 4, 7, 7, 6, 4, 6, 5, 6, 5, 5, 5, 6, 4, 6, 7, 6, 6, 6, 5, 5, 6, 5, 4, 7, 7, 7, 6, 5, 7, 7, 6, 5]\n"
     ]
    },
    {
     "ename": "ValueError",
     "evalue": "'label' must be of length 'x'",
     "output_type": "error",
     "traceback": [
      "\u001b[1;31m---------------------------------------------------------------------------\u001b[0m",
      "\u001b[1;31mValueError\u001b[0m                                Traceback (most recent call last)",
      "\u001b[1;32m<ipython-input-28-fd6024e72507>\u001b[0m in \u001b[0;36m<module>\u001b[1;34m\u001b[0m\n\u001b[0;32m     28\u001b[0m \u001b[1;31m# Use axes to create a pie chart\u001b[0m\u001b[1;33m\u001b[0m\u001b[1;33m\u001b[0m\u001b[1;33m\u001b[0m\u001b[0m\n\u001b[0;32m     29\u001b[0m     \u001b[1;31m# ax1.pie(data array, explode array, labels array, starting angle)\u001b[0m\u001b[1;33m\u001b[0m\u001b[1;33m\u001b[0m\u001b[1;33m\u001b[0m\u001b[0m\n\u001b[1;32m---> 30\u001b[1;33m \u001b[0max1\u001b[0m\u001b[1;33m.\u001b[0m\u001b[0mpie\u001b[0m\u001b[1;33m(\u001b[0m\u001b[0mfinal_results\u001b[0m\u001b[1;33m,\u001b[0m \u001b[0mexplode\u001b[0m\u001b[1;33m,\u001b[0m \u001b[0mlabels\u001b[0m\u001b[1;33m,\u001b[0m \u001b[0mautopct\u001b[0m\u001b[1;33m=\u001b[0m\u001b[1;34m'%1.1f%%'\u001b[0m\u001b[1;33m,\u001b[0m \u001b[0mstartangle\u001b[0m\u001b[1;33m=\u001b[0m\u001b[1;36m90\u001b[0m\u001b[1;33m)\u001b[0m\u001b[1;33m\u001b[0m\u001b[1;33m\u001b[0m\u001b[0m\n\u001b[0m\u001b[0;32m     31\u001b[0m \u001b[0max1\u001b[0m\u001b[1;33m.\u001b[0m\u001b[0maxis\u001b[0m\u001b[1;33m(\u001b[0m\u001b[1;34m'equal'\u001b[0m\u001b[1;33m)\u001b[0m  \u001b[1;31m# Equal aspect ratio ensures that pie is drawn as a circle.\u001b[0m\u001b[1;33m\u001b[0m\u001b[1;33m\u001b[0m\u001b[0m\n\u001b[0;32m     32\u001b[0m \u001b[1;33m\u001b[0m\u001b[0m\n",
      "\u001b[1;32mC:\\ProgramData\\Anaconda3\\lib\\site-packages\\matplotlib\\__init__.py\u001b[0m in \u001b[0;36minner\u001b[1;34m(ax, data, *args, **kwargs)\u001b[0m\n\u001b[0;32m   1599\u001b[0m     \u001b[1;32mdef\u001b[0m \u001b[0minner\u001b[0m\u001b[1;33m(\u001b[0m\u001b[0max\u001b[0m\u001b[1;33m,\u001b[0m \u001b[1;33m*\u001b[0m\u001b[0margs\u001b[0m\u001b[1;33m,\u001b[0m \u001b[0mdata\u001b[0m\u001b[1;33m=\u001b[0m\u001b[1;32mNone\u001b[0m\u001b[1;33m,\u001b[0m \u001b[1;33m**\u001b[0m\u001b[0mkwargs\u001b[0m\u001b[1;33m)\u001b[0m\u001b[1;33m:\u001b[0m\u001b[1;33m\u001b[0m\u001b[1;33m\u001b[0m\u001b[0m\n\u001b[0;32m   1600\u001b[0m         \u001b[1;32mif\u001b[0m \u001b[0mdata\u001b[0m \u001b[1;32mis\u001b[0m \u001b[1;32mNone\u001b[0m\u001b[1;33m:\u001b[0m\u001b[1;33m\u001b[0m\u001b[1;33m\u001b[0m\u001b[0m\n\u001b[1;32m-> 1601\u001b[1;33m             \u001b[1;32mreturn\u001b[0m \u001b[0mfunc\u001b[0m\u001b[1;33m(\u001b[0m\u001b[0max\u001b[0m\u001b[1;33m,\u001b[0m \u001b[1;33m*\u001b[0m\u001b[0mmap\u001b[0m\u001b[1;33m(\u001b[0m\u001b[0msanitize_sequence\u001b[0m\u001b[1;33m,\u001b[0m \u001b[0margs\u001b[0m\u001b[1;33m)\u001b[0m\u001b[1;33m,\u001b[0m \u001b[1;33m**\u001b[0m\u001b[0mkwargs\u001b[0m\u001b[1;33m)\u001b[0m\u001b[1;33m\u001b[0m\u001b[1;33m\u001b[0m\u001b[0m\n\u001b[0m\u001b[0;32m   1602\u001b[0m \u001b[1;33m\u001b[0m\u001b[0m\n\u001b[0;32m   1603\u001b[0m         \u001b[0mbound\u001b[0m \u001b[1;33m=\u001b[0m \u001b[0mnew_sig\u001b[0m\u001b[1;33m.\u001b[0m\u001b[0mbind\u001b[0m\u001b[1;33m(\u001b[0m\u001b[0max\u001b[0m\u001b[1;33m,\u001b[0m \u001b[1;33m*\u001b[0m\u001b[0margs\u001b[0m\u001b[1;33m,\u001b[0m \u001b[1;33m**\u001b[0m\u001b[0mkwargs\u001b[0m\u001b[1;33m)\u001b[0m\u001b[1;33m\u001b[0m\u001b[1;33m\u001b[0m\u001b[0m\n",
      "\u001b[1;32mC:\\ProgramData\\Anaconda3\\lib\\site-packages\\matplotlib\\axes\\_axes.py\u001b[0m in \u001b[0;36mpie\u001b[1;34m(self, x, explode, labels, colors, autopct, pctdistance, shadow, labeldistance, startangle, radius, counterclock, wedgeprops, textprops, center, frame, rotatelabels)\u001b[0m\n\u001b[0;32m   2981\u001b[0m             \u001b[0mexplode\u001b[0m \u001b[1;33m=\u001b[0m \u001b[1;33m[\u001b[0m\u001b[1;36m0\u001b[0m\u001b[1;33m]\u001b[0m \u001b[1;33m*\u001b[0m \u001b[0mlen\u001b[0m\u001b[1;33m(\u001b[0m\u001b[0mx\u001b[0m\u001b[1;33m)\u001b[0m\u001b[1;33m\u001b[0m\u001b[1;33m\u001b[0m\u001b[0m\n\u001b[0;32m   2982\u001b[0m         \u001b[1;32mif\u001b[0m \u001b[0mlen\u001b[0m\u001b[1;33m(\u001b[0m\u001b[0mx\u001b[0m\u001b[1;33m)\u001b[0m \u001b[1;33m!=\u001b[0m \u001b[0mlen\u001b[0m\u001b[1;33m(\u001b[0m\u001b[0mlabels\u001b[0m\u001b[1;33m)\u001b[0m\u001b[1;33m:\u001b[0m\u001b[1;33m\u001b[0m\u001b[1;33m\u001b[0m\u001b[0m\n\u001b[1;32m-> 2983\u001b[1;33m             \u001b[1;32mraise\u001b[0m \u001b[0mValueError\u001b[0m\u001b[1;33m(\u001b[0m\u001b[1;34m\"'label' must be of length 'x'\"\u001b[0m\u001b[1;33m)\u001b[0m\u001b[1;33m\u001b[0m\u001b[1;33m\u001b[0m\u001b[0m\n\u001b[0m\u001b[0;32m   2984\u001b[0m         \u001b[1;32mif\u001b[0m \u001b[0mlen\u001b[0m\u001b[1;33m(\u001b[0m\u001b[0mx\u001b[0m\u001b[1;33m)\u001b[0m \u001b[1;33m!=\u001b[0m \u001b[0mlen\u001b[0m\u001b[1;33m(\u001b[0m\u001b[0mexplode\u001b[0m\u001b[1;33m)\u001b[0m\u001b[1;33m:\u001b[0m\u001b[1;33m\u001b[0m\u001b[1;33m\u001b[0m\u001b[0m\n\u001b[0;32m   2985\u001b[0m             \u001b[1;32mraise\u001b[0m \u001b[0mValueError\u001b[0m\u001b[1;33m(\u001b[0m\u001b[1;34m\"'explode' must be of length 'x'\"\u001b[0m\u001b[1;33m)\u001b[0m\u001b[1;33m\u001b[0m\u001b[1;33m\u001b[0m\u001b[0m\n",
      "\u001b[1;31mValueError\u001b[0m: 'label' must be of length 'x'"
     ]
    },
    {
     "data": {
      "image/png": "[encoded data removed]",
      "text/plain": [
       "<Figure size 432x288 with 1 Axes>"
      ]
     },
     "metadata": {
      "needs_background": "light"
     },
     "output_type": "display_data"
    }
   ],
   "source": [
    "# source: http://matplotlib.org/examples/pie_and_polar_charts/pie_demo_features.html\n",
    "\n",
    "# Import the library\n",
    "import matplotlib.pyplot as plot\n",
    "%matplotlib inline\n",
    "# Magic to allow the graph to display directly in this notebook\n",
    "\n",
    "# Create an array of labels\n",
    "labels = [\"4 Games\", \"5 Games\", \"6 Games\", \"7 Games\"]\n",
    "\n",
    "# Crop the game_bin array to exclude the 0's\n",
    "    # Only need indices 4 to the end\n",
    "print(bins)\n",
    "#improved_bins = bins[4:-1]\n",
    "improved_bins = [3,45, 6, 7]\n",
    "print(improved_bins)\n",
    "\n",
    "# Explode option\n",
    "    # 'Slices' appear distanced from the center\n",
    "        # Larger numbers = further explosion\n",
    "    # Explode array should be same size as labels and\n",
    "explode = (0, 0, 0, 0)\n",
    "\n",
    "# Use matplotlib module subplots() to get data for various charts\n",
    "    # Returns a tuple in the form (figure,axes)\n",
    "fig1,ax1 = plot.subplots()\n",
    "print(final_results)\n",
    "# Use axes to create a pie chart\n",
    "    # ax1.pie(data array, explode array, labels array, starting angle)\n",
    "ax1.pie(final_results, explode, labels, autopct='%1.1f%%', startangle=90)\n",
    "ax1.axis('equal')  # Equal aspect ratio ensures that pie is drawn as a circle.\n",
    "\n",
    "plot.show()"
   ]
  },
  {
   "cell_type": "markdown",
   "metadata": {},
   "source": [
    "### Don't forget to answer the original question!\n",
    "* Answer should be in the form of a complete sentence"
   ]
  },
  {
   "cell_type": "markdown",
   "metadata": {},
   "source": []
  },
  {
   "cell_type": "markdown",
   "metadata": {
    "collapsed": true
   },
   "source": [
    "## Additional data points\n",
    "* How many times did an American League team win the World Series compared to the National League?"
   ]
  },
  {
   "cell_type": "code",
   "execution_count": null,
   "metadata": {},
   "outputs": [],
   "source": [
    "# Create variables\n",
    "winning_division_array = []\n",
    "\n",
    "# Loop through each individual World Series within the ws_results array\n",
    "    # Store first value of the tuple at index 0 (winning division)\n",
    "    # Add winning division to the winning_division_array\n",
    "for world_series in ws_results:\n",
    "    division = world_series[0]\n",
    "    winning_division_array.append(division)\n",
    "\n",
    "# Print results\n",
    "print(winning_division_array[:50])"
   ]
  },
  {
   "cell_type": "markdown",
   "metadata": {},
   "source": [
    "#### Count the totals of NL and AL\n",
    "* Loop through each winning division in the array\n",
    "* Update a count for each division accordingly"
   ]
  },
  {
   "cell_type": "code",
   "execution_count": null,
   "metadata": {},
   "outputs": [],
   "source": [
    "# Create variables\n",
    "total_al = 0\n",
    "total_nl = 0\n",
    "\n",
    "# Loop through each division in the winning_division_array, update wins\n",
    "for division in winning_division_array:\n",
    "    if division == \"AL\":\n",
    "        total_al = total_al + 1\n",
    "    else:\n",
    "        total_nl = total_nl + 1\n",
    "\n",
    "# Display results\n",
    "print(\"Number NL wins: \" + str(total_nl))\n",
    "print(\"Number AL wins: \" + str(total_al))"
   ]
  },
  {
   "cell_type": "markdown",
   "metadata": {},
   "source": [
    "### Don't forget to answer the original question!\n",
    "* Answer should be in the form of a complete sentence"
   ]
  },
  {
   "cell_type": "markdown",
   "metadata": {},
   "source": [
    "Based on average it takes teams about 5.6954 games to win the World Series.\n",
    "\n"
   ]
  },
  {
   "cell_type": "markdown",
   "metadata": {},
   "source": [
    "###  What else can you learn from this data?  In the markdown cell below, list at least 2 questions that you would be able to answer by further analyzing the data.  (Note:  you do not need to actually answer the questions). "
   ]
  },
  {
   "cell_type": "markdown",
   "metadata": {
    "collapsed": true
   },
   "source": [
    "How many times does AL and NL win after simulating 10,000 World Series?"
   ]
  },
  {
   "cell_type": "markdown",
   "metadata": {},
   "source": [
    "What are the chances that a team can win by a certain number of games. "
   ]
  },
  {
   "cell_type": "code",
   "execution_count": null,
   "metadata": {},
   "outputs": [],
   "source": []
  }
 ],
 "metadata": {
  "anaconda-cloud": {},
  "kernelspec": {
   "display_name": "Python 3",
   "language": "python",
   "name": "python3"
  },
  "language_info": {
   "codemirror_mode": {
    "name": "ipython",
    "version": 3
   },
   "file_extension": ".py",
   "mimetype": "text/x-python",
   "name": "python",
   "nbconvert_exporter": "python",
   "pygments_lexer": "ipython3",
   "version": "3.7.4"
  }
 },
 "nbformat": 4,
 "nbformat_minor": 1
}
