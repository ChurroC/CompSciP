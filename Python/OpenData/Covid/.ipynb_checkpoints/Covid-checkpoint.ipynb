{
 "cells": [
  {
   "cell_type": "markdown",
   "metadata": {},
   "source": [
    "<h1 style=\"text-align: center;\">Covid Data</h1>"
   ]
  },
  {
   "cell_type": "markdown",
   "metadata": {},
   "source": [
    "Use death or survivurs for pie chart"
   ]
  },
  {
   "cell_type": "markdown",
   "metadata": {},
   "source": [
    "Use different state data for historgram"
   ]
  },
  {
   "cell_type": "markdown",
   "metadata": {},
   "source": [
    "Also Get data from live and add it to the main data to fet full list. Call other lists past data."
   ]
  },
  {
   "cell_type": "code",
   "execution_count": 10,
   "metadata": {},
   "outputs": [
    {
     "data": {
      "text/html": [
       "<style>.container { width:80% !important; }</style>"
      ],
      "text/plain": [
       "<IPython.core.display.HTML object>"
      ]
     },
     "metadata": {},
     "output_type": "display_data"
    },
    {
     "data": {
      "text/html": [
       "<style>.output {align-items: center;}</style>"
      ],
      "text/plain": [
       "<IPython.core.display.HTML object>"
      ]
     },
     "execution_count": 10,
     "metadata": {},
     "output_type": "execute_result"
    }
   ],
   "source": [
    "from IPython.display import display, HTML\n",
    "display(HTML(\"<style>.container { width:80% !important; }</style>\"))\n",
    "HTML('<style>{}</style>'.format('.output {align-items: center;}'))"
   ]
  },
  {
   "cell_type": "markdown",
   "metadata": {},
   "source": [
    "<h2 style=\"text-align: center;\">Import And Trim</h2>"
   ]
  },
  {
   "cell_type": "markdown",
   "metadata": {},
   "source": [
    "<h3 style=\"text-align: center;\">Getting Live Covid Data</h3>"
   ]
  },
  {
   "cell_type": "markdown",
   "metadata": {},
   "source": [
    "<p style=\"text-align: center;\">Past data has data form all days other than today. Live data only had data from today.</p>"
   ]
  },
  {
   "cell_type": "code",
   "execution_count": 1,
   "metadata": {},
   "outputs": [],
   "source": [
    "def get_file_read():\n",
    "    url_to_file = requests.get(us_data_link).content\n",
    "    us_data = pd.read_csv(io.StringIO(url_to_file.decode('utf-8')))"
   ]
  },
  {
   "cell_type": "code",
   "execution_count": 24,
   "metadata": {},
   "outputs": [
    {
     "data": {
      "text/html": [
       "<div>\n",
       "<style scoped>\n",
       "    .dataframe tbody tr th:only-of-type {\n",
       "        vertical-align: middle;\n",
       "    }\n",
       "\n",
       "    .dataframe tbody tr th {\n",
       "        vertical-align: top;\n",
       "    }\n",
       "\n",
       "    .dataframe thead th {\n",
       "        text-align: right;\n",
       "    }\n",
       "</style>\n",
       "<table border=\"1\" class=\"dataframe\">\n",
       "  <thead>\n",
       "    <tr style=\"text-align: right;\">\n",
       "      <th></th>\n",
       "      <th>date</th>\n",
       "      <th>cases</th>\n",
       "      <th>deaths</th>\n",
       "    </tr>\n",
       "  </thead>\n",
       "  <tbody>\n",
       "    <tr>\n",
       "      <td>817</td>\n",
       "      <td>2022-04-17</td>\n",
       "      <td>80534999</td>\n",
       "      <td>987228</td>\n",
       "    </tr>\n",
       "    <tr>\n",
       "      <td>818</td>\n",
       "      <td>2022-04-18</td>\n",
       "      <td>80595074</td>\n",
       "      <td>987545</td>\n",
       "    </tr>\n",
       "    <tr>\n",
       "      <td>819</td>\n",
       "      <td>2022-04-19</td>\n",
       "      <td>80645527</td>\n",
       "      <td>987999</td>\n",
       "    </tr>\n",
       "    <tr>\n",
       "      <td>820</td>\n",
       "      <td>2022-04-20</td>\n",
       "      <td>80708425</td>\n",
       "      <td>988610</td>\n",
       "    </tr>\n",
       "    <tr>\n",
       "      <td>821</td>\n",
       "      <td>2022-04-21</td>\n",
       "      <td>80767519</td>\n",
       "      <td>989094</td>\n",
       "    </tr>\n",
       "  </tbody>\n",
       "</table>\n",
       "</div>"
      ],
      "text/plain": [
       "           date     cases  deaths\n",
       "817  2022-04-17  80534999  987228\n",
       "818  2022-04-18  80595074  987545\n",
       "819  2022-04-19  80645527  987999\n",
       "820  2022-04-20  80708425  988610\n",
       "821  2022-04-21  80767519  989094"
      ]
     },
     "metadata": {},
     "output_type": "display_data"
    }
   ],
   "source": [
    "import pandas as pd\n",
    "import io, requests\n",
    "\n",
    "us_data_link_past = 'https://raw.githubusercontent.com/nytimes/covid-19-data/master/us.csv'\n",
    "url_to_file = requests.get(us_data_link_past).content\n",
    "us_data_past = pd.read_csv(io.StringIO(url_to_file.decode('utf-8')))\n",
    "\n",
    "us_states_data_link_past = 'https://raw.githubusercontent.com/nytimes/covid-19-data/master/us-states.csv'\n",
    "url_to_file = requests.get(us_states_data_link_past).content\n",
    "us_states_data_past = pd.read_csv(io.StringIO(url_to_file.decode('utf-8')))\n",
    "\n",
    "us_counties_data_link_past = 'https://raw.githubusercontent.com/nytimes/covid-19-data/master/us-counties.csv'\n",
    "url_to_file = requests.get(us_counties_data_link_past).content\n",
    "us_counties_data_past = pd.read_csv(io.StringIO(url_to_file.decode('utf-8')))\n",
    "\n",
    "\n",
    "us_data_link_today = 'https://raw.githubusercontent.com/nytimes/covid-19-data/master/live/us.csv'\n",
    "url_to_file = requests.get(us_data_link_today).content\n",
    "us_data_today = pd.read_csv(io.StringIO(url_to_file.decode('utf-8')))\n",
    "\n",
    "us_states_data_link_today = 'https://raw.githubusercontent.com/nytimes/covid-19-data/master/live/us-states.csv'\n",
    "url_to_file = requests.get(us_states_data_link_today).content\n",
    "us_data_states_today = pd.read_csv(io.StringIO(url_to_file.decode('utf-8')))\n",
    "\n",
    "us_counties_data_link_today = 'https://raw.githubusercontent.com/nytimes/covid-19-data/master/live/us-counties.csv'\n",
    "url_to_file = requests.get(us_counties_data_link_today).content\n",
    "us_data_counties_today = pd.read_csv(io.StringIO(url_to_file.decode('utf-8')))\n",
    "\n",
    "display(us_data_past[-5:])"
   ]
  },
  {
   "cell_type": "markdown",
   "metadata": {},
   "source": [
    "<p style=\"text-align: center;\">The following code add all the data from the today and past dataset to get a live dataset.</p>"
   ]
  },
  {
   "cell_type": "code",
   "execution_count": 64,
   "metadata": {},
   "outputs": [
    {
     "data": {
      "text/html": [
       "<div>\n",
       "<style scoped>\n",
       "    .dataframe tbody tr th:only-of-type {\n",
       "        vertical-align: middle;\n",
       "    }\n",
       "\n",
       "    .dataframe tbody tr th {\n",
       "        vertical-align: top;\n",
       "    }\n",
       "\n",
       "    .dataframe thead th {\n",
       "        text-align: right;\n",
       "    }\n",
       "</style>\n",
       "<table border=\"1\" class=\"dataframe\">\n",
       "  <thead>\n",
       "    <tr style=\"text-align: right;\">\n",
       "      <th></th>\n",
       "      <th>date</th>\n",
       "      <th>cases</th>\n",
       "      <th>deaths</th>\n",
       "      <th>confirmed_cases</th>\n",
       "      <th>confirmed_deaths</th>\n",
       "      <th>probable_cases</th>\n",
       "      <th>probable_deaths</th>\n",
       "    </tr>\n",
       "  </thead>\n",
       "  <tbody>\n",
       "    <tr>\n",
       "      <td>818</td>\n",
       "      <td>2022-04-18</td>\n",
       "      <td>80595074</td>\n",
       "      <td>987545</td>\n",
       "      <td>NaN</td>\n",
       "      <td>NaN</td>\n",
       "      <td>NaN</td>\n",
       "      <td>NaN</td>\n",
       "    </tr>\n",
       "    <tr>\n",
       "      <td>819</td>\n",
       "      <td>2022-04-19</td>\n",
       "      <td>80645527</td>\n",
       "      <td>987999</td>\n",
       "      <td>NaN</td>\n",
       "      <td>NaN</td>\n",
       "      <td>NaN</td>\n",
       "      <td>NaN</td>\n",
       "    </tr>\n",
       "    <tr>\n",
       "      <td>820</td>\n",
       "      <td>2022-04-20</td>\n",
       "      <td>80708425</td>\n",
       "      <td>988610</td>\n",
       "      <td>NaN</td>\n",
       "      <td>NaN</td>\n",
       "      <td>NaN</td>\n",
       "      <td>NaN</td>\n",
       "    </tr>\n",
       "    <tr>\n",
       "      <td>821</td>\n",
       "      <td>2022-04-21</td>\n",
       "      <td>80767519</td>\n",
       "      <td>989094</td>\n",
       "      <td>NaN</td>\n",
       "      <td>NaN</td>\n",
       "      <td>NaN</td>\n",
       "      <td>NaN</td>\n",
       "    </tr>\n",
       "    <tr>\n",
       "      <td>822</td>\n",
       "      <td>2022-04-22</td>\n",
       "      <td>80782981</td>\n",
       "      <td>989137</td>\n",
       "      <td>NaN</td>\n",
       "      <td>NaN</td>\n",
       "      <td>NaN</td>\n",
       "      <td>NaN</td>\n",
       "    </tr>\n",
       "  </tbody>\n",
       "</table>\n",
       "</div>"
      ],
      "text/plain": [
       "           date     cases  deaths  confirmed_cases  confirmed_deaths  \\\n",
       "818  2022-04-18  80595074  987545              NaN               NaN   \n",
       "819  2022-04-19  80645527  987999              NaN               NaN   \n",
       "820  2022-04-20  80708425  988610              NaN               NaN   \n",
       "821  2022-04-21  80767519  989094              NaN               NaN   \n",
       "822  2022-04-22  80782981  989137              NaN               NaN   \n",
       "\n",
       "     probable_cases  probable_deaths  \n",
       "818             NaN              NaN  \n",
       "819             NaN              NaN  \n",
       "820             NaN              NaN  \n",
       "821             NaN              NaN  \n",
       "822             NaN              NaN  "
      ]
     },
     "metadata": {},
     "output_type": "display_data"
    }
   ],
   "source": [
    "us_data = pd.merge(us_data_past, us_data_today, how='outer')\n",
    "us_states_data = pd.merge(us_states_data_past, us_data_states_today, how='outer')\n",
    "us_counties_data = pd.merge(us_counties_data_past, us_data_counties_today, how='outer')\n",
    "display(us_data[-5:])"
   ]
  },
  {
   "cell_type": "code",
   "execution_count": 28,
   "metadata": {},
   "outputs": [
    {
     "data": {
      "text/html": [
       "<div>\n",
       "<style scoped>\n",
       "    .dataframe tbody tr th:only-of-type {\n",
       "        vertical-align: middle;\n",
       "    }\n",
       "\n",
       "    .dataframe tbody tr th {\n",
       "        vertical-align: top;\n",
       "    }\n",
       "\n",
       "    .dataframe thead th {\n",
       "        text-align: right;\n",
       "    }\n",
       "</style>\n",
       "<table border=\"1\" class=\"dataframe\">\n",
       "  <thead>\n",
       "    <tr style=\"text-align: right;\">\n",
       "      <th></th>\n",
       "      <th>date</th>\n",
       "      <th>cases</th>\n",
       "      <th>deaths</th>\n",
       "    </tr>\n",
       "  </thead>\n",
       "  <tbody>\n",
       "    <tr>\n",
       "      <td>100</td>\n",
       "      <td>2020-04-30</td>\n",
       "      <td>1075756</td>\n",
       "      <td>63140</td>\n",
       "    </tr>\n",
       "    <tr>\n",
       "      <td>101</td>\n",
       "      <td>2020-05-01</td>\n",
       "      <td>1109726</td>\n",
       "      <td>64902</td>\n",
       "    </tr>\n",
       "    <tr>\n",
       "      <td>102</td>\n",
       "      <td>2020-05-02</td>\n",
       "      <td>1139200</td>\n",
       "      <td>66485</td>\n",
       "    </tr>\n",
       "    <tr>\n",
       "      <td>103</td>\n",
       "      <td>2020-05-03</td>\n",
       "      <td>1165340</td>\n",
       "      <td>67816</td>\n",
       "    </tr>\n",
       "    <tr>\n",
       "      <td>104</td>\n",
       "      <td>2020-05-04</td>\n",
       "      <td>1187302</td>\n",
       "      <td>68905</td>\n",
       "    </tr>\n",
       "    <tr>\n",
       "      <td>...</td>\n",
       "      <td>...</td>\n",
       "      <td>...</td>\n",
       "      <td>...</td>\n",
       "    </tr>\n",
       "    <tr>\n",
       "      <td>195</td>\n",
       "      <td>2020-08-03</td>\n",
       "      <td>4726775</td>\n",
       "      <td>155945</td>\n",
       "    </tr>\n",
       "    <tr>\n",
       "      <td>196</td>\n",
       "      <td>2020-08-04</td>\n",
       "      <td>4780324</td>\n",
       "      <td>157301</td>\n",
       "    </tr>\n",
       "    <tr>\n",
       "      <td>197</td>\n",
       "      <td>2020-08-05</td>\n",
       "      <td>4834047</td>\n",
       "      <td>158554</td>\n",
       "    </tr>\n",
       "    <tr>\n",
       "      <td>198</td>\n",
       "      <td>2020-08-06</td>\n",
       "      <td>4891561</td>\n",
       "      <td>159625</td>\n",
       "    </tr>\n",
       "    <tr>\n",
       "      <td>199</td>\n",
       "      <td>2020-08-07</td>\n",
       "      <td>4952718</td>\n",
       "      <td>160981</td>\n",
       "    </tr>\n",
       "  </tbody>\n",
       "</table>\n",
       "<p>100 rows × 3 columns</p>\n",
       "</div>"
      ],
      "text/plain": [
       "           date    cases  deaths\n",
       "100  2020-04-30  1075756   63140\n",
       "101  2020-05-01  1109726   64902\n",
       "102  2020-05-02  1139200   66485\n",
       "103  2020-05-03  1165340   67816\n",
       "104  2020-05-04  1187302   68905\n",
       "..          ...      ...     ...\n",
       "195  2020-08-03  4726775  155945\n",
       "196  2020-08-04  4780324  157301\n",
       "197  2020-08-05  4834047  158554\n",
       "198  2020-08-06  4891561  159625\n",
       "199  2020-08-07  4952718  160981\n",
       "\n",
       "[100 rows x 3 columns]"
      ]
     },
     "metadata": {},
     "output_type": "display_data"
    }
   ],
   "source": []
  },
  {
   "cell_type": "markdown",
   "metadata": {},
   "source": [
    "<h4 style=\"text-align: center;\">Question: What Is The State With The Most Deaths?</h4>"
   ]
  },
  {
   "cell_type": "code",
   "execution_count": null,
   "metadata": {},
   "outputs": [],
   "source": []
  }
 ],
 "metadata": {
  "kernelspec": {
   "display_name": "Python 3",
   "language": "python",
   "name": "python3"
  },
  "language_info": {
   "codemirror_mode": {
    "name": "ipython",
    "version": 3
   },
   "file_extension": ".py",
   "mimetype": "text/x-python",
   "name": "python",
   "nbconvert_exporter": "python",
   "pygments_lexer": "ipython3",
   "version": "3.7.4"
  }
 },
 "nbformat": 4,
 "nbformat_minor": 2
}
