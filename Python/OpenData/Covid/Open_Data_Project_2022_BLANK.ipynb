{
 "cells": [
  {
   "cell_type": "markdown",
   "metadata": {},
   "source": [
    "# Covid Data\n",
    "\n",
    "Name: Charan Chandran\n",
    "\n",
    "Date: 4/20/22\n",
    "\n",
    "Source for Data Set: New York Times\n",
    "\n",
    "URL for Data Set: https://github.com/nytimes/covid-19-data\n",
    "\n",
    "Description of Data Set: Covid-19 Data\n",
    "* Please give a one-paragraph explanation of what this data set is and what it contains\n",
    "* Your data set must be notably different than our in-class example (no salary data, for example)\n",
    "* You must pick a different data set than your neighbors and your friends in the class\n",
    "\n",
    "File Format for Data Set: .csv\n",
    "\n",
    "Last Updated: 4/27/22"
   ]
  },
  {
   "cell_type": "code",
   "execution_count": 2,
   "metadata": {},
   "outputs": [
    {
     "data": {
      "text/html": [
       "<style>.container { width:80% !important; }</style>"
      ],
      "text/plain": [
       "<IPython.core.display.HTML object>"
      ]
     },
     "metadata": {},
     "output_type": "display_data"
    },
    {
     "data": {
      "text/html": [
       "<style>.output {align-items: center;}</style>"
      ],
      "text/plain": [
       "<IPython.core.display.HTML object>"
      ]
     },
     "execution_count": 2,
     "metadata": {},
     "output_type": "execute_result"
    }
   ],
   "source": [
    "from IPython.display import display, HTML\n",
    "display(HTML(\"<style>.container { width:80% !important; }</style>\"))\n",
    "HTML('<style>{}</style>'.format('.output {align-items: center;}'))"
   ]
  },
  {
   "cell_type": "markdown",
   "metadata": {},
   "source": [
    "# Part 1: Import and Trim Data (12 points)\n",
    "* Import file as a pandas dataframe\n",
    "* Display size of data\n",
    "* Create a numerical pandas series\n",
    "* Convert series data type to floating point numbers\n",
    "* Convert series to a numpy array, remove 'NaN' entries\n",
    "* Compute three common statistics"
   ]
  },
  {
   "cell_type": "markdown",
   "metadata": {},
   "source": [
    "### Import file as a pandas data frame\n",
    "* Store in an appropriately-named variable\n",
    "* Show the first 10 entries:\n",
    "    * This is a good way for you to see if your modification was successful and to see what the data looks like in your data set."
   ]
  },
  {
   "cell_type": "code",
   "execution_count": 3,
   "metadata": {
    "collapsed": true
   },
   "outputs": [
    {
     "data": {
      "text/html": [
       "<div>\n",
       "<style scoped>\n",
       "    .dataframe tbody tr th:only-of-type {\n",
       "        vertical-align: middle;\n",
       "    }\n",
       "\n",
       "    .dataframe tbody tr th {\n",
       "        vertical-align: top;\n",
       "    }\n",
       "\n",
       "    .dataframe thead th {\n",
       "        text-align: right;\n",
       "    }\n",
       "</style>\n",
       "<table border=\"1\" class=\"dataframe\">\n",
       "  <thead>\n",
       "    <tr style=\"text-align: right;\">\n",
       "      <th></th>\n",
       "      <th>date</th>\n",
       "      <th>cases</th>\n",
       "      <th>deaths</th>\n",
       "    </tr>\n",
       "  </thead>\n",
       "  <tbody>\n",
       "    <tr>\n",
       "      <th>0</th>\n",
       "      <td>2020-01-21</td>\n",
       "      <td>1</td>\n",
       "      <td>0</td>\n",
       "    </tr>\n",
       "    <tr>\n",
       "      <th>1</th>\n",
       "      <td>2020-01-22</td>\n",
       "      <td>1</td>\n",
       "      <td>0</td>\n",
       "    </tr>\n",
       "    <tr>\n",
       "      <th>2</th>\n",
       "      <td>2020-01-23</td>\n",
       "      <td>1</td>\n",
       "      <td>0</td>\n",
       "    </tr>\n",
       "    <tr>\n",
       "      <th>3</th>\n",
       "      <td>2020-01-24</td>\n",
       "      <td>2</td>\n",
       "      <td>0</td>\n",
       "    </tr>\n",
       "    <tr>\n",
       "      <th>4</th>\n",
       "      <td>2020-01-25</td>\n",
       "      <td>3</td>\n",
       "      <td>0</td>\n",
       "    </tr>\n",
       "    <tr>\n",
       "      <th>5</th>\n",
       "      <td>2020-01-26</td>\n",
       "      <td>5</td>\n",
       "      <td>0</td>\n",
       "    </tr>\n",
       "    <tr>\n",
       "      <th>6</th>\n",
       "      <td>2020-01-27</td>\n",
       "      <td>5</td>\n",
       "      <td>0</td>\n",
       "    </tr>\n",
       "    <tr>\n",
       "      <th>7</th>\n",
       "      <td>2020-01-28</td>\n",
       "      <td>5</td>\n",
       "      <td>0</td>\n",
       "    </tr>\n",
       "    <tr>\n",
       "      <th>8</th>\n",
       "      <td>2020-01-29</td>\n",
       "      <td>5</td>\n",
       "      <td>0</td>\n",
       "    </tr>\n",
       "    <tr>\n",
       "      <th>9</th>\n",
       "      <td>2020-01-30</td>\n",
       "      <td>6</td>\n",
       "      <td>0</td>\n",
       "    </tr>\n",
       "  </tbody>\n",
       "</table>\n",
       "</div>"
      ],
      "text/plain": [
       "         date  cases  deaths\n",
       "0  2020-01-21      1       0\n",
       "1  2020-01-22      1       0\n",
       "2  2020-01-23      1       0\n",
       "3  2020-01-24      2       0\n",
       "4  2020-01-25      3       0\n",
       "5  2020-01-26      5       0\n",
       "6  2020-01-27      5       0\n",
       "7  2020-01-28      5       0\n",
       "8  2020-01-29      5       0\n",
       "9  2020-01-30      6       0"
      ]
     },
     "execution_count": 3,
     "metadata": {},
     "output_type": "execute_result"
    }
   ],
   "source": [
    "import pandas as pd\n",
    "import io, requests\n",
    "\n",
    "#Past data has data form all days other than today. Live data only had data from today.\n",
    "\n",
    "#I took the data from the website and put it into a dataframe.\n",
    "us_data_link_past = 'https://raw.githubusercontent.com/nytimes/covid-19-data/master/us.csv'\n",
    "url_to_file = requests.get(us_data_link_past).content\n",
    "us_data_past = pd.read_csv(io.StringIO(url_to_file.decode('utf-8')))\n",
    "\n",
    "us_states_data_link_past = 'https://raw.githubusercontent.com/nytimes/covid-19-data/master/us-states.csv'\n",
    "url_to_file = requests.get(us_states_data_link_past).content\n",
    "us_states_data_past = pd.read_csv(io.StringIO(url_to_file.decode('utf-8')))\n",
    "\n",
    "us_counties_data_link_past = 'https://raw.githubusercontent.com/nytimes/covid-19-data/master/us-counties.csv'\n",
    "url_to_file = requests.get(us_counties_data_link_past).content\n",
    "us_counties_data_past = pd.read_csv(io.StringIO(url_to_file.decode('utf-8')))\n",
    "\n",
    "\n",
    "us_data_link_today = 'https://raw.githubusercontent.com/nytimes/covid-19-data/master/live/us.csv'\n",
    "url_to_file = requests.get(us_data_link_today).content\n",
    "us_data_today = pd.read_csv(io.StringIO(url_to_file.decode('utf-8')))\n",
    "\n",
    "us_states_data_link_today = 'https://raw.githubusercontent.com/nytimes/covid-19-data/master/live/us-states.csv'\n",
    "url_to_file = requests.get(us_states_data_link_today).content\n",
    "us_data_states_today = pd.read_csv(io.StringIO(url_to_file.decode('utf-8')))\n",
    "\n",
    "us_counties_data_link_today = 'https://raw.githubusercontent.com/nytimes/covid-19-data/master/live/us-counties.csv'\n",
    "url_to_file = requests.get(us_counties_data_link_today).content\n",
    "us_data_counties_today = pd.read_csv(io.StringIO(url_to_file.decode('utf-8')))\n",
    "\n",
    "us_data_past[:10]"
   ]
  },
  {
   "cell_type": "code",
   "execution_count": 4,
   "metadata": {},
   "outputs": [
    {
     "data": {
      "text/html": [
       "<div>\n",
       "<style scoped>\n",
       "    .dataframe tbody tr th:only-of-type {\n",
       "        vertical-align: middle;\n",
       "    }\n",
       "\n",
       "    .dataframe tbody tr th {\n",
       "        vertical-align: top;\n",
       "    }\n",
       "\n",
       "    .dataframe thead th {\n",
       "        text-align: right;\n",
       "    }\n",
       "</style>\n",
       "<table border=\"1\" class=\"dataframe\">\n",
       "  <thead>\n",
       "    <tr style=\"text-align: right;\">\n",
       "      <th></th>\n",
       "      <th>date</th>\n",
       "      <th>cases</th>\n",
       "      <th>deaths</th>\n",
       "      <th>confirmed_cases</th>\n",
       "      <th>confirmed_deaths</th>\n",
       "      <th>probable_cases</th>\n",
       "      <th>probable_deaths</th>\n",
       "    </tr>\n",
       "  </thead>\n",
       "  <tbody>\n",
       "    <tr>\n",
       "      <th>0</th>\n",
       "      <td>2020-01-21</td>\n",
       "      <td>1</td>\n",
       "      <td>0</td>\n",
       "      <td>NaN</td>\n",
       "      <td>NaN</td>\n",
       "      <td>NaN</td>\n",
       "      <td>NaN</td>\n",
       "    </tr>\n",
       "    <tr>\n",
       "      <th>1</th>\n",
       "      <td>2020-01-22</td>\n",
       "      <td>1</td>\n",
       "      <td>0</td>\n",
       "      <td>NaN</td>\n",
       "      <td>NaN</td>\n",
       "      <td>NaN</td>\n",
       "      <td>NaN</td>\n",
       "    </tr>\n",
       "    <tr>\n",
       "      <th>2</th>\n",
       "      <td>2020-01-23</td>\n",
       "      <td>1</td>\n",
       "      <td>0</td>\n",
       "      <td>NaN</td>\n",
       "      <td>NaN</td>\n",
       "      <td>NaN</td>\n",
       "      <td>NaN</td>\n",
       "    </tr>\n",
       "    <tr>\n",
       "      <th>3</th>\n",
       "      <td>2020-01-24</td>\n",
       "      <td>2</td>\n",
       "      <td>0</td>\n",
       "      <td>NaN</td>\n",
       "      <td>NaN</td>\n",
       "      <td>NaN</td>\n",
       "      <td>NaN</td>\n",
       "    </tr>\n",
       "    <tr>\n",
       "      <th>4</th>\n",
       "      <td>2020-01-25</td>\n",
       "      <td>3</td>\n",
       "      <td>0</td>\n",
       "      <td>NaN</td>\n",
       "      <td>NaN</td>\n",
       "      <td>NaN</td>\n",
       "      <td>NaN</td>\n",
       "    </tr>\n",
       "    <tr>\n",
       "      <th>5</th>\n",
       "      <td>2020-01-26</td>\n",
       "      <td>5</td>\n",
       "      <td>0</td>\n",
       "      <td>NaN</td>\n",
       "      <td>NaN</td>\n",
       "      <td>NaN</td>\n",
       "      <td>NaN</td>\n",
       "    </tr>\n",
       "    <tr>\n",
       "      <th>6</th>\n",
       "      <td>2020-01-27</td>\n",
       "      <td>5</td>\n",
       "      <td>0</td>\n",
       "      <td>NaN</td>\n",
       "      <td>NaN</td>\n",
       "      <td>NaN</td>\n",
       "      <td>NaN</td>\n",
       "    </tr>\n",
       "    <tr>\n",
       "      <th>7</th>\n",
       "      <td>2020-01-28</td>\n",
       "      <td>5</td>\n",
       "      <td>0</td>\n",
       "      <td>NaN</td>\n",
       "      <td>NaN</td>\n",
       "      <td>NaN</td>\n",
       "      <td>NaN</td>\n",
       "    </tr>\n",
       "    <tr>\n",
       "      <th>8</th>\n",
       "      <td>2020-01-29</td>\n",
       "      <td>5</td>\n",
       "      <td>0</td>\n",
       "      <td>NaN</td>\n",
       "      <td>NaN</td>\n",
       "      <td>NaN</td>\n",
       "      <td>NaN</td>\n",
       "    </tr>\n",
       "    <tr>\n",
       "      <th>9</th>\n",
       "      <td>2020-01-30</td>\n",
       "      <td>6</td>\n",
       "      <td>0</td>\n",
       "      <td>NaN</td>\n",
       "      <td>NaN</td>\n",
       "      <td>NaN</td>\n",
       "      <td>NaN</td>\n",
       "    </tr>\n",
       "  </tbody>\n",
       "</table>\n",
       "</div>"
      ],
      "text/plain": [
       "         date  cases  deaths  confirmed_cases  confirmed_deaths  \\\n",
       "0  2020-01-21      1       0              NaN               NaN   \n",
       "1  2020-01-22      1       0              NaN               NaN   \n",
       "2  2020-01-23      1       0              NaN               NaN   \n",
       "3  2020-01-24      2       0              NaN               NaN   \n",
       "4  2020-01-25      3       0              NaN               NaN   \n",
       "5  2020-01-26      5       0              NaN               NaN   \n",
       "6  2020-01-27      5       0              NaN               NaN   \n",
       "7  2020-01-28      5       0              NaN               NaN   \n",
       "8  2020-01-29      5       0              NaN               NaN   \n",
       "9  2020-01-30      6       0              NaN               NaN   \n",
       "\n",
       "   probable_cases  probable_deaths  \n",
       "0             NaN              NaN  \n",
       "1             NaN              NaN  \n",
       "2             NaN              NaN  \n",
       "3             NaN              NaN  \n",
       "4             NaN              NaN  \n",
       "5             NaN              NaN  \n",
       "6             NaN              NaN  \n",
       "7             NaN              NaN  \n",
       "8             NaN              NaN  \n",
       "9             NaN              NaN  "
      ]
     },
     "execution_count": 4,
     "metadata": {},
     "output_type": "execute_result"
    }
   ],
   "source": [
    "#The following code adds all the data from the today and the past dataset to get a live dataset.\n",
    "us_data = pd.merge(us_data_past, us_data_today, how='outer')\n",
    "us_states_data = pd.merge(us_states_data_past, us_data_states_today, how='outer')\n",
    "us_counties_data = pd.merge(us_counties_data_past, us_data_counties_today, how='outer')\n",
    "us_data[:10]"
   ]
  },
  {
   "cell_type": "markdown",
   "metadata": {},
   "source": [
    "### Display size of data"
   ]
  },
  {
   "cell_type": "code",
   "execution_count": 5,
   "metadata": {
    "collapsed": true
   },
   "outputs": [
    {
     "data": {
      "text/plain": [
       "832"
      ]
     },
     "execution_count": 5,
     "metadata": {},
     "output_type": "execute_result"
    }
   ],
   "source": [
    "# Print the length of the dataframe\n",
    "len(us_data)"
   ]
  },
  {
   "cell_type": "markdown",
   "metadata": {},
   "source": [
    "### Create a numerical pandas series\n",
    "* REMINDER: A panda series is similar to a standard list, but works specifically with pandas list of functions\n",
    "* Locate a numerical column of interest in your pandas data frame\n",
    "* Store all values from that column in an appropriately-named variable\n",
    "* Show the first ten entries\n",
    "    * This is a good way for you to see if your modification was successful and to see what the data looks like"
   ]
  },
  {
   "cell_type": "code",
   "execution_count": 6,
   "metadata": {
    "collapsed": true
   },
   "outputs": [
    {
     "name": "stdout",
     "output_type": "stream",
     "text": [
      "Case List\n",
      "0    1\n",
      "1    1\n",
      "2    1\n",
      "3    2\n",
      "4    3\n",
      "5    5\n",
      "6    5\n",
      "7    5\n",
      "8    5\n",
      "9    6\n",
      "Name: cases, dtype: int64\n",
      "Death List\n",
      "0    0\n",
      "1    0\n",
      "2    0\n",
      "3    0\n",
      "4    0\n",
      "5    0\n",
      "6    0\n",
      "7    0\n",
      "8    0\n",
      "9    0\n",
      "Name: deaths, dtype: int64\n"
     ]
    }
   ],
   "source": [
    "# Store all values from the \"cases\" column to cases_list\n",
    "cases_list = us_data['cases']\n",
    "print('Case List')\n",
    "print(cases_list[:10])\n",
    "# Store all values from the \"deaths\" column to death_list\n",
    "death_list = us_data['deaths']\n",
    "print('Death List')\n",
    "print(death_list[:10])"
   ]
  },
  {
   "cell_type": "markdown",
   "metadata": {},
   "source": [
    "### Convert series data type to floating point numbers\n",
    "* Modify your data appropriately so that your array holds only decimals\n",
    "    * Replace all special characters ('$', '%', '#', etc.)\n",
    "    * Convert all entries to floating point numbers\n",
    "* Show the first 10 entries\n",
    "    * This is a good way for you to see if your modification was successful and to see what the data looks like"
   ]
  },
  {
   "cell_type": "code",
   "execution_count": 28,
   "metadata": {
    "collapsed": true
   },
   "outputs": [
    {
     "name": "stdout",
     "output_type": "stream",
     "text": [
      "0    1.0\n",
      "1    1.0\n",
      "2    1.0\n",
      "3    2.0\n",
      "4    3.0\n",
      "5    5.0\n",
      "6    5.0\n",
      "7    5.0\n",
      "8    5.0\n",
      "9    6.0\n",
      "Name: cases, dtype: float64\n",
      "0    0.0\n",
      "1    0.0\n",
      "2    0.0\n",
      "3    0.0\n",
      "4    0.0\n",
      "5    0.0\n",
      "6    0.0\n",
      "7    0.0\n",
      "8    0.0\n",
      "9    0.0\n",
      "Name: deaths, dtype: float64\n"
     ]
    }
   ],
   "source": [
    "# Convert to floating point number\n",
    "cases_list = cases_list.astype(float)\n",
    "print(cases_list[:10])\n",
    "death_list = death_list.astype(float)\n",
    "print(death_list[:10])"
   ]
  },
  {
   "cell_type": "code",
   "execution_count": 29,
   "metadata": {},
   "outputs": [
    {
     "data": {
      "text/html": [
       "<div>\n",
       "<style scoped>\n",
       "    .dataframe tbody tr th:only-of-type {\n",
       "        vertical-align: middle;\n",
       "    }\n",
       "\n",
       "    .dataframe tbody tr th {\n",
       "        vertical-align: top;\n",
       "    }\n",
       "\n",
       "    .dataframe thead th {\n",
       "        text-align: right;\n",
       "    }\n",
       "</style>\n",
       "<table border=\"1\" class=\"dataframe\">\n",
       "  <thead>\n",
       "    <tr style=\"text-align: right;\">\n",
       "      <th></th>\n",
       "      <th>date</th>\n",
       "      <th>confirmed_cases</th>\n",
       "      <th>confirmed_deaths</th>\n",
       "      <th>probable_cases</th>\n",
       "      <th>probable_deaths</th>\n",
       "      <th>cases</th>\n",
       "      <th>deaths</th>\n",
       "    </tr>\n",
       "  </thead>\n",
       "  <tbody>\n",
       "    <tr>\n",
       "      <th>0</th>\n",
       "      <td>2020-01-21</td>\n",
       "      <td>NaN</td>\n",
       "      <td>NaN</td>\n",
       "      <td>NaN</td>\n",
       "      <td>NaN</td>\n",
       "      <td>1.0</td>\n",
       "      <td>0.0</td>\n",
       "    </tr>\n",
       "    <tr>\n",
       "      <th>1</th>\n",
       "      <td>2020-01-22</td>\n",
       "      <td>NaN</td>\n",
       "      <td>NaN</td>\n",
       "      <td>NaN</td>\n",
       "      <td>NaN</td>\n",
       "      <td>1.0</td>\n",
       "      <td>0.0</td>\n",
       "    </tr>\n",
       "    <tr>\n",
       "      <th>2</th>\n",
       "      <td>2020-01-23</td>\n",
       "      <td>NaN</td>\n",
       "      <td>NaN</td>\n",
       "      <td>NaN</td>\n",
       "      <td>NaN</td>\n",
       "      <td>1.0</td>\n",
       "      <td>0.0</td>\n",
       "    </tr>\n",
       "    <tr>\n",
       "      <th>3</th>\n",
       "      <td>2020-01-24</td>\n",
       "      <td>NaN</td>\n",
       "      <td>NaN</td>\n",
       "      <td>NaN</td>\n",
       "      <td>NaN</td>\n",
       "      <td>2.0</td>\n",
       "      <td>0.0</td>\n",
       "    </tr>\n",
       "    <tr>\n",
       "      <th>4</th>\n",
       "      <td>2020-01-25</td>\n",
       "      <td>NaN</td>\n",
       "      <td>NaN</td>\n",
       "      <td>NaN</td>\n",
       "      <td>NaN</td>\n",
       "      <td>3.0</td>\n",
       "      <td>0.0</td>\n",
       "    </tr>\n",
       "    <tr>\n",
       "      <th>5</th>\n",
       "      <td>2020-01-26</td>\n",
       "      <td>NaN</td>\n",
       "      <td>NaN</td>\n",
       "      <td>NaN</td>\n",
       "      <td>NaN</td>\n",
       "      <td>5.0</td>\n",
       "      <td>0.0</td>\n",
       "    </tr>\n",
       "    <tr>\n",
       "      <th>6</th>\n",
       "      <td>2020-01-27</td>\n",
       "      <td>NaN</td>\n",
       "      <td>NaN</td>\n",
       "      <td>NaN</td>\n",
       "      <td>NaN</td>\n",
       "      <td>5.0</td>\n",
       "      <td>0.0</td>\n",
       "    </tr>\n",
       "    <tr>\n",
       "      <th>7</th>\n",
       "      <td>2020-01-28</td>\n",
       "      <td>NaN</td>\n",
       "      <td>NaN</td>\n",
       "      <td>NaN</td>\n",
       "      <td>NaN</td>\n",
       "      <td>5.0</td>\n",
       "      <td>0.0</td>\n",
       "    </tr>\n",
       "    <tr>\n",
       "      <th>8</th>\n",
       "      <td>2020-01-29</td>\n",
       "      <td>NaN</td>\n",
       "      <td>NaN</td>\n",
       "      <td>NaN</td>\n",
       "      <td>NaN</td>\n",
       "      <td>5.0</td>\n",
       "      <td>0.0</td>\n",
       "    </tr>\n",
       "    <tr>\n",
       "      <th>9</th>\n",
       "      <td>2020-01-30</td>\n",
       "      <td>NaN</td>\n",
       "      <td>NaN</td>\n",
       "      <td>NaN</td>\n",
       "      <td>NaN</td>\n",
       "      <td>6.0</td>\n",
       "      <td>0.0</td>\n",
       "    </tr>\n",
       "  </tbody>\n",
       "</table>\n",
       "</div>"
      ],
      "text/plain": [
       "         date  confirmed_cases  confirmed_deaths  probable_cases  \\\n",
       "0  2020-01-21              NaN               NaN             NaN   \n",
       "1  2020-01-22              NaN               NaN             NaN   \n",
       "2  2020-01-23              NaN               NaN             NaN   \n",
       "3  2020-01-24              NaN               NaN             NaN   \n",
       "4  2020-01-25              NaN               NaN             NaN   \n",
       "5  2020-01-26              NaN               NaN             NaN   \n",
       "6  2020-01-27              NaN               NaN             NaN   \n",
       "7  2020-01-28              NaN               NaN             NaN   \n",
       "8  2020-01-29              NaN               NaN             NaN   \n",
       "9  2020-01-30              NaN               NaN             NaN   \n",
       "\n",
       "   probable_deaths  cases  deaths  \n",
       "0              NaN    1.0     0.0  \n",
       "1              NaN    1.0     0.0  \n",
       "2              NaN    1.0     0.0  \n",
       "3              NaN    2.0     0.0  \n",
       "4              NaN    3.0     0.0  \n",
       "5              NaN    5.0     0.0  \n",
       "6              NaN    5.0     0.0  \n",
       "7              NaN    5.0     0.0  \n",
       "8              NaN    5.0     0.0  \n",
       "9              NaN    6.0     0.0  "
      ]
     },
     "execution_count": 29,
     "metadata": {},
     "output_type": "execute_result"
    }
   ],
   "source": [
    "del us_data['cases']\n",
    "us_data['cases'] = cases_list\n",
    "del us_data['deaths']\n",
    "us_data['deaths'] = death_list\n",
    "us_data[:10]"
   ]
  },
  {
   "cell_type": "markdown",
   "metadata": {},
   "source": [
    "### Convert series to a numpy array, remove 'NaN' entries\n",
    "* Convert your pandas series to a numpy array with an appr\n",
    "* Remove all 'NaN' entries (if applicable)\n",
    "* Show the first 30 entries\n",
    "    * This is a good way for you to see if your modification was successful and to see what the data looks like"
   ]
  },
  {
   "cell_type": "code",
   "execution_count": 32,
   "metadata": {
    "collapsed": true
   },
   "outputs": [
    {
     "name": "stdout",
     "output_type": "stream",
     "text": [
      "[1. 1. 1. 2. 3. 5. 5. 5. 5. 6.]\n",
      "[0. 0. 0. 0. 0. 0. 0. 0. 0. 0.]\n"
     ]
    }
   ],
   "source": [
    "import numpy as np\n",
    "# Convert data to numpy array\n",
    "cases_list = np.array(cases_list)\n",
    "death_list = np.array(death_list)\n",
    "print(cases_list[:10])\n",
    "print(death_list[:10])\n",
    "# No NaN Entries"
   ]
  },
  {
   "cell_type": "markdown",
   "metadata": {},
   "source": [
    "### Compute three common statistics\n",
    "* Using your numpy array, calculate various common statistics\n",
    "    * Mean\n",
    "    * Median\n",
    "    * Mode\n",
    "    * Standard deviation\n",
    "    * Sums\n",
    "    * Etc.\n",
    "* Indicate which statistic is being calculated in the markdown cell above the code cell"
   ]
  },
  {
   "cell_type": "markdown",
   "metadata": {},
   "source": [
    "##### USE THIS CELL TO DESCRIBE THE STATISTIC COMPUTED HERE. INCLUDE AT LEAST ONE COMPLETE SENTENCE"
   ]
  },
  {
   "cell_type": "code",
   "execution_count": 33,
   "metadata": {
    "collapsed": true
   },
   "outputs": [
    {
     "name": "stdout",
     "output_type": "stream",
     "text": [
      "460600.72716346156\n"
     ]
    }
   ],
   "source": [
    "# Average death over time\n",
    "print(death_list.mean())\n"
   ]
  },
  {
   "cell_type": "markdown",
   "metadata": {},
   "source": [
    "##### USE THIS CELL TO DESCRIBE THE STATISTIC COMPUTED HERE. INCLUDE AT LEAST ONE COMPLETE SENTENCE"
   ]
  },
  {
   "cell_type": "code",
   "execution_count": 10,
   "metadata": {
    "collapsed": true
   },
   "outputs": [],
   "source": [
    "# To earn points, you must comment your code\n"
   ]
  },
  {
   "cell_type": "markdown",
   "metadata": {},
   "source": [
    "##### USE THIS CELL TO DESCRIBE THE STATISTIC COMPUTED HERE. INCLUDE AT LEAST ONE COMPLETE SENTENCE"
   ]
  },
  {
   "cell_type": "code",
   "execution_count": 11,
   "metadata": {
    "collapsed": true
   },
   "outputs": [],
   "source": [
    "# To earn points, you must comment your code\n"
   ]
  },
  {
   "cell_type": "markdown",
   "metadata": {},
   "source": [
    "# Part 2: Create a Histogram (12 points)\n",
    "* WARNING: DO NOT COPY/PASTE ENTIRE GRAPH CODE ALL AT ONCE\n",
    "    * Use code line-by-line to ensure all values are changed to reflect the ones in this notebook!\n",
    "* REMINDER: Histograms display frequencies of data values grouped together in chosen ranges\n",
    "    * Think - what list is storing the required data?\n",
    "        * Should be a numpy array of numbers\n",
    "    * Think - how will you divide up the data into bins\n",
    "        * What is the minimum value?\n",
    "        * What is the maximum value?\n",
    "        * What should the size of each bin be?\n",
    "            * What numbers should each bin start/stop at?\n",
    "        * Which alignment will you use?     \n",
    "* Create frequency bins\n",
    "* Set graph details\n",
    "* Create and display graph"
   ]
  },
  {
   "cell_type": "markdown",
   "metadata": {},
   "source": [
    "### Create frequency bins and alignment\n",
    "* Create and store a list of 'edge numbers' for your bins in an appropriately-named variable\n",
    "    * Your data should fit between the lowest and highest values\n",
    "    * Use a loop to help create bins quickly"
   ]
  },
  {
   "cell_type": "code",
   "execution_count": 12,
   "metadata": {
    "collapsed": true
   },
   "outputs": [],
   "source": [
    "# To earn points, you must comment your code\n"
   ]
  },
  {
   "cell_type": "markdown",
   "metadata": {},
   "source": [
    "### Set graph details\n",
    "* Import matplotlib appropriately\n",
    "* Your graph should be styled uniquely compared to any previously created, and must inlude:\n",
    "    * Title\n",
    "    * X-axis label\n",
    "    * Y-axis label\n",
    "    * Visually appealing style\n",
    "    * Graph color not previously used"
   ]
  },
  {
   "cell_type": "code",
   "execution_count": 13,
   "metadata": {
    "collapsed": true
   },
   "outputs": [],
   "source": [
    "# To earn points, you must comment your code\n"
   ]
  },
  {
   "cell_type": "markdown",
   "metadata": {},
   "source": [
    "### Create and display graph\n",
    "* HISTOGRAM SYNTAX: plot.hist(data_array, bins_array, extras...)"
   ]
  },
  {
   "cell_type": "code",
   "execution_count": 14,
   "metadata": {
    "collapsed": true
   },
   "outputs": [],
   "source": [
    "# To earn points, you must comment your code\n"
   ]
  },
  {
   "cell_type": "markdown",
   "metadata": {},
   "source": [
    "# Part 3: Modifying Data Using Counts (12 points)\n",
    "* Create a pandas series of value counts\n",
    "* Create two parallel lists"
   ]
  },
  {
   "cell_type": "markdown",
   "metadata": {},
   "source": [
    "### Create a pandas series of value counts\n",
    "* Locate a non-numerical column of interest from your original pandas dataframe\n",
    "    * You will be counting how many times each entry appears in the list\n",
    "    * Your chosen column should:\n",
    "        * Have mulptiple repeated entries\n",
    "        * Have the ability to be grouped into categories\n",
    "* Create and store a pandas series of value counts in an appropriately-named variable\n",
    "* Show the series of counts\n",
    "    * This is a good way for you to see if your modification was successful and to see what the data looks like"
   ]
  },
  {
   "cell_type": "code",
   "execution_count": 15,
   "metadata": {
    "collapsed": true
   },
   "outputs": [],
   "source": [
    "# To earn points, you must comment your code\n"
   ]
  },
  {
   "cell_type": "markdown",
   "metadata": {},
   "source": [
    "### Create two parallel lists\n",
    "* REMINDERS:\n",
    "    * Use index.tolist() to extract only the category names\n",
    "    * Use tolist() to extract only the statistic of interest\n",
    "* Create a list of the category names from the value count panda series\n",
    "    * Store in an appropriately-named variable\n",
    "    * Ex: [POLICE, FIRE, OEMC, etc...]\n",
    "* Create a list of the frequencies for each entry from the value count panda series\n",
    "    * Store in an appropriately-named variable\n",
    "    * Ex: [13061, 4837, 2120, etc...]\n",
    "* Show each list individually\n",
    "    * This is a good way for you to see if your modifications were successful and to see what the data looks like"
   ]
  },
  {
   "cell_type": "code",
   "execution_count": 16,
   "metadata": {
    "collapsed": true
   },
   "outputs": [],
   "source": [
    "# To earn points, you must comment your code\n"
   ]
  },
  {
   "cell_type": "markdown",
   "metadata": {},
   "source": [
    "# Part 4: Create a Pie Chart (12 points)\n",
    "* WARNING: DO NOT COPY/PASTE ENTIRE GRAPH CODE ALL AT ONCE\n",
    "    * Use code line-by-line to ensure all values are changed to reflect the ones in this notebook!\n",
    "* REMINDER: Pie charts display the ratio of values in comparison to the whole\n",
    "    * Think - Which lists are storing the required data?\n",
    "        * One list of counts\n",
    "        * One list of labels\n",
    "* NOTE: If you have 9 or more categories you should create an \"Other\" category to earn full credit!\n",
    "* Create an \"Other\" category (if necessary)\n",
    "* Set graph details\n",
    "* Create and display graph"
   ]
  },
  {
   "cell_type": "markdown",
   "metadata": {},
   "source": [
    "### Create an \"Other\" category (if necessary)\n",
    "* If you have 9 or more categories, lump the remainging categories as one \"Other\" category\n",
    "* All labels should be clearly visible"
   ]
  },
  {
   "cell_type": "code",
   "execution_count": 17,
   "metadata": {
    "collapsed": true
   },
   "outputs": [],
   "source": [
    "# To earn points, you must comment your code\n"
   ]
  },
  {
   "cell_type": "markdown",
   "metadata": {},
   "source": [
    "### Set graph details\n",
    "* Import matplotlib appropriately\n",
    "* Your graph should be styled uniquely compared to any previously created, and must inlude:\n",
    "    * Title\n",
    "    * Appropriate labels\n",
    "    * Visually appealing style\n",
    "    * Graph color not previously used"
   ]
  },
  {
   "cell_type": "code",
   "execution_count": 18,
   "metadata": {
    "collapsed": true
   },
   "outputs": [],
   "source": [
    "# To earn points, you must comment your code\n"
   ]
  },
  {
   "cell_type": "markdown",
   "metadata": {},
   "source": [
    "### Create and display graph\n",
    "* PIE CHART SYNTAX: plot.pie(counts_list, labels_list, extras...)"
   ]
  },
  {
   "cell_type": "code",
   "execution_count": 19,
   "metadata": {
    "collapsed": true
   },
   "outputs": [],
   "source": [
    "# To earn points, you must comment your code\n"
   ]
  },
  {
   "cell_type": "markdown",
   "metadata": {},
   "source": [
    "# Part 5: Be a Data Scientist! (24 points)\n",
    "* Create an additional question\n",
    "* Create an appropriate pandas series\n",
    "* Split into individual lists\n",
    "* Create list of sorted tuples\n",
    "* Split into individual sorted lists"
   ]
  },
  {
   "cell_type": "markdown",
   "metadata": {},
   "source": [
    "### Create an additional question\n",
    "* How else can your categories be compared?\n",
    "* What additional number can your categories be compared by?\n",
    "    * Ex: Which category has largest/smallest...\n",
    "        * ...average?\n",
    "        * ...maximum?\n",
    "        * ...minimum?\n",
    "        * ...standard deviation?\n",
    "* State your question relative to the data you are working with"
   ]
  },
  {
   "cell_type": "markdown",
   "metadata": {},
   "source": [
    "## Question: INSERT QUESTION HERE"
   ]
  },
  {
   "cell_type": "markdown",
   "metadata": {},
   "source": [
    "### Create an appropriate pandas series\n",
    "* REMINDER: Use .groupby() to organize your series based on another column's data"
   ]
  },
  {
   "cell_type": "code",
   "execution_count": 20,
   "metadata": {
    "collapsed": true
   },
   "outputs": [],
   "source": [
    "# To earn points, you must comment your code\n"
   ]
  },
  {
   "cell_type": "markdown",
   "metadata": {},
   "source": [
    "### Split into individual lists\n",
    "* Create two parallel lists \n",
    "    * One list of categories\n",
    "    * One list of statistics of interest\n",
    "* Show each list individually\n",
    "    * This is a good way for you to see if your modifications were successful and to see what the data looks like"
   ]
  },
  {
   "cell_type": "code",
   "execution_count": 21,
   "metadata": {
    "collapsed": true
   },
   "outputs": [],
   "source": [
    "# To earn points, you must comment your code\n"
   ]
  },
  {
   "cell_type": "markdown",
   "metadata": {},
   "source": [
    "### Create list of sorted tuples\n",
    "* Loop through parallel lists to create tuples in the form (category, statistic)\n",
    "* Sort appropriately\n",
    "    * REMINDER: Use list_name.sort(key=lambda x: x[1], reverse=True) to sort\n",
    "* Show the list\n",
    "    * This is a good way for you to see if your modifications were successful and to see what the data looks like"
   ]
  },
  {
   "cell_type": "code",
   "execution_count": 22,
   "metadata": {
    "collapsed": true
   },
   "outputs": [],
   "source": [
    "# To earn points, you must comment your code\n"
   ]
  },
  {
   "cell_type": "markdown",
   "metadata": {},
   "source": [
    "### Split into individual sorted lists\n",
    "* Option #1\n",
    "    * List iterator\n",
    "    * list_name = ['specific stat' for 'entry' in 'name of array']\n",
    "    * Read as: A list of every 'specific stat' for every 'entry' in the array 'name of array'\n",
    "* Option #2\n",
    "    * Loops\n",
    "    * Create an empty list\n",
    "    * Run a loop that:\n",
    "        * Stores each appropriate category and statistic\n",
    "        * Converts them to a tuple\n",
    "        * Adds the tuple to the list\n",
    "* Show the list\n",
    "    * This is a good way for you to see if your modifications were successful and to see what the data looks like"
   ]
  },
  {
   "cell_type": "code",
   "execution_count": 23,
   "metadata": {
    "collapsed": true
   },
   "outputs": [],
   "source": [
    "# To earn points, you must comment your code\n"
   ]
  },
  {
   "cell_type": "markdown",
   "metadata": {},
   "source": [
    "# Part 6: Create a Bar Chart to Visualize Data (12 points)\n",
    "* WARNING: DO NOT COPY/PASTE ENTIRE GRAPH CODE ALL AT ONCE\n",
    "    * Use code line-by-line to ensure all values are changed to reflect the ones in this notebook!\n",
    "* REMINDER: Bar charts displays one item's value compared to others'\n",
    "    * Think - which lists are holding the required data?\n",
    "        * One list of 'bar positions'\n",
    "        * One list of statistics of interest\n",
    "        * One list of labels\n",
    "* Create a 'bar position list'\n",
    "* Set graph details\n",
    "* Create and display graph"
   ]
  },
  {
   "cell_type": "markdown",
   "metadata": {},
   "source": [
    "### Create a 'bar position list'\n",
    "* REMINDER: Use np.arange(start, length+1)"
   ]
  },
  {
   "cell_type": "code",
   "execution_count": 24,
   "metadata": {
    "collapsed": true
   },
   "outputs": [],
   "source": [
    "# To earn points, you must comment your code\n"
   ]
  },
  {
   "cell_type": "markdown",
   "metadata": {},
   "source": [
    "## Set graph details\n",
    "* Import matplotlib appropriately\n",
    "* Your graph should be styled uniquely compared to any previously created, and must inlude:\n",
    "    * Title\n",
    "    * X-axis label\n",
    "    * Y-axis label\n",
    "    * Bar labels (xticks)\n",
    "    * Visually appealing style\n",
    "    * Graph color not previously used"
   ]
  },
  {
   "cell_type": "code",
   "execution_count": 25,
   "metadata": {
    "collapsed": true
   },
   "outputs": [],
   "source": [
    "# To earn points, you must comment your code\n"
   ]
  },
  {
   "cell_type": "markdown",
   "metadata": {},
   "source": [
    "### Create and display graph\n",
    "* BAR GRAPH SYNTAX: plot.bar(bars_list, stat_list, etc.)"
   ]
  },
  {
   "cell_type": "code",
   "execution_count": 26,
   "metadata": {
    "collapsed": true
   },
   "outputs": [],
   "source": [
    "# To earn points, you must comment your code\n"
   ]
  },
  {
   "cell_type": "markdown",
   "metadata": {},
   "source": [
    "# Part 7: Answer (12 points)"
   ]
  },
  {
   "cell_type": "markdown",
   "metadata": {},
   "source": [
    "### Answer the original question at hand\n",
    "* Your response must:\n",
    "    * Clearly state a data-based answer\n",
    "    * Contain a brief summary of how the data was organized and compared\n",
    "    * Describe how your visualization helps verify the stated answer"
   ]
  },
  {
   "cell_type": "markdown",
   "metadata": {},
   "source": [
    "## Answer: INSERT YOUR ANSWER HERE. WRITE IN COMPLETE SENTENCES."
   ]
  },
  {
   "cell_type": "markdown",
   "metadata": {},
   "source": [
    "# Part 8: Reflection (4 points)"
   ]
  },
  {
   "cell_type": "markdown",
   "metadata": {},
   "source": [
    "### What do you think are some of the limitations of your analysis?\n",
    "* Was there additional data that you would've liked to have used if it were available?\n",
    "* Did time limit you from answering a different interesting question?\n",
    "* Is there anything you would have liked to have dug into deeper?\n",
    "* Provide a thoughtful, well-written response"
   ]
  },
  {
   "cell_type": "markdown",
   "metadata": {
    "collapsed": true
   },
   "source": [
    "## Answer: INSERT YOUR ANSWER HERE. WRITE IN COMPLETE SENTENCES."
   ]
  },
  {
   "cell_type": "code",
   "execution_count": null,
   "metadata": {},
   "outputs": [],
   "source": []
  }
 ],
 "metadata": {
  "interpreter": {
   "hash": "9650cb4e16cdd4a8e8e2d128bf38d875813998db22a3c986335f89e0cb4d7bb2"
  },
  "kernelspec": {
   "display_name": "Python 3.8.0 64-bit",
   "language": "python",
   "name": "python3"
  },
  "language_info": {
   "codemirror_mode": {
    "name": "ipython",
    "version": 3
   },
   "file_extension": ".py",
   "mimetype": "text/x-python",
   "name": "python",
   "nbconvert_exporter": "python",
   "pygments_lexer": "ipython3",
   "version": "3.8.0"
  }
 },
 "nbformat": 4,
 "nbformat_minor": 1
}
