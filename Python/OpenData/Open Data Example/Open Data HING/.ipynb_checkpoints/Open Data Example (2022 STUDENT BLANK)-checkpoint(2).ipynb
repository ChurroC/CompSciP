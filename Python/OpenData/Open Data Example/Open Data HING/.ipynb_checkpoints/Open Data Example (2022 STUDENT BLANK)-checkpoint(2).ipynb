{
 "cells": [
  {
   "cell_type": "markdown",
   "metadata": {},
   "source": [
    "# Open Data Example #1: City of Chicago Salaries\n",
    "\n",
    "*Source for Data Set:* City of Chicago Department of Human Resources\n",
    "\n",
    "*URL for Data Set:* https://data.cityofchicago.org/Administration-Finance/Current-Employee-Names-Salaries-and-Position-Title/xzkq-xp2w\n",
    "\n",
    "*Description of Data Set:* \"This dataset is a listing of all current City of Chicago employees, complete with full names, departments, positions, and annual salaries. For hourly employees the annual salary is estimated.\" (Description written by City of Chicago) \n",
    "\n",
    "*File Format for Data Set:* CSV file (Comma Separated Values)\n",
    "\n",
    "*Age of Data Set:* Last updated January 21, 2021"
   ]
  },
  {
   "cell_type": "markdown",
   "metadata": {},
   "source": [
    "### Import CSV File"
   ]
  },
  {
   "cell_type": "code",
   "execution_count": 1,
   "metadata": {},
   "outputs": [
    {
     "data": {
      "text/html": [
       "<div>\n",
       "<style scoped>\n",
       "    .dataframe tbody tr th:only-of-type {\n",
       "        vertical-align: middle;\n",
       "    }\n",
       "\n",
       "    .dataframe tbody tr th {\n",
       "        vertical-align: top;\n",
       "    }\n",
       "\n",
       "    .dataframe thead th {\n",
       "        text-align: right;\n",
       "    }\n",
       "</style>\n",
       "<table border=\"1\" class=\"dataframe\">\n",
       "  <thead>\n",
       "    <tr style=\"text-align: right;\">\n",
       "      <th></th>\n",
       "      <th>Name</th>\n",
       "      <th>Job Titles</th>\n",
       "      <th>Department</th>\n",
       "      <th>Full or Part-Time</th>\n",
       "      <th>Salary or Hourly</th>\n",
       "      <th>Typical Hours</th>\n",
       "      <th>Annual Salary</th>\n",
       "      <th>Hourly Rate</th>\n",
       "    </tr>\n",
       "  </thead>\n",
       "  <tbody>\n",
       "    <tr>\n",
       "      <td>31098</td>\n",
       "      <td>ZYMANTAS,  MARK E</td>\n",
       "      <td>POLICE OFFICER</td>\n",
       "      <td>POLICE</td>\n",
       "      <td>F</td>\n",
       "      <td>Salary</td>\n",
       "      <td>NaN</td>\n",
       "      <td>102372.0</td>\n",
       "      <td>NaN</td>\n",
       "    </tr>\n",
       "    <tr>\n",
       "      <td>31099</td>\n",
       "      <td>ZYRKOWSKI,  CARLO E</td>\n",
       "      <td>POLICE OFFICER</td>\n",
       "      <td>POLICE</td>\n",
       "      <td>F</td>\n",
       "      <td>Salary</td>\n",
       "      <td>NaN</td>\n",
       "      <td>109236.0</td>\n",
       "      <td>NaN</td>\n",
       "    </tr>\n",
       "    <tr>\n",
       "      <td>31100</td>\n",
       "      <td>ZYSKOWSKI,  DARIUSZ</td>\n",
       "      <td>CHIEF DATA BASE ANALYST</td>\n",
       "      <td>DAIS</td>\n",
       "      <td>F</td>\n",
       "      <td>Salary</td>\n",
       "      <td>NaN</td>\n",
       "      <td>142176.0</td>\n",
       "      <td>NaN</td>\n",
       "    </tr>\n",
       "  </tbody>\n",
       "</table>\n",
       "</div>"
      ],
      "text/plain": [
       "                      Name               Job Titles Department  \\\n",
       "31098    ZYMANTAS,  MARK E           POLICE OFFICER     POLICE   \n",
       "31099  ZYRKOWSKI,  CARLO E           POLICE OFFICER     POLICE   \n",
       "31100  ZYSKOWSKI,  DARIUSZ  CHIEF DATA BASE ANALYST       DAIS   \n",
       "\n",
       "      Full or Part-Time Salary or Hourly  Typical Hours  Annual Salary  \\\n",
       "31098                 F           Salary            NaN       102372.0   \n",
       "31099                 F           Salary            NaN       109236.0   \n",
       "31100                 F           Salary            NaN       142176.0   \n",
       "\n",
       "       Hourly Rate  \n",
       "31098          NaN  \n",
       "31099          NaN  \n",
       "31100          NaN  "
      ]
     },
     "execution_count": 1,
     "metadata": {},
     "output_type": "execute_result"
    }
   ],
   "source": [
    "# Import pandas module\n",
    "import pandas as pd\n",
    "\n",
    "# Read in the csv file (comma separated values)\n",
    "salary_DF = pd.read_csv(\"Salaries_2022.csv\")\n",
    "\n",
    "# Print the last three entries of the file\n",
    "    # The last line of a cell will print automatically!\n",
    "    # Can sometimes display data differently\n",
    "salary_DF[-3:]"
   ]
  },
  {
   "cell_type": "markdown",
   "metadata": {},
   "source": [
    "Sometimes, the last entry (or the last few entries) in a dataset may be erroneous. Use code similar to below to eliminate them.\n",
    "\n",
    "    salary_DF = salary_DF.drop(salary_DF.index[-1])\n",
    "\n",
    "*Note: This doesn't appear to be a problem with the 2022 version of this dataset, so you are unlikely to need to run the above code*"
   ]
  },
  {
   "cell_type": "code",
   "execution_count": 2,
   "metadata": {},
   "outputs": [],
   "source": [
    "# Use this cell to run the code above (if needed)\n",
    "\n",
    "# Note: Only run this code if your teacher says you need it"
   ]
  },
  {
   "cell_type": "markdown",
   "metadata": {},
   "source": [
    "### Question: How many employees are paid by the City of Chicago?"
   ]
  },
  {
   "cell_type": "code",
   "execution_count": 3,
   "metadata": {},
   "outputs": [
    {
     "data": {
      "text/plain": [
       "31101"
      ]
     },
     "execution_count": 3,
     "metadata": {},
     "output_type": "execute_result"
    }
   ],
   "source": [
    "# Print the length of the data frame\n",
    "len(salary_DF)"
   ]
  },
  {
   "cell_type": "markdown",
   "metadata": {},
   "source": [
    "**Your Answer:** *Write a complete sentence that answers the question here.*"
   ]
  },
  {
   "cell_type": "markdown",
   "metadata": {},
   "source": [
    "### Modify Data: Create a List of Salaries"
   ]
  },
  {
   "cell_type": "code",
   "execution_count": 10,
   "metadata": {},
   "outputs": [
    {
     "data": {
      "text/plain": [
       "0    122568.0\n",
       "1    110796.0\n",
       "2    122112.0\n",
       "3         NaN\n",
       "4     86730.0\n",
       "Name: Annual Salary, dtype: float64"
      ]
     },
     "execution_count": 10,
     "metadata": {},
     "output_type": "execute_result"
    }
   ],
   "source": [
    "# Store all values from the \"Annual Salary\" column\n",
    "salary_list = salary_DF[\"Annual Salary\"]\n",
    "# Print the first 3 entries\n",
    "salary_list[:5]"
   ]
  },
  {
   "cell_type": "markdown",
   "metadata": {},
   "source": [
    "### Modify Data to be Usable\n",
    "\n",
    "Step 0: If you have data with dollar signs, we would need to delete these symbols. This year's spreadsheet doesn't have any dollar signs, so we don't need to worry about this. But in previous years, we had to replace dollar signs with empty strings. In your own data projects, you'll want to check if this step is necessary. \n",
    "\n",
    "Step 1: Clean data by deleting dollar signs, '$', from the salaries and replace any empty strings with a salary of '0.00' dollars per year.\n",
    "\n",
    "Step 2: Create a list with only salaries, converted from strings to floating point numbers. For example, the string '84450.0' becomes the floating point number 84450.0."
   ]
  },
  {
   "cell_type": "code",
   "execution_count": 15,
   "metadata": {},
   "outputs": [
    {
     "data": {
      "text/plain": [
       "0    122568.0\n",
       "1    110796.0\n",
       "2    122112.0\n",
       "3         0.0\n",
       "4     86730.0\n",
       "Name: Annual Salary, dtype: float64"
      ]
     },
     "execution_count": 15,
     "metadata": {},
     "output_type": "execute_result"
    }
   ],
   "source": [
    "# This can delete '$' symbols if present before salaries\n",
    "# salary_list = salary_list.str.replace(\"$\",\"\")\n",
    "\n",
    "# Convert to floating point number\n",
    "    # Empty cells --> 0.00\n",
    "salary_list = salary_list.astype(float)\n",
    "    \n",
    "# Print the last 4 entries\n",
    "salary_list[:5]\n",
    "#maybe pd.to_numeric(s)\n",
    "salary_list = salary_list.fillna(0.0)\n",
    "\n",
    "salary_list[:5]"
   ]
  },
  {
   "cell_type": "markdown",
   "metadata": {},
   "source": [
    "It might come in handy later to have our salaries as floating point numbers. Let's replace the old column in our dataframe (string data) and replace it with our new one (floating point numbers):"
   ]
  },
  {
   "cell_type": "code",
   "execution_count": null,
   "metadata": {},
   "outputs": [],
   "source": [
    "# Delete the ORIGINAL data in \"Annual Salary\" column\n",
    "\n",
    "# Replace with our NEW data\n",
    "\n",
    "# Print first 10 entries\n"
   ]
  },
  {
   "cell_type": "markdown",
   "metadata": {},
   "source": [
    "### Modify Data: Convert to a Numpy Number Array"
   ]
  },
  {
   "cell_type": "code",
   "execution_count": null,
   "metadata": {},
   "outputs": [],
   "source": [
    "# Import numpy\n",
    "\n",
    "# Convert data to a numpy array\n",
    "\n",
    "# Print the last 30 values\n"
   ]
  },
  {
   "cell_type": "markdown",
   "metadata": {},
   "source": [
    "Look closely at this output, and you'll spot a problem: \n",
    "\n",
    "Some of our values are listed as \"nan\" or \"not a number.\" If we are going to do some mathematical calculations with this data, we're going to need to clean the data by removing all instances of \"nan.\" \n",
    "\n",
    "_Note: There may be several reasons why the dataset contains \"nan\" values. In some cases, an employee's salary data might be missing, there may have been a data entry error, an employee may have gone unpaid for a year because of an extended leave, or the employee may be working on a volunteer basis. Since there's no way to know how to interpret these values, it is best for us to do some data cleaning and remove them._ "
   ]
  },
  {
   "cell_type": "code",
   "execution_count": null,
   "metadata": {},
   "outputs": [],
   "source": [
    "# Import numpy as np\n",
    "\n",
    "# Eliminate the NaN entries\n",
    "    # the ~ symbol is interpreted by numpy as \"not\"\n",
    "\n",
    "# Print the last 30 entries\n"
   ]
  },
  {
   "cell_type": "markdown",
   "metadata": {},
   "source": [
    "### Question: What is the average salary for city employees?"
   ]
  },
  {
   "cell_type": "code",
   "execution_count": null,
   "metadata": {},
   "outputs": [],
   "source": [
    "# Calculate the average\n"
   ]
  },
  {
   "cell_type": "markdown",
   "metadata": {},
   "source": [
    "**Your Answer:** *Write a complete sentence that answers the question here.*"
   ]
  },
  {
   "cell_type": "markdown",
   "metadata": {},
   "source": [
    "### Question: What is the median salary for city employees?"
   ]
  },
  {
   "cell_type": "code",
   "execution_count": null,
   "metadata": {},
   "outputs": [],
   "source": [
    "# Find the median value\n"
   ]
  },
  {
   "cell_type": "markdown",
   "metadata": {},
   "source": [
    "**Your Answer:** *Write a complete sentence that answers the question here.*"
   ]
  },
  {
   "cell_type": "markdown",
   "metadata": {},
   "source": [
    "**Task:** Use this cell to explain what the *median* of a dataset is.\n",
    "\n",
    "**Answer:** *Write a complete sentence that answers the question here.*"
   ]
  },
  {
   "cell_type": "markdown",
   "metadata": {},
   "source": [
    "### Question: What is the number of city employees?"
   ]
  },
  {
   "cell_type": "code",
   "execution_count": null,
   "metadata": {},
   "outputs": [],
   "source": [
    "# Find the length of the array\n"
   ]
  },
  {
   "cell_type": "markdown",
   "metadata": {},
   "source": [
    "**Your Answer:** *Write a complete sentence that answers the question here.*"
   ]
  },
  {
   "cell_type": "markdown",
   "metadata": {},
   "source": [
    "### Question: What is the standard deviation of city employee salaries?"
   ]
  },
  {
   "cell_type": "code",
   "execution_count": null,
   "metadata": {},
   "outputs": [],
   "source": [
    "# Find the standard deviation\n"
   ]
  },
  {
   "cell_type": "markdown",
   "metadata": {},
   "source": [
    "**Your Answer:** *Write a complete sentence that answers the question here.*"
   ]
  },
  {
   "cell_type": "markdown",
   "metadata": {},
   "source": [
    "**Task:** Use this cell to explain what the *standard deviation* of a dataset is.\n",
    "\n",
    "**Your Answer:** *Write a complete sentence that answers the question here.*"
   ]
  },
  {
   "cell_type": "markdown",
   "metadata": {},
   "source": [
    "### Question: What is the highest salary among city employees?"
   ]
  },
  {
   "cell_type": "code",
   "execution_count": null,
   "metadata": {},
   "outputs": [],
   "source": [
    "# Find the max value\n"
   ]
  },
  {
   "cell_type": "markdown",
   "metadata": {},
   "source": [
    "**Your Answer:** *Write a complete sentence that answers the question here.*"
   ]
  },
  {
   "cell_type": "markdown",
   "metadata": {},
   "source": [
    "### Question: The highest paid employee of the City of Chicago makes approximately $275,000 a year. Who is it?"
   ]
  },
  {
   "cell_type": "code",
   "execution_count": null,
   "metadata": {},
   "outputs": [],
   "source": [
    "# Sort the array in ascending order\n",
    "\n",
    "# Print first entry only\n"
   ]
  },
  {
   "cell_type": "markdown",
   "metadata": {},
   "source": [
    "**Your Answer:** *Write a complete sentence that answers the question here.*"
   ]
  },
  {
   "cell_type": "markdown",
   "metadata": {},
   "source": [
    "### Question: Who earns the top 10 salaries in the City of Chicago?"
   ]
  },
  {
   "cell_type": "code",
   "execution_count": null,
   "metadata": {},
   "outputs": [],
   "source": [
    "# Print the first 10 entries of the sorted array\n"
   ]
  },
  {
   "cell_type": "markdown",
   "metadata": {},
   "source": [
    "**Your Answer:** *Write a complete sentence that addresses the question here. It is okay to refer the reader to the table, since it might be time consuming to list out a long list of 10 people and their job titles here.*"
   ]
  },
  {
   "cell_type": "markdown",
   "metadata": {
    "collapsed": true
   },
   "source": [
    "### Visualization: Histogram of Salaries"
   ]
  },
  {
   "cell_type": "code",
   "execution_count": null,
   "metadata": {},
   "outputs": [],
   "source": [
    "# Import matplotlib\n",
    "import matplotlib.pyplot as plot\n",
    "%matplotlib inline\n",
    "\n",
    "# Create bins array\n",
    "bins = []\n",
    "for i in range(18):\n",
    "    bin = i * 10000\n",
    "    bins.append(bin)\n",
    "    \n",
    "# Graph style\n",
    "plot.style.use(\"ggplot\")\n",
    "plot.figure(figsize=(10,5))\n",
    "plot.xlim([0,180000])\n",
    "\n",
    "# Create title and lables\n",
    "plot.title(\"City of Chicago Employees: Frequency of Salaries\")\n",
    "plot.xlabel(\"Salary (in Dollars)\")\n",
    "plot.ylabel(\"Frequency\")\n",
    "\n",
    "# Create histogram\n",
    "plot.hist(salary_array, bins, align=\"left\", color=\"lightgreen\", edgecolor=\"black\")\n",
    "plot.show()"
   ]
  },
  {
   "cell_type": "markdown",
   "metadata": {},
   "source": [
    "### Question: How many employees per department in the City of Chicago?"
   ]
  },
  {
   "cell_type": "code",
   "execution_count": null,
   "metadata": {},
   "outputs": [],
   "source": [
    "# Count the number of entries from each department\n"
   ]
  },
  {
   "cell_type": "markdown",
   "metadata": {},
   "source": [
    "**Your Answer:** *Write a complete sentence that addresses the question here. It is okay to refer the reader to the table, since there are many departments in the City of Chicago.*"
   ]
  },
  {
   "cell_type": "markdown",
   "metadata": {},
   "source": [
    "### Modify Data: Create a List of Departments and a List of Their Frequences\n",
    "\n",
    "These two lists will be useful when plotting."
   ]
  },
  {
   "cell_type": "code",
   "execution_count": null,
   "metadata": {},
   "outputs": [],
   "source": [
    "# Create department names list\n",
    "\n",
    "# Create frequency list\n",
    "\n",
    "# Print\n"
   ]
  },
  {
   "cell_type": "markdown",
   "metadata": {},
   "source": [
    "### Visualization: Pie Chart of Employees by Department\n",
    "\n",
    "Note: This pie chart has too many slices! We will need to fix it:"
   ]
  },
  {
   "cell_type": "code",
   "execution_count": null,
   "metadata": {
    "scrolled": true
   },
   "outputs": [],
   "source": [
    "# Import matplotlib\n",
    "import matplotlib.pyplot as plot\n",
    "%matplotlib inline\n",
    "\n",
    "# Create labels and data array\n",
    "labels = department_names\n",
    "data = department_counts\n",
    "\n",
    "# Graph pie chart\n",
    "plot.pie(data, labels=labels, autopct=\"%1.1f%%\", shadow=True)\n",
    "plot.title(\"Employees by Department\")\n",
    "#plot.legend(title=\"Legend\", loc=\"lower left\")\n",
    "plot.axis(\"equal\")\n",
    "plot.show"
   ]
  },
  {
   "cell_type": "markdown",
   "metadata": {},
   "source": [
    "### Modify Data: If a Department is Not In the Top 10, Lump as 'Other'"
   ]
  },
  {
   "cell_type": "code",
   "execution_count": null,
   "metadata": {},
   "outputs": [],
   "source": [
    "# Make new list of largest 10 names, add \"OTHER\"\n",
    "\n",
    "# Make new list of largets 10 counts, add sum of remaining\n",
    "\n",
    "# Print two lists\n"
   ]
  },
  {
   "cell_type": "markdown",
   "metadata": {},
   "source": [
    "### Visualization: Pie Chart of Number of Employees by Department (Fixed)"
   ]
  },
  {
   "cell_type": "code",
   "execution_count": null,
   "metadata": {},
   "outputs": [],
   "source": [
    "# Import matplotlib\n",
    "import matplotlib.pyplot as plot\n",
    "%matplotlib inline\n",
    "\n",
    "# Graph details\n",
    "plot.figure(figsize=(10,10))\n",
    "plot.title(\"Number of Employees by Department\")\n",
    "plot.style.use(\"ggplot\")\n",
    "colors_array = [\"lightblue\", \"red\", \"brown\", \"orange\", \"blue\", \"green\", \"yellow\", \"pink\", \"lightgreen\", \"cyan\", \"lightgray\"]\n",
    "\n",
    "# Create pie chart\n",
    "    # plot.pie(data array, labels array, color array, percentages, shadow)\n",
    "plot.pie(shortened_counts, labels=shortened_names, colors=colors_array, autopct=\"%1.1f%%\", shadow=True)\n",
    "#plot.legend(title=\"Legend), loc=\"lower_left\")\n",
    "plot.show()"
   ]
  },
  {
   "cell_type": "markdown",
   "metadata": {},
   "source": [
    "### Question: What is the mean (average) salary in each department in the City of Chicago?"
   ]
  },
  {
   "cell_type": "code",
   "execution_count": null,
   "metadata": {},
   "outputs": [],
   "source": [
    "# Group each department\n"
   ]
  },
  {
   "cell_type": "markdown",
   "metadata": {},
   "source": [
    "**Your Answer:** *Write a complete sentence that addresses the question here.*"
   ]
  },
  {
   "cell_type": "markdown",
   "metadata": {},
   "source": [
    "### Modify Data: Create a List of Departments and a List of Their Average Annual Salaries\n",
    "\n",
    "These two lists will be useful when plotting."
   ]
  },
  {
   "cell_type": "code",
   "execution_count": null,
   "metadata": {},
   "outputs": [],
   "source": [
    "# Array of department names sorted by the average salary\n",
    "\n",
    "# Array of salaries sorted by department\n",
    "\n",
    "# Print\n"
   ]
  },
  {
   "cell_type": "markdown",
   "metadata": {},
   "source": [
    "### Visualization: Bar Chart of Average Annual Salary by Department\n",
    "#### Sorted by Departement Name"
   ]
  },
  {
   "cell_type": "code",
   "execution_count": null,
   "metadata": {},
   "outputs": [],
   "source": [
    "# Import matplotlib\n",
    "import matplotlib.pyplot as plot\n",
    "%matplotlib inline\n",
    "\n",
    "# Graph details\n",
    "plot.style.use(\"ggplot\")\n",
    "plot.figure(figsize=(10,5))\n",
    "plot.title(\"City of Chicago Employees: Average Annual Salary by Department\")\n",
    "plot.xlabel(\"Department\")\n",
    "plot.ylabel(\"Annual Salary\")\n",
    "\n",
    "length = len(dept_names_avg)\n",
    "bar_pos = np.arange(1, length+1)  # numpy array of numbers [1-36]\n",
    "plot.xticks(bar_pos, dept_names_avg, rotation=90)\n",
    "width = 0.9\n",
    "\n",
    "# Bar graph\n",
    "plot.bar(bar_pos, dept_avg, width, color=\"#009999\")\n",
    "plot.show()"
   ]
  },
  {
   "cell_type": "markdown",
   "metadata": {},
   "source": [
    "### Modify Data: Merge Our Two Lists Into a List of Tuples, Then Sort\n",
    "\n",
    "By sorting, we can get a nicer plot."
   ]
  },
  {
   "cell_type": "code",
   "execution_count": null,
   "metadata": {},
   "outputs": [],
   "source": [
    "# List of tuples in the form (names, average salary)\n",
    "\n",
    "# Sort the list in reverse\n",
    "\n",
    "# Print\n"
   ]
  },
  {
   "cell_type": "markdown",
   "metadata": {},
   "source": [
    "### Visualization: Another Bar Chart of Average Annual Salary by Department \n",
    "\n",
    "#### Sorted by Average Annual Salary"
   ]
  },
  {
   "cell_type": "code",
   "execution_count": null,
   "metadata": {},
   "outputs": [],
   "source": [
    "# Import matplotlib and numpy\n",
    "import matplotlib.pyplot as plot\n",
    "%matplotlib inline\n",
    "import numpy as np\n",
    "\n",
    "# Graph details\n",
    "plot.style.use(\"ggplot\")  #fivethirty eight, bmh; grayscale, dark_background, ggplot\n",
    "plot.figure(figsize=(10,5))\n",
    "plot.title('City of Chicago Employees: Average Annual Salary by Department')\n",
    "plot.ylabel('Annual Salary')\n",
    "plot.xlabel('Department')\n",
    "\n",
    "# Create lists of sorted departements and total sums\n",
    "x_data = [tuple[0] for tuple in sorted_average_list]\n",
    "y_data = [tuple[1] for tuple in sorted_average_list]\n",
    "\n",
    "length = len(sorted_average_list)\n",
    "bar_pos = np.arange(1, length+1)  # numpy array of numbers [1-36]\n",
    "plot.xticks(bar_pos, x_data, rotation=90)\n",
    "width = 0.9\n",
    "\n",
    "plot.bar(bar_pos, y_data, width, color=\"gray\")\n",
    "plot.show()\n"
   ]
  },
  {
   "cell_type": "markdown",
   "metadata": {},
   "source": [
    "**Task:** Explain what this code is doing: \n",
    "        \n",
    "        x_data = [tuple[0] for tuple in sorted_average_list]\n",
    "\n",
    "You can use this link as a resource for your explanation: \n",
    "https://www.pythonforbeginners.com/basics/list-comprehensions-in-python\n",
    "\n",
    "**Your Answer:** *Write a complete sentence that addresses the question here.*"
   ]
  },
  {
   "cell_type": "markdown",
   "metadata": {},
   "source": [
    "### Question: What is the total salary expenditure in each department in the City of Chicago?"
   ]
  },
  {
   "cell_type": "code",
   "execution_count": null,
   "metadata": {},
   "outputs": [],
   "source": [
    "# List of each departments total salary spending\n"
   ]
  },
  {
   "cell_type": "markdown",
   "metadata": {},
   "source": [
    "**Your Answer:** *Write a complete sentence that addresses the question here. It is okay to refer the reader to the table, since it might be time consuming to list out every department in the City of Chicago.*"
   ]
  },
  {
   "cell_type": "markdown",
   "metadata": {},
   "source": [
    "### Modify Data: Create a Sorted List of Tuples"
   ]
  },
  {
   "cell_type": "code",
   "execution_count": null,
   "metadata": {},
   "outputs": [],
   "source": [
    "# List of department names\n",
    "\n",
    "# List of department total salary spending\n",
    "\n",
    "# Create list a tuples in form (department name, department total salary spending)\n",
    "    # 'zip' binds two parallel arrays into tuples\n",
    "\n",
    "# Sort the list by total sums, in reverse\n"
   ]
  },
  {
   "cell_type": "markdown",
   "metadata": {},
   "source": [
    "### Visualization: Bar Chart of Total Annual Salary Expenditure by Department \n",
    "\n",
    "#### Sorted by Total Expenditure\n",
    "* y-axis expressed in billions of dollars (1 x 10^9 or 1e9)"
   ]
  },
  {
   "cell_type": "code",
   "execution_count": null,
   "metadata": {},
   "outputs": [],
   "source": [
    "# Import matplotlib and numpy\n",
    "import matplotlib.pyplot as plot\n",
    "%matplotlib inline\n",
    "import numpy as np\n",
    "\n",
    "# Graph details\n",
    "plot.style.use(\"ggplot\")  #fivethirty eight, bmh; grayscale, dark_background, ggplot\n",
    "plot.figure(figsize=(10,5))\n",
    "plot.title('Total Annual Salary Expenditure by Department')\n",
    "plot.ylabel('Total Annual Salary Expenditure')\n",
    "plot.xlabel('Department')\n",
    "\n",
    "# Create lists of sorted departements and total sums\n",
    "x_data = [tuple[0] for tuple in sorted_sum_list]\n",
    "y_data = [tuple[1] for tuple in sorted_sum_list]\n",
    "\n",
    "length = len(sorted_sum_list)\n",
    "bar_pos = np.arange(1, length+1)  # numpy array of numbers [1-36]\n",
    "plot.xticks(bar_pos, x_data, rotation=90)\n",
    "width = 0.9\n",
    "\n",
    "# Bar graph\n",
    "plot.bar(bar_pos, y_data, width, color=\"tan\")\n",
    "\n",
    "plot.show()"
   ]
  },
  {
   "cell_type": "markdown",
   "metadata": {},
   "source": [
    "# Open Data Example #2: School District Revenue and Enrollment\n",
    "\n",
    "*Source for Data Set:* The United States Census Bureau (via data.gov)\n",
    "\n",
    "*URL for Data Set:* https://www.census.gov/data/tables/2019/econ/school-finances/secondary-education-finance.html\n",
    "\n",
    "*Note:* You should get this dataset from Schoology, not the URL. The Schoology file has been cleaned to remove outliers (for example, districts with 0 students or 0 revenue).\n",
    "\n",
    "*Description of Data Set:* This data has school enrollment versus total revenue for every school district in the United States in 2015 (the most recent data available).\n",
    "\n",
    "*File Format for Data Set:* CSV file (Comma Separated Values)\n",
    "\n",
    "*Age of Data Set:* 10/8/2021, accessed 4/5/2022"
   ]
  },
  {
   "cell_type": "markdown",
   "metadata": {},
   "source": [
    "Read in the data:"
   ]
  },
  {
   "cell_type": "code",
   "execution_count": null,
   "metadata": {},
   "outputs": [],
   "source": [
    "# Import pandas\n",
    "\n",
    "# Read the csv file (comma separated values)\n",
    "\n",
    "# Print last three entries\n"
   ]
  },
  {
   "cell_type": "markdown",
   "metadata": {},
   "source": [
    "Now plot:"
   ]
  },
  {
   "cell_type": "code",
   "execution_count": null,
   "metadata": {},
   "outputs": [],
   "source": [
    "# Import matplotlib\n",
    "import matplotlib.pyplot as plot\n",
    "%matplotlib inline\n",
    "\n",
    "#enrollmentDF.plot(kind='scatter', x='Enrollment', y='Total Revenue');\n",
    "\n",
    "# Graph details\n",
    "plot.style.use(\"ggplot\")  #fivethirty eight, bmh; grayscale, dark_background, ggplot\n",
    "plot.figure(figsize=(10,5))\n",
    "plot.title('Enrollment vs Revenue in US School Districts')\n",
    "plot.ylabel('Revenue')\n",
    "plot.xlabel('Enrollment')\n",
    "\n",
    "x_data = enrollment_DF[\"Total Enrollment\"]\n",
    "y_data = enrollment_DF[\"Total Revenue\"]\n",
    "plot.xlim([-20000,250000])\n",
    "plot.ylim([-200000,4000000])\n",
    "\n",
    "# Scatter plot\n",
    "plot.scatter(x_data, y_data, color=\"#A035E8\")\n",
    "\n",
    "\n",
    "plot.show()"
   ]
  },
  {
   "cell_type": "markdown",
   "metadata": {},
   "source": [
    "### Question: What seems to be the relationship between the number of students enrolled in a school district and the revenue of the district?"
   ]
  },
  {
   "cell_type": "markdown",
   "metadata": {
    "collapsed": true
   },
   "source": [
    "### Linear Regression\n",
    "* Modeling the relationship between two variables using a linear equation (straight line)\n",
    "* Equation for a line in slope-intercept form:\n",
    "    * y = mx + b\n",
    "        * m = slope\n",
    "        * b = y-intercept"
   ]
  },
  {
   "cell_type": "code",
   "execution_count": null,
   "metadata": {},
   "outputs": [],
   "source": [
    "# Import matplotlib and numpy\n",
    "import matplotlib.pyplot as plot\n",
    "%matplotlib inline\n",
    "import numpy as np\n",
    "\n",
    "# Graph details\n",
    "plot.title('Enrollment vs Revenue in US School Districts')\n",
    "plot.ylabel('Revenue')\n",
    "plot.xlabel('Enrollment')\n",
    "\n",
    "x_data = enrollment_DF[\"Total Enrollment\"]\n",
    "y_data = enrollment_DF[\"Total Revenue\"]\n",
    "plot.xlim([-20000,250000])\n",
    "plot.ylim([-200000,4000000])\n",
    "\n",
    "# Use np.polyfit to calculate the slope and y-intercept for the 'line of best fit'\n",
    "m, b = np.polyfit(x_data, y_data, 1)\n",
    "\n",
    "# Scatter Plot\n",
    "    # plot.plot(variable, equation, line width, color)\n",
    "plot.plot(x_data, m*x_data + b, linewidth=4, color=\"red\")\n",
    "plot.scatter(x_data, y_data, color=\"#F4F124\")\n",
    "\n",
    "plot.show()"
   ]
  },
  {
   "cell_type": "markdown",
   "metadata": {},
   "source": [
    "**Your Answer:** *Write a complete sentence that addresses the question here. You might refer to what you see in the plot above.*"
   ]
  },
  {
   "cell_type": "markdown",
   "metadata": {},
   "source": [
    "### Question: Explain the meaning of the code in the cell below. Then run it and interpret the resulting output."
   ]
  },
  {
   "cell_type": "code",
   "execution_count": null,
   "metadata": {},
   "outputs": [],
   "source": [
    "x0 = 125000\n",
    "print(m*x0 + b)"
   ]
  },
  {
   "cell_type": "markdown",
   "metadata": {},
   "source": [
    "**Your Answer:** *Write a complete sentence that addresses the question here.*"
   ]
  },
  {
   "cell_type": "code",
   "execution_count": null,
   "metadata": {},
   "outputs": [],
   "source": []
  }
 ],
 "metadata": {
  "kernelspec": {
   "display_name": "Python 3",
   "language": "python",
   "name": "python3"
  },
  "language_info": {
   "codemirror_mode": {
    "name": "ipython",
    "version": 3
   },
   "file_extension": ".py",
   "mimetype": "text/x-python",
   "name": "python",
   "nbconvert_exporter": "python",
   "pygments_lexer": "ipython3",
   "version": "3.7.4"
  }
 },
 "nbformat": 4,
 "nbformat_minor": 1
}
