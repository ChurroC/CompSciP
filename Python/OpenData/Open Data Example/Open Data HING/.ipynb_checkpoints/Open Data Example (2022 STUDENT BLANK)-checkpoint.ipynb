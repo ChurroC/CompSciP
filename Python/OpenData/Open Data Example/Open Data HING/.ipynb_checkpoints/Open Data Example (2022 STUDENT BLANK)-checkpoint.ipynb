{
 "cells": [
  {
   "cell_type": "markdown",
   "metadata": {},
   "source": [
    "# Open Data Example #1: City of Chicago Salaries\n",
    "\n",
    "*Source for Data Set:* City of Chicago Department of Human Resources\n",
    "\n",
    "*URL for Data Set:* https://data.cityofchicago.org/Administration-Finance/Current-Employee-Names-Salaries-and-Position-Title/xzkq-xp2w\n",
    "\n",
    "*Description of Data Set:* \"This dataset is a listing of all current City of Chicago employees, complete with full names, departments, positions, and annual salaries. For hourly employees the annual salary is estimated.\" (Description written by City of Chicago) \n",
    "\n",
    "*File Format for Data Set:* CSV file (Comma Separated Values)\n",
    "\n",
    "*Age of Data Set:* Last updated January 21, 2021"
   ]
  },
  {
   "cell_type": "markdown",
   "metadata": {},
   "source": [
    "### Import CSV File"
   ]
  },
  {
   "cell_type": "code",
   "execution_count": 17,
   "metadata": {},
   "outputs": [
    {
     "data": {
      "text/html": [
       "<div>\n",
       "<style scoped>\n",
       "    .dataframe tbody tr th:only-of-type {\n",
       "        vertical-align: middle;\n",
       "    }\n",
       "\n",
       "    .dataframe tbody tr th {\n",
       "        vertical-align: top;\n",
       "    }\n",
       "\n",
       "    .dataframe thead th {\n",
       "        text-align: right;\n",
       "    }\n",
       "</style>\n",
       "<table border=\"1\" class=\"dataframe\">\n",
       "  <thead>\n",
       "    <tr style=\"text-align: right;\">\n",
       "      <th></th>\n",
       "      <th>Name</th>\n",
       "      <th>Job Titles</th>\n",
       "      <th>Department</th>\n",
       "      <th>Full or Part-Time</th>\n",
       "      <th>Salary or Hourly</th>\n",
       "      <th>Typical Hours</th>\n",
       "      <th>Annual Salary</th>\n",
       "      <th>Hourly Rate</th>\n",
       "    </tr>\n",
       "  </thead>\n",
       "  <tbody>\n",
       "    <tr>\n",
       "      <th>31098</th>\n",
       "      <td>ZYMANTAS,  MARK E</td>\n",
       "      <td>POLICE OFFICER</td>\n",
       "      <td>POLICE</td>\n",
       "      <td>F</td>\n",
       "      <td>Salary</td>\n",
       "      <td>NaN</td>\n",
       "      <td>102372.0</td>\n",
       "      <td>NaN</td>\n",
       "    </tr>\n",
       "    <tr>\n",
       "      <th>31099</th>\n",
       "      <td>ZYRKOWSKI,  CARLO E</td>\n",
       "      <td>POLICE OFFICER</td>\n",
       "      <td>POLICE</td>\n",
       "      <td>F</td>\n",
       "      <td>Salary</td>\n",
       "      <td>NaN</td>\n",
       "      <td>109236.0</td>\n",
       "      <td>NaN</td>\n",
       "    </tr>\n",
       "    <tr>\n",
       "      <th>31100</th>\n",
       "      <td>ZYSKOWSKI,  DARIUSZ</td>\n",
       "      <td>CHIEF DATA BASE ANALYST</td>\n",
       "      <td>DAIS</td>\n",
       "      <td>F</td>\n",
       "      <td>Salary</td>\n",
       "      <td>NaN</td>\n",
       "      <td>142176.0</td>\n",
       "      <td>NaN</td>\n",
       "    </tr>\n",
       "  </tbody>\n",
       "</table>\n",
       "</div>"
      ],
      "text/plain": [
       "                      Name               Job Titles Department  \\\n",
       "31098    ZYMANTAS,  MARK E           POLICE OFFICER     POLICE   \n",
       "31099  ZYRKOWSKI,  CARLO E           POLICE OFFICER     POLICE   \n",
       "31100  ZYSKOWSKI,  DARIUSZ  CHIEF DATA BASE ANALYST       DAIS   \n",
       "\n",
       "      Full or Part-Time Salary or Hourly  Typical Hours  Annual Salary  \\\n",
       "31098                 F           Salary            NaN       102372.0   \n",
       "31099                 F           Salary            NaN       109236.0   \n",
       "31100                 F           Salary            NaN       142176.0   \n",
       "\n",
       "       Hourly Rate  \n",
       "31098          NaN  \n",
       "31099          NaN  \n",
       "31100          NaN  "
      ]
     },
     "execution_count": 17,
     "metadata": {},
     "output_type": "execute_result"
    }
   ],
   "source": [
    "# Import pandas module\n",
    "import pandas as pd\n",
    "\n",
    "# Read in the csv file (comma separated values)\n",
    "salary_DF = pd.read_csv(\"Salaries_2022.csv\")\n",
    "\n",
    "# Print the last three entries of the file\n",
    "    # The last line of a cell will print automatically!\n",
    "    # Can sometimes display data differently\n",
    "salary_DF[-3:]"
   ]
  },
  {
   "cell_type": "markdown",
   "metadata": {},
   "source": [
    "Sometimes, the last entry (or the last few entries) in a dataset may be erroneous. Use code similar to below to eliminate them.\n",
    "\n",
    "    salary_DF = salary_DF.drop(salary_DF.index[-1])\n",
    "\n",
    "*Note: This doesn't appear to be a problem with the 2022 version of this dataset, so you are unlikely to need to run the above code*"
   ]
  },
  {
   "cell_type": "code",
   "execution_count": 18,
   "metadata": {},
   "outputs": [],
   "source": [
    "# Use this cell to run the code above (if needed)\n",
    "\n",
    "# Note: Only run this code if your teacher says you need it"
   ]
  },
  {
   "cell_type": "markdown",
   "metadata": {},
   "source": [
    "### Question: How many employees are paid by the City of Chicago?"
   ]
  },
  {
   "cell_type": "code",
   "execution_count": 19,
   "metadata": {},
   "outputs": [
    {
     "data": {
      "text/plain": [
       "31101"
      ]
     },
     "execution_count": 19,
     "metadata": {},
     "output_type": "execute_result"
    }
   ],
   "source": [
    "# Print the length of the data frame\n",
    "len(salary_DF)"
   ]
  },
  {
   "cell_type": "markdown",
   "metadata": {},
   "source": [
    "**Your Answer:** *Write a complete sentence that answers the question here.*"
   ]
  },
  {
   "cell_type": "markdown",
   "metadata": {},
   "source": [
    "### Modify Data: Create a List of Salaries"
   ]
  },
  {
   "cell_type": "code",
   "execution_count": 20,
   "metadata": {},
   "outputs": [
    {
     "data": {
      "text/plain": [
       "0    122568.0\n",
       "1    110796.0\n",
       "2    122112.0\n",
       "3         NaN\n",
       "4     86730.0\n",
       "Name: Annual Salary, dtype: float64"
      ]
     },
     "execution_count": 20,
     "metadata": {},
     "output_type": "execute_result"
    }
   ],
   "source": [
    "# Store all values from the \"Annual Salary\" column\n",
    "salary_list = salary_DF[\"Annual Salary\"]\n",
    "# Print the first 3 entries\n",
    "salary_list[:5]"
   ]
  },
  {
   "cell_type": "markdown",
   "metadata": {},
   "source": [
    "### Modify Data to be Usable\n",
    "\n",
    "Step 0: If you have data with dollar signs, we would need to delete these symbols. This year's spreadsheet doesn't have any dollar signs, so we don't need to worry about this. But in previous years, we had to replace dollar signs with empty strings. In your own data projects, you'll want to check if this step is necessary. \n",
    "\n",
    "Step 1: Clean data by deleting dollar signs, '$', from the salaries and replace any empty strings with a salary of '0.00' dollars per year.\n",
    "\n",
    "Step 2: Create a list with only salaries, converted from strings to floating point numbers. For example, the string '84450.0' becomes the floating point number 84450.0."
   ]
  },
  {
   "cell_type": "code",
   "execution_count": 21,
   "metadata": {},
   "outputs": [
    {
     "name": "stdout",
     "output_type": "stream",
     "text": [
      "0    122568.0\n",
      "1    110796.0\n",
      "2    122112.0\n",
      "3         NaN\n",
      "4     86730.0\n",
      "Name: Annual Salary, dtype: float64\n"
     ]
    }
   ],
   "source": [
    "# This can delete '$' symbols if present before salaries\n",
    "# salary_list = salary_list.str.replace(\"$\",\"\")\n",
    "\n",
    "# Convert to floating point number\n",
    "    # Empty cells --> 0.00\n",
    "salary_list = salary_list.astype(float)\n",
    "    \n",
    "# Print the last 4 entries\n",
    "print(salary_list[:5])\n",
    "#maybe pd.to_numeric(s)\n",
    "#salary_list = salary_list.fillna(0.0)\n",
    "\n",
    "#print(salary_list[:5])"
   ]
  },
  {
   "cell_type": "markdown",
   "metadata": {},
   "source": [
    "It might come in handy later to have our salaries as floating point numbers. Let's replace the old column in our dataframe (string data) and replace it with our new one (floating point numbers):"
   ]
  },
  {
   "cell_type": "code",
   "execution_count": 23,
   "metadata": {},
   "outputs": [
    {
     "data": {
      "text/html": [
       "<div>\n",
       "<style scoped>\n",
       "    .dataframe tbody tr th:only-of-type {\n",
       "        vertical-align: middle;\n",
       "    }\n",
       "\n",
       "    .dataframe tbody tr th {\n",
       "        vertical-align: top;\n",
       "    }\n",
       "\n",
       "    .dataframe thead th {\n",
       "        text-align: right;\n",
       "    }\n",
       "</style>\n",
       "<table border=\"1\" class=\"dataframe\">\n",
       "  <thead>\n",
       "    <tr style=\"text-align: right;\">\n",
       "      <th></th>\n",
       "      <th>Name</th>\n",
       "      <th>Job Titles</th>\n",
       "      <th>Department</th>\n",
       "      <th>Full or Part-Time</th>\n",
       "      <th>Salary or Hourly</th>\n",
       "      <th>Typical Hours</th>\n",
       "      <th>Hourly Rate</th>\n",
       "      <th>Annual Salary</th>\n",
       "    </tr>\n",
       "  </thead>\n",
       "  <tbody>\n",
       "    <tr>\n",
       "      <th>0</th>\n",
       "      <td>AARON,  JEFFERY M</td>\n",
       "      <td>SERGEANT</td>\n",
       "      <td>POLICE</td>\n",
       "      <td>F</td>\n",
       "      <td>Salary</td>\n",
       "      <td>NaN</td>\n",
       "      <td>NaN</td>\n",
       "      <td>122568.0</td>\n",
       "    </tr>\n",
       "    <tr>\n",
       "      <th>1</th>\n",
       "      <td>AARON,  KARINA</td>\n",
       "      <td>POLICE OFFICER (ASSIGNED AS DETECTIVE)</td>\n",
       "      <td>POLICE</td>\n",
       "      <td>F</td>\n",
       "      <td>Salary</td>\n",
       "      <td>NaN</td>\n",
       "      <td>NaN</td>\n",
       "      <td>110796.0</td>\n",
       "    </tr>\n",
       "    <tr>\n",
       "      <th>2</th>\n",
       "      <td>ABAD JR,  VICENTE M</td>\n",
       "      <td>CIVIL ENGINEER IV</td>\n",
       "      <td>WATER MGMNT</td>\n",
       "      <td>F</td>\n",
       "      <td>Salary</td>\n",
       "      <td>NaN</td>\n",
       "      <td>NaN</td>\n",
       "      <td>122112.0</td>\n",
       "    </tr>\n",
       "    <tr>\n",
       "      <th>3</th>\n",
       "      <td>ABARCA,  EMMANUEL</td>\n",
       "      <td>CONCRETE LABORER</td>\n",
       "      <td>TRANSPORTN</td>\n",
       "      <td>F</td>\n",
       "      <td>Hourly</td>\n",
       "      <td>40.0</td>\n",
       "      <td>45.9</td>\n",
       "      <td>NaN</td>\n",
       "    </tr>\n",
       "    <tr>\n",
       "      <th>4</th>\n",
       "      <td>ABARCA,  FRANCES J</td>\n",
       "      <td>POLICE OFFICER</td>\n",
       "      <td>POLICE</td>\n",
       "      <td>F</td>\n",
       "      <td>Salary</td>\n",
       "      <td>NaN</td>\n",
       "      <td>NaN</td>\n",
       "      <td>86730.0</td>\n",
       "    </tr>\n",
       "    <tr>\n",
       "      <th>5</th>\n",
       "      <td>ABBATACOLA,  ROBERT J</td>\n",
       "      <td>ELECTRICAL MECHANIC</td>\n",
       "      <td>AVIATION</td>\n",
       "      <td>F</td>\n",
       "      <td>Hourly</td>\n",
       "      <td>40.0</td>\n",
       "      <td>51.0</td>\n",
       "      <td>NaN</td>\n",
       "    </tr>\n",
       "    <tr>\n",
       "      <th>6</th>\n",
       "      <td>ABBATEMARCO,  JAMES J</td>\n",
       "      <td>FIRE ENGINEER-EMT</td>\n",
       "      <td>FIRE</td>\n",
       "      <td>F</td>\n",
       "      <td>Salary</td>\n",
       "      <td>NaN</td>\n",
       "      <td>NaN</td>\n",
       "      <td>118830.0</td>\n",
       "    </tr>\n",
       "    <tr>\n",
       "      <th>7</th>\n",
       "      <td>ABBATE,  TERRY M</td>\n",
       "      <td>POLICE OFFICER</td>\n",
       "      <td>POLICE</td>\n",
       "      <td>F</td>\n",
       "      <td>Salary</td>\n",
       "      <td>NaN</td>\n",
       "      <td>NaN</td>\n",
       "      <td>109236.0</td>\n",
       "    </tr>\n",
       "    <tr>\n",
       "      <th>8</th>\n",
       "      <td>ABBOTT,  BETTY L</td>\n",
       "      <td>FOSTER GRANDPARENT</td>\n",
       "      <td>FAMILY &amp; SUPPORT</td>\n",
       "      <td>P</td>\n",
       "      <td>Hourly</td>\n",
       "      <td>20.0</td>\n",
       "      <td>3.0</td>\n",
       "      <td>NaN</td>\n",
       "    </tr>\n",
       "    <tr>\n",
       "      <th>9</th>\n",
       "      <td>ABBOTT,  CARMELLA</td>\n",
       "      <td>POLICE OFFICER</td>\n",
       "      <td>POLICE</td>\n",
       "      <td>F</td>\n",
       "      <td>Salary</td>\n",
       "      <td>NaN</td>\n",
       "      <td>NaN</td>\n",
       "      <td>90990.0</td>\n",
       "    </tr>\n",
       "  </tbody>\n",
       "</table>\n",
       "</div>"
      ],
      "text/plain": [
       "                    Name                              Job Titles  \\\n",
       "0      AARON,  JEFFERY M                                SERGEANT   \n",
       "1         AARON,  KARINA  POLICE OFFICER (ASSIGNED AS DETECTIVE)   \n",
       "2    ABAD JR,  VICENTE M                       CIVIL ENGINEER IV   \n",
       "3      ABARCA,  EMMANUEL                        CONCRETE LABORER   \n",
       "4     ABARCA,  FRANCES J                          POLICE OFFICER   \n",
       "5  ABBATACOLA,  ROBERT J                     ELECTRICAL MECHANIC   \n",
       "6  ABBATEMARCO,  JAMES J                       FIRE ENGINEER-EMT   \n",
       "7       ABBATE,  TERRY M                          POLICE OFFICER   \n",
       "8       ABBOTT,  BETTY L                      FOSTER GRANDPARENT   \n",
       "9      ABBOTT,  CARMELLA                          POLICE OFFICER   \n",
       "\n",
       "         Department Full or Part-Time Salary or Hourly  Typical Hours  \\\n",
       "0            POLICE                 F           Salary            NaN   \n",
       "1            POLICE                 F           Salary            NaN   \n",
       "2       WATER MGMNT                 F           Salary            NaN   \n",
       "3        TRANSPORTN                 F           Hourly           40.0   \n",
       "4            POLICE                 F           Salary            NaN   \n",
       "5          AVIATION                 F           Hourly           40.0   \n",
       "6              FIRE                 F           Salary            NaN   \n",
       "7            POLICE                 F           Salary            NaN   \n",
       "8  FAMILY & SUPPORT                 P           Hourly           20.0   \n",
       "9            POLICE                 F           Salary            NaN   \n",
       "\n",
       "   Hourly Rate  Annual Salary  \n",
       "0          NaN       122568.0  \n",
       "1          NaN       110796.0  \n",
       "2          NaN       122112.0  \n",
       "3         45.9            NaN  \n",
       "4          NaN        86730.0  \n",
       "5         51.0            NaN  \n",
       "6          NaN       118830.0  \n",
       "7          NaN       109236.0  \n",
       "8          3.0            NaN  \n",
       "9          NaN        90990.0  "
      ]
     },
     "execution_count": 23,
     "metadata": {},
     "output_type": "execute_result"
    }
   ],
   "source": [
    "# Delete the ORIGINAL data in \"Annual Salary\" column\n",
    "del salary_DF[\"Annual Salary\"]\n",
    "# Replace with our NEW data\n",
    "salary_DF[\"Annual Salary\"] = salary_list\n",
    "# Print first 10 entries\n",
    "salary_DF[:10]"
   ]
  },
  {
   "cell_type": "markdown",
   "metadata": {},
   "source": [
    "### Modify Data: Convert to a Numpy Number Array"
   ]
  },
  {
   "cell_type": "code",
   "execution_count": 24,
   "metadata": {},
   "outputs": [
    {
     "data": {
      "text/plain": [
       "array([    nan,  95586.,  95586., 106170.,     nan, 105936.,     nan,\n",
       "       130908.,  95586.,     nan,     nan, 102696., 109236.,     nan,\n",
       "       100896.,  95586.,  54672.,  93660.,     nan, 102372., 130908.,\n",
       "        90990.,  95586., 107028.,  95586.,  90990.,  95586., 102372.,\n",
       "       109236., 142176.])"
      ]
     },
     "execution_count": 24,
     "metadata": {},
     "output_type": "execute_result"
    }
   ],
   "source": [
    "# Import numpy\n",
    "import numpy as np\n",
    "# Convert data to a numpy array\n",
    "salary_array = np.array(salary_list)\n",
    "# Print the last 30 values\n",
    "salary_array[-30:]"
   ]
  },
  {
   "cell_type": "markdown",
   "metadata": {},
   "source": [
    "Look closely at this output, and you'll spot a problem: \n",
    "\n",
    "Some of our values are listed as \"nan\" or \"not a number.\" If we are going to do some mathematical calculations with this data, we're going to need to clean the data by removing all instances of \"nan.\" \n",
    "\n",
    "_Note: There may be several reasons why the dataset contains \"nan\" values. In some cases, an employee's salary data might be missing, there may have been a data entry error, an employee may have gone unpaid for a year because of an extended leave, or the employee may be working on a volunteer basis. Since there's no way to know how to interpret these values, it is best for us to do some data cleaning and remove them._ "
   ]
  },
  {
   "cell_type": "code",
   "execution_count": 25,
   "metadata": {},
   "outputs": [
    {
     "data": {
      "text/plain": [
       "array([ 93252.,  86730.,  90990., 102372.,  46836., 102372.,  95586.,\n",
       "        95586.,  95586., 106170., 105936., 130908.,  95586., 102696.,\n",
       "       109236., 100896.,  95586.,  54672.,  93660., 102372., 130908.,\n",
       "        90990.,  95586., 107028.,  95586.,  90990.,  95586., 102372.,\n",
       "       109236., 142176.])"
      ]
     },
     "execution_count": 25,
     "metadata": {},
     "output_type": "execute_result"
    }
   ],
   "source": [
    "# Import numpy as np\n",
    "import numpy as np\n",
    "# Eliminate the NaN entries\n",
    "    # the ~ symbol is interpreted by numpy as \"not\"\n",
    "salary_array = salary_array[~np.isnan(salary_array)]\n",
    "# Print the last 30 entries\n",
    "salary_array[-30:]"
   ]
  },
  {
   "cell_type": "markdown",
   "metadata": {},
   "source": [
    "### Question: What is the average salary for city employees?"
   ]
  },
  {
   "cell_type": "code",
   "execution_count": 26,
   "metadata": {},
   "outputs": [
    {
     "name": "stdout",
     "output_type": "stream",
     "text": [
      "98750.83894099724\n"
     ]
    }
   ],
   "source": [
    "# Calculate the average\n",
    "average = np.average(salary_array)\n",
    "print(average)"
   ]
  },
  {
   "cell_type": "markdown",
   "metadata": {},
   "source": [
    "**Your Answer:** *Write a complete sentence that answers the question here.*"
   ]
  },
  {
   "cell_type": "markdown",
   "metadata": {},
   "source": [
    "### Question: What is the median salary for city employees?"
   ]
  },
  {
   "cell_type": "code",
   "execution_count": 27,
   "metadata": {},
   "outputs": [
    {
     "name": "stdout",
     "output_type": "stream",
     "text": [
      "98940.0\n"
     ]
    }
   ],
   "source": [
    "# Find the median value\n",
    "median = np.median(salary_array)\n",
    "print(median)"
   ]
  },
  {
   "cell_type": "markdown",
   "metadata": {},
   "source": [
    "**Your Answer:** *Write a complete sentence that answers the question here.*"
   ]
  },
  {
   "cell_type": "markdown",
   "metadata": {},
   "source": [
    "**Task:** Use this cell to explain what the *median* of a dataset is.\n",
    "\n",
    "**Answer:** *Write a complete sentence that answers the question here.*"
   ]
  },
  {
   "cell_type": "markdown",
   "metadata": {},
   "source": [
    "### Question: What is the number of city employees?"
   ]
  },
  {
   "cell_type": "code",
   "execution_count": 28,
   "metadata": {},
   "outputs": [
    {
     "data": {
      "text/plain": [
       "24287"
      ]
     },
     "execution_count": 28,
     "metadata": {},
     "output_type": "execute_result"
    }
   ],
   "source": [
    "# Find the length of the array\n",
    "len(salary_array)"
   ]
  },
  {
   "cell_type": "markdown",
   "metadata": {},
   "source": [
    "**Your Answer:** *Write a complete sentence that answers the question here.*"
   ]
  },
  {
   "cell_type": "markdown",
   "metadata": {},
   "source": [
    "### Question: What is the standard deviation of city employee salaries?"
   ]
  },
  {
   "cell_type": "code",
   "execution_count": 29,
   "metadata": {},
   "outputs": [
    {
     "name": "stdout",
     "output_type": "stream",
     "text": [
      "22459.508955659418\n"
     ]
    }
   ],
   "source": [
    "# Find the standard deviation\n",
    "standard_deviation = np.std(salary_array)\n",
    "print(standard_deviation)"
   ]
  },
  {
   "cell_type": "markdown",
   "metadata": {},
   "source": [
    "**Your Answer:** *Write a complete sentence that answers the question here.*"
   ]
  },
  {
   "cell_type": "markdown",
   "metadata": {},
   "source": [
    "**Task:** Use this cell to explain what the *standard deviation* of a dataset is.\n",
    "\n",
    "**Your Answer:** *Write a complete sentence that answers the question here.*"
   ]
  },
  {
   "cell_type": "markdown",
   "metadata": {},
   "source": [
    "### Question: What is the highest salary among city employees?"
   ]
  },
  {
   "cell_type": "code",
   "execution_count": 31,
   "metadata": {},
   "outputs": [
    {
     "name": "stdout",
     "output_type": "stream",
     "text": [
      "275004.0\n"
     ]
    }
   ],
   "source": [
    "# Find the max value\n",
    "highest = np.max(salary_array)\n",
    "print(highest)"
   ]
  },
  {
   "cell_type": "markdown",
   "metadata": {},
   "source": [
    "**Your Answer:** *Write a complete sentence that answers the question here.*"
   ]
  },
  {
   "cell_type": "markdown",
   "metadata": {},
   "source": [
    "### Question: The highest paid employee of the City of Chicago makes approximately $275,000 a year. Who is it?"
   ]
  },
  {
   "cell_type": "code",
   "execution_count": 34,
   "metadata": {},
   "outputs": [
    {
     "name": "stdout",
     "output_type": "stream",
     "text": [
      "                 Name                Job Titles Department Full or Part-Time  \\\n",
      "23016  RHEE,  JAMIE L  COMMISSIONER OF AVIATION   AVIATION                 F   \n",
      "\n",
      "      Salary or Hourly  Typical Hours  Hourly Rate  Annual Salary  \n",
      "23016           Salary            NaN          NaN       275004.0  \n"
     ]
    }
   ],
   "source": [
    "# Sort the array in ascending order\n",
    "sorted_DF = salary_DF.sort_values(by=\"Annual Salary\", ascending=0)\n",
    "# Print first entry only\n",
    "print(sorted_DF[:1])\n"
   ]
  },
  {
   "cell_type": "markdown",
   "metadata": {},
   "source": [
    "**Your Answer:** *Write a complete sentence that answers the question here.*\\\n",
    "It's RHEE, JAMIE L COMMISSIONER OF AVIATION"
   ]
  },
  {
   "cell_type": "markdown",
   "metadata": {},
   "source": [
    "### Question: Who earns the top 10 salaries in the City of Chicago?"
   ]
  },
  {
   "cell_type": "code",
   "execution_count": 37,
   "metadata": {},
   "outputs": [
    {
     "data": {
      "text/html": [
       "<div>\n",
       "<style scoped>\n",
       "    .dataframe tbody tr th:only-of-type {\n",
       "        vertical-align: middle;\n",
       "    }\n",
       "\n",
       "    .dataframe tbody tr th {\n",
       "        vertical-align: top;\n",
       "    }\n",
       "\n",
       "    .dataframe thead th {\n",
       "        text-align: right;\n",
       "    }\n",
       "</style>\n",
       "<table border=\"1\" class=\"dataframe\">\n",
       "  <thead>\n",
       "    <tr style=\"text-align: right;\">\n",
       "      <th></th>\n",
       "      <th>Name</th>\n",
       "      <th>Job Titles</th>\n",
       "      <th>Department</th>\n",
       "      <th>Full or Part-Time</th>\n",
       "      <th>Salary or Hourly</th>\n",
       "      <th>Typical Hours</th>\n",
       "      <th>Hourly Rate</th>\n",
       "      <th>Annual Salary</th>\n",
       "    </tr>\n",
       "  </thead>\n",
       "  <tbody>\n",
       "    <tr>\n",
       "      <th>23016</th>\n",
       "      <td>RHEE,  JAMIE L</td>\n",
       "      <td>COMMISSIONER OF AVIATION</td>\n",
       "      <td>AVIATION</td>\n",
       "      <td>F</td>\n",
       "      <td>Salary</td>\n",
       "      <td>NaN</td>\n",
       "      <td>NaN</td>\n",
       "      <td>275004.0</td>\n",
       "    </tr>\n",
       "    <tr>\n",
       "      <th>3222</th>\n",
       "      <td>BROWN,  DAVID O</td>\n",
       "      <td>SUPERINTENDENT OF POLICE</td>\n",
       "      <td>POLICE</td>\n",
       "      <td>F</td>\n",
       "      <td>Salary</td>\n",
       "      <td>NaN</td>\n",
       "      <td>NaN</td>\n",
       "      <td>260004.0</td>\n",
       "    </tr>\n",
       "    <tr>\n",
       "      <th>18983</th>\n",
       "      <td>NANCE HOLT,  ANNETTE M</td>\n",
       "      <td>FIRE COMMISSIONER</td>\n",
       "      <td>FIRE</td>\n",
       "      <td>F</td>\n",
       "      <td>Salary</td>\n",
       "      <td>NaN</td>\n",
       "      <td>NaN</td>\n",
       "      <td>228612.0</td>\n",
       "    </tr>\n",
       "    <tr>\n",
       "      <th>15899</th>\n",
       "      <td>LIGHTFOOT,  LORI E</td>\n",
       "      <td>MAYOR</td>\n",
       "      <td>MAYOR'S OFFICE</td>\n",
       "      <td>F</td>\n",
       "      <td>Salary</td>\n",
       "      <td>NaN</td>\n",
       "      <td>NaN</td>\n",
       "      <td>216210.0</td>\n",
       "    </tr>\n",
       "    <tr>\n",
       "      <th>25490</th>\n",
       "      <td>SHERIDAN,  MARY L</td>\n",
       "      <td>FIRST DEPUTY FIRE COMMISSIONER</td>\n",
       "      <td>FIRE</td>\n",
       "      <td>F</td>\n",
       "      <td>Salary</td>\n",
       "      <td>NaN</td>\n",
       "      <td>NaN</td>\n",
       "      <td>207624.0</td>\n",
       "    </tr>\n",
       "    <tr>\n",
       "      <th>4281</th>\n",
       "      <td>CARTER,  ERIC M</td>\n",
       "      <td>FIRST DEPUTY SUPERINTENDENT</td>\n",
       "      <td>POLICE</td>\n",
       "      <td>F</td>\n",
       "      <td>Salary</td>\n",
       "      <td>NaN</td>\n",
       "      <td>NaN</td>\n",
       "      <td>207612.0</td>\n",
       "    </tr>\n",
       "    <tr>\n",
       "      <th>29098</th>\n",
       "      <td>WALKER,  ANNASTASIA M</td>\n",
       "      <td>EXEC DIR - OFFICE OF PUBLIC SAFETY ADM</td>\n",
       "      <td>PUBLIC SAFETY ADMIN</td>\n",
       "      <td>F</td>\n",
       "      <td>Salary</td>\n",
       "      <td>NaN</td>\n",
       "      <td>NaN</td>\n",
       "      <td>204756.0</td>\n",
       "    </tr>\n",
       "    <tr>\n",
       "      <th>2351</th>\n",
       "      <td>BIAGI,  GIA T</td>\n",
       "      <td>COMMISSIONER OF TRANSPORTATION</td>\n",
       "      <td>TRANSPORTN</td>\n",
       "      <td>F</td>\n",
       "      <td>Salary</td>\n",
       "      <td>NaN</td>\n",
       "      <td>NaN</td>\n",
       "      <td>204756.0</td>\n",
       "    </tr>\n",
       "    <tr>\n",
       "      <th>3203</th>\n",
       "      <td>BROWN,  CHRISTOPHER M</td>\n",
       "      <td>COMMISSIONER OF CHICAGO PUBLIC LIBRARY</td>\n",
       "      <td>PUBLIC LIBRARY</td>\n",
       "      <td>F</td>\n",
       "      <td>Salary</td>\n",
       "      <td>NaN</td>\n",
       "      <td>NaN</td>\n",
       "      <td>204756.0</td>\n",
       "    </tr>\n",
       "    <tr>\n",
       "      <th>16654</th>\n",
       "      <td>MADISON,  SYBIL M</td>\n",
       "      <td>CHIEF OF STAFF</td>\n",
       "      <td>MAYOR'S OFFICE</td>\n",
       "      <td>F</td>\n",
       "      <td>Salary</td>\n",
       "      <td>NaN</td>\n",
       "      <td>NaN</td>\n",
       "      <td>204756.0</td>\n",
       "    </tr>\n",
       "  </tbody>\n",
       "</table>\n",
       "</div>"
      ],
      "text/plain": [
       "                         Name                              Job Titles  \\\n",
       "23016          RHEE,  JAMIE L                COMMISSIONER OF AVIATION   \n",
       "3222          BROWN,  DAVID O                SUPERINTENDENT OF POLICE   \n",
       "18983  NANCE HOLT,  ANNETTE M                       FIRE COMMISSIONER   \n",
       "15899      LIGHTFOOT,  LORI E                                   MAYOR   \n",
       "25490       SHERIDAN,  MARY L          FIRST DEPUTY FIRE COMMISSIONER   \n",
       "4281          CARTER,  ERIC M             FIRST DEPUTY SUPERINTENDENT   \n",
       "29098   WALKER,  ANNASTASIA M  EXEC DIR - OFFICE OF PUBLIC SAFETY ADM   \n",
       "2351            BIAGI,  GIA T          COMMISSIONER OF TRANSPORTATION   \n",
       "3203    BROWN,  CHRISTOPHER M  COMMISSIONER OF CHICAGO PUBLIC LIBRARY   \n",
       "16654       MADISON,  SYBIL M                          CHIEF OF STAFF   \n",
       "\n",
       "                Department Full or Part-Time Salary or Hourly  Typical Hours  \\\n",
       "23016             AVIATION                 F           Salary            NaN   \n",
       "3222                POLICE                 F           Salary            NaN   \n",
       "18983                 FIRE                 F           Salary            NaN   \n",
       "15899       MAYOR'S OFFICE                 F           Salary            NaN   \n",
       "25490                 FIRE                 F           Salary            NaN   \n",
       "4281                POLICE                 F           Salary            NaN   \n",
       "29098  PUBLIC SAFETY ADMIN                 F           Salary            NaN   \n",
       "2351            TRANSPORTN                 F           Salary            NaN   \n",
       "3203        PUBLIC LIBRARY                 F           Salary            NaN   \n",
       "16654       MAYOR'S OFFICE                 F           Salary            NaN   \n",
       "\n",
       "       Hourly Rate  Annual Salary  \n",
       "23016          NaN       275004.0  \n",
       "3222           NaN       260004.0  \n",
       "18983          NaN       228612.0  \n",
       "15899          NaN       216210.0  \n",
       "25490          NaN       207624.0  \n",
       "4281           NaN       207612.0  \n",
       "29098          NaN       204756.0  \n",
       "2351           NaN       204756.0  \n",
       "3203           NaN       204756.0  \n",
       "16654          NaN       204756.0  "
      ]
     },
     "execution_count": 37,
     "metadata": {},
     "output_type": "execute_result"
    }
   ],
   "source": [
    "# Print the first 10 entries of the sorted array\n",
    "sorted_DF[:10]"
   ]
  },
  {
   "cell_type": "markdown",
   "metadata": {},
   "source": [
    "**Your Answer:** *Write a complete sentence that addresses the question here. It is okay to refer the reader to the table, since it might be time consuming to list out a long list of 10 people and their job titles here.*"
   ]
  },
  {
   "cell_type": "markdown",
   "metadata": {
    "collapsed": true
   },
   "source": [
    "### Visualization: Histogram of Salaries"
   ]
  },
  {
   "cell_type": "code",
   "execution_count": 38,
   "metadata": {},
   "outputs": [
    {
     "data": {
      "image/png": "[encoded data removed]",
      "text/plain": [
       "<Figure size 720x360 with 1 Axes>"
      ]
     },
     "metadata": {},
     "output_type": "display_data"
    }
   ],
   "source": [
    "# Import matplotlib\n",
    "import matplotlib.pyplot as plot\n",
    "%matplotlib inline\n",
    "\n",
    "# Create bins array\n",
    "bins = []\n",
    "for i in range(18):\n",
    "    bin = i * 10000\n",
    "    bins.append(bin)\n",
    "    \n",
    "# Graph style\n",
    "plot.style.use(\"ggplot\")\n",
    "plot.figure(figsize=(10,5))\n",
    "plot.xlim([0,180000])\n",
    "\n",
    "# Create title and lables\n",
    "plot.title(\"City of Chicago Employees: Frequency of Salaries\")\n",
    "plot.xlabel(\"Salary (in Dollars)\")\n",
    "plot.ylabel(\"Frequency\")\n",
    "\n",
    "# Create histogram\n",
    "plot.hist(salary_array, bins, align=\"left\", color=\"lightgreen\", edgecolor=\"black\")\n",
    "plot.show()"
   ]
  },
  {
   "cell_type": "markdown",
   "metadata": {},
   "source": [
    "### Question: How many employees per department in the City of Chicago?"
   ]
  },
  {
   "cell_type": "code",
   "execution_count": 42,
   "metadata": {},
   "outputs": [
    {
     "name": "stdout",
     "output_type": "stream",
     "text": [
      "POLICE            12537\n",
      "FIRE               4801\n",
      "STREETS & SAN      2004\n",
      "AVIATION           1887\n",
      "WATER MGMNT        1826\n",
      "TRANSPORTN         1091\n",
      "PUBLIC LIBRARY     1018\n",
      "DAIS                967\n",
      "OEMC                864\n",
      "HEALTH              554\n",
      "Name: Department, dtype: int64\n"
     ]
    }
   ],
   "source": [
    "# Count the number of entries from each department\n",
    "department_freq = salary_DF[\"Department\"].value_counts()\n",
    "# Print the first 10 entries\n",
    "print(department_freq[:10])"
   ]
  },
  {
   "cell_type": "markdown",
   "metadata": {},
   "source": [
    "**Your Answer:** *Write a complete sentence that addresses the question here. It is okay to refer the reader to the table, since there are many departments in the City of Chicago.*"
   ]
  },
  {
   "cell_type": "markdown",
   "metadata": {},
   "source": [
    "### Modify Data: Create a List of Departments and a List of Their Frequences\n",
    "\n",
    "These two lists will be useful when plotting."
   ]
  },
  {
   "cell_type": "code",
   "execution_count": 43,
   "metadata": {},
   "outputs": [
    {
     "name": "stdout",
     "output_type": "stream",
     "text": [
      "['POLICE', 'FIRE', 'STREETS & SAN', 'AVIATION', 'WATER MGMNT', 'TRANSPORTN', 'PUBLIC LIBRARY', 'DAIS', 'OEMC', 'HEALTH', 'FAMILY & SUPPORT', 'FINANCE', 'CITY COUNCIL', 'LAW', 'PUBLIC SAFETY ADMIN', 'BUILDINGS', 'BUSINESS AFFAIRS', 'HOUSING & ECON DEV', 'COPA', 'BOARD OF ELECTION', \"MAYOR'S OFFICE\", 'INSPECTOR GEN', 'CITY CLERK', 'PROCUREMENT', 'HOUSING', 'HUMAN RESOURCES', 'ANIMAL CONTRL', 'CULTURAL AFFAIRS', 'ADMIN HEARNG', 'BUDGET & MGMT', 'TREASURER', 'DISABILITIES', 'HUMAN RELATIONS', 'BOARD OF ETHICS', 'POLICE BOARD', 'LICENSE APPL COMM']\n",
      "[12537, 4801, 2004, 1887, 1826, 1091, 1018, 967, 864, 554, 552, 478, 359, 331, 294, 232, 167, 152, 122, 109, 99, 93, 81, 78, 73, 69, 62, 59, 35, 33, 27, 21, 15, 8, 2, 1]\n"
     ]
    }
   ],
   "source": [
    "# Create department names list\n",
    "department_names = department_freq.index.tolist()\n",
    "# Create frequency list\n",
    "department_counts = department_freq.tolist()\n",
    "# Print\n",
    "print(department_names)\n",
    "print(department_counts)"
   ]
  },
  {
   "cell_type": "markdown",
   "metadata": {},
   "source": [
    "### Visualization: Pie Chart of Employees by Department\n",
    "\n",
    "Note: This pie chart has too many slices! We will need to fix it:"
   ]
  },
  {
   "cell_type": "code",
   "execution_count": 44,
   "metadata": {
    "scrolled": true
   },
   "outputs": [
    {
     "data": {
      "text/plain": [
       "<function matplotlib.pyplot.show(close=None, block=None)>"
      ]
     },
     "execution_count": 44,
     "metadata": {},
     "output_type": "execute_result"
    },
    {
     "data": {
      "image/png": "[encoded data removed]",
      "text/plain": [
       "<Figure size 432x288 with 1 Axes>"
      ]
     },
     "metadata": {},
     "output_type": "display_data"
    }
   ],
   "source": [
    "# Import matplotlib\n",
    "import matplotlib.pyplot as plot\n",
    "%matplotlib inline\n",
    "\n",
    "# Create labels and data array\n",
    "labels = department_names\n",
    "data = department_counts\n",
    "\n",
    "# Graph pie chart\n",
    "plot.pie(data, labels=labels, autopct=\"%1.1f%%\", shadow=True)\n",
    "plot.title(\"Employees by Department\")\n",
    "#plot.legend(title=\"Legend\", loc=\"lower left\")\n",
    "plot.axis(\"equal\")\n",
    "plot.show"
   ]
  },
  {
   "cell_type": "markdown",
   "metadata": {},
   "source": [
    "### Modify Data: If a Department is Not In the Top 10, Lump as 'Other'"
   ]
  },
  {
   "cell_type": "code",
   "execution_count": 46,
   "metadata": {},
   "outputs": [],
   "source": [
    "# Make new list of largest 10 names, add \"OTHER\"\n",
    "shortened_names = department_names[:10]\n",
    "shortened_names.append(\"OTHER\")\n",
    "# Make new list of largets 10 counts, add sum of remaining\n",
    "\n",
    "# Print two lists\n"
   ]
  },
  {
   "cell_type": "markdown",
   "metadata": {},
   "source": [
    "### Visualization: Pie Chart of Number of Employees by Department (Fixed)"
   ]
  },
  {
   "cell_type": "code",
   "execution_count": null,
   "metadata": {},
   "outputs": [],
   "source": [
    "# Import matplotlib\n",
    "import matplotlib.pyplot as plot\n",
    "%matplotlib inline\n",
    "\n",
    "# Graph details\n",
    "plot.figure(figsize=(10,10))\n",
    "plot.title(\"Number of Employees by Department\")\n",
    "plot.style.use(\"ggplot\")\n",
    "colors_array = [\"lightblue\", \"red\", \"brown\", \"orange\", \"blue\", \"green\", \"yellow\", \"pink\", \"lightgreen\", \"cyan\", \"lightgray\"]\n",
    "\n",
    "# Create pie chart\n",
    "    # plot.pie(data array, labels array, color array, percentages, shadow)\n",
    "plot.pie(shortened_counts, labels=shortened_names, colors=colors_array, autopct=\"%1.1f%%\", shadow=True)\n",
    "#plot.legend(title=\"Legend), loc=\"lower_left\")\n",
    "plot.show()"
   ]
  },
  {
   "cell_type": "markdown",
   "metadata": {},
   "source": [
    "### Question: What is the mean (average) salary in each department in the City of Chicago?"
   ]
  },
  {
   "cell_type": "code",
   "execution_count": null,
   "metadata": {},
   "outputs": [],
   "source": [
    "# Group each department\n"
   ]
  },
  {
   "cell_type": "markdown",
   "metadata": {},
   "source": [
    "**Your Answer:** *Write a complete sentence that addresses the question here.*"
   ]
  },
  {
   "cell_type": "markdown",
   "metadata": {},
   "source": [
    "### Modify Data: Create a List of Departments and a List of Their Average Annual Salaries\n",
    "\n",
    "These two lists will be useful when plotting."
   ]
  },
  {
   "cell_type": "code",
   "execution_count": null,
   "metadata": {},
   "outputs": [],
   "source": [
    "# Array of department names sorted by the average salary\n",
    "\n",
    "# Array of salaries sorted by department\n",
    "\n",
    "# Print\n"
   ]
  },
  {
   "cell_type": "markdown",
   "metadata": {},
   "source": [
    "### Visualization: Bar Chart of Average Annual Salary by Department\n",
    "#### Sorted by Departement Name"
   ]
  },
  {
   "cell_type": "code",
   "execution_count": null,
   "metadata": {},
   "outputs": [],
   "source": [
    "# Import matplotlib\n",
    "import matplotlib.pyplot as plot\n",
    "%matplotlib inline\n",
    "\n",
    "# Graph details\n",
    "plot.style.use(\"ggplot\")\n",
    "plot.figure(figsize=(10,5))\n",
    "plot.title(\"City of Chicago Employees: Average Annual Salary by Department\")\n",
    "plot.xlabel(\"Department\")\n",
    "plot.ylabel(\"Annual Salary\")\n",
    "\n",
    "length = len(dept_names_avg)\n",
    "bar_pos = np.arange(1, length+1)  # numpy array of numbers [1-36]\n",
    "plot.xticks(bar_pos, dept_names_avg, rotation=90)\n",
    "width = 0.9\n",
    "\n",
    "# Bar graph\n",
    "plot.bar(bar_pos, dept_avg, width, color=\"#009999\")\n",
    "plot.show()"
   ]
  },
  {
   "cell_type": "markdown",
   "metadata": {},
   "source": [
    "### Modify Data: Merge Our Two Lists Into a List of Tuples, Then Sort\n",
    "\n",
    "By sorting, we can get a nicer plot."
   ]
  },
  {
   "cell_type": "code",
   "execution_count": null,
   "metadata": {},
   "outputs": [],
   "source": [
    "# List of tuples in the form (names, average salary)\n",
    "\n",
    "# Sort the list in reverse\n",
    "\n",
    "# Print\n"
   ]
  },
  {
   "cell_type": "markdown",
   "metadata": {},
   "source": [
    "### Visualization: Another Bar Chart of Average Annual Salary by Department \n",
    "\n",
    "#### Sorted by Average Annual Salary"
   ]
  },
  {
   "cell_type": "code",
   "execution_count": null,
   "metadata": {},
   "outputs": [],
   "source": [
    "# Import matplotlib and numpy\n",
    "import matplotlib.pyplot as plot\n",
    "%matplotlib inline\n",
    "import numpy as np\n",
    "\n",
    "# Graph details\n",
    "plot.style.use(\"ggplot\")  #fivethirty eight, bmh; grayscale, dark_background, ggplot\n",
    "plot.figure(figsize=(10,5))\n",
    "plot.title('City of Chicago Employees: Average Annual Salary by Department')\n",
    "plot.ylabel('Annual Salary')\n",
    "plot.xlabel('Department')\n",
    "\n",
    "# Create lists of sorted departements and total sums\n",
    "x_data = [tuple[0] for tuple in sorted_average_list]\n",
    "y_data = [tuple[1] for tuple in sorted_average_list]\n",
    "\n",
    "length = len(sorted_average_list)\n",
    "bar_pos = np.arange(1, length+1)  # numpy array of numbers [1-36]\n",
    "plot.xticks(bar_pos, x_data, rotation=90)\n",
    "width = 0.9\n",
    "\n",
    "plot.bar(bar_pos, y_data, width, color=\"gray\")\n",
    "plot.show()\n"
   ]
  },
  {
   "cell_type": "markdown",
   "metadata": {},
   "source": [
    "**Task:** Explain what this code is doing: \n",
    "        \n",
    "        x_data = [tuple[0] for tuple in sorted_average_list]\n",
    "\n",
    "You can use this link as a resource for your explanation: \n",
    "https://www.pythonforbeginners.com/basics/list-comprehensions-in-python\n",
    "\n",
    "**Your Answer:** *Write a complete sentence that addresses the question here.*"
   ]
  },
  {
   "cell_type": "markdown",
   "metadata": {},
   "source": [
    "### Question: What is the total salary expenditure in each department in the City of Chicago?"
   ]
  },
  {
   "cell_type": "code",
   "execution_count": null,
   "metadata": {},
   "outputs": [],
   "source": [
    "# List of each departments total salary spending\n"
   ]
  },
  {
   "cell_type": "markdown",
   "metadata": {},
   "source": [
    "**Your Answer:** *Write a complete sentence that addresses the question here. It is okay to refer the reader to the table, since it might be time consuming to list out every department in the City of Chicago.*"
   ]
  },
  {
   "cell_type": "markdown",
   "metadata": {},
   "source": [
    "### Modify Data: Create a Sorted List of Tuples"
   ]
  },
  {
   "cell_type": "code",
   "execution_count": null,
   "metadata": {},
   "outputs": [],
   "source": [
    "# List of department names\n",
    "\n",
    "# List of department total salary spending\n",
    "\n",
    "# Create list a tuples in form (department name, department total salary spending)\n",
    "    # 'zip' binds two parallel arrays into tuples\n",
    "\n",
    "# Sort the list by total sums, in reverse\n"
   ]
  },
  {
   "cell_type": "markdown",
   "metadata": {},
   "source": [
    "### Visualization: Bar Chart of Total Annual Salary Expenditure by Department \n",
    "\n",
    "#### Sorted by Total Expenditure\n",
    "* y-axis expressed in billions of dollars (1 x 10^9 or 1e9)"
   ]
  },
  {
   "cell_type": "code",
   "execution_count": null,
   "metadata": {},
   "outputs": [],
   "source": [
    "# Import matplotlib and numpy\n",
    "import matplotlib.pyplot as plot\n",
    "%matplotlib inline\n",
    "import numpy as np\n",
    "\n",
    "# Graph details\n",
    "plot.style.use(\"ggplot\")  #fivethirty eight, bmh; grayscale, dark_background, ggplot\n",
    "plot.figure(figsize=(10,5))\n",
    "plot.title('Total Annual Salary Expenditure by Department')\n",
    "plot.ylabel('Total Annual Salary Expenditure')\n",
    "plot.xlabel('Department')\n",
    "\n",
    "# Create lists of sorted departements and total sums\n",
    "x_data = [tuple[0] for tuple in sorted_sum_list]\n",
    "y_data = [tuple[1] for tuple in sorted_sum_list]\n",
    "\n",
    "length = len(sorted_sum_list)\n",
    "bar_pos = np.arange(1, length+1)  # numpy array of numbers [1-36]\n",
    "plot.xticks(bar_pos, x_data, rotation=90)\n",
    "width = 0.9\n",
    "\n",
    "# Bar graph\n",
    "plot.bar(bar_pos, y_data, width, color=\"tan\")\n",
    "\n",
    "plot.show()"
   ]
  },
  {
   "cell_type": "markdown",
   "metadata": {},
   "source": [
    "# Open Data Example #2: School District Revenue and Enrollment\n",
    "\n",
    "*Source for Data Set:* The United States Census Bureau (via data.gov)\n",
    "\n",
    "*URL for Data Set:* https://www.census.gov/data/tables/2019/econ/school-finances/secondary-education-finance.html\n",
    "\n",
    "*Note:* You should get this dataset from Schoology, not the URL. The Schoology file has been cleaned to remove outliers (for example, districts with 0 students or 0 revenue).\n",
    "\n",
    "*Description of Data Set:* This data has school enrollment versus total revenue for every school district in the United States in 2015 (the most recent data available).\n",
    "\n",
    "*File Format for Data Set:* CSV file (Comma Separated Values)\n",
    "\n",
    "*Age of Data Set:* 10/8/2021, accessed 4/5/2022"
   ]
  },
  {
   "cell_type": "markdown",
   "metadata": {},
   "source": [
    "Read in the data:"
   ]
  },
  {
   "cell_type": "code",
   "execution_count": null,
   "metadata": {},
   "outputs": [],
   "source": [
    "# Import pandas\n",
    "\n",
    "# Read the csv file (comma separated values)\n",
    "\n",
    "# Print last three entries\n"
   ]
  },
  {
   "cell_type": "markdown",
   "metadata": {},
   "source": [
    "Now plot:"
   ]
  },
  {
   "cell_type": "code",
   "execution_count": null,
   "metadata": {},
   "outputs": [],
   "source": [
    "# Import matplotlib\n",
    "import matplotlib.pyplot as plot\n",
    "%matplotlib inline\n",
    "\n",
    "#enrollmentDF.plot(kind='scatter', x='Enrollment', y='Total Revenue');\n",
    "\n",
    "# Graph details\n",
    "plot.style.use(\"ggplot\")  #fivethirty eight, bmh; grayscale, dark_background, ggplot\n",
    "plot.figure(figsize=(10,5))\n",
    "plot.title('Enrollment vs Revenue in US School Districts')\n",
    "plot.ylabel('Revenue')\n",
    "plot.xlabel('Enrollment')\n",
    "\n",
    "x_data = enrollment_DF[\"Total Enrollment\"]\n",
    "y_data = enrollment_DF[\"Total Revenue\"]\n",
    "plot.xlim([-20000,250000])\n",
    "plot.ylim([-200000,4000000])\n",
    "\n",
    "# Scatter plot\n",
    "plot.scatter(x_data, y_data, color=\"#A035E8\")\n",
    "\n",
    "\n",
    "plot.show()"
   ]
  },
  {
   "cell_type": "markdown",
   "metadata": {},
   "source": [
    "### Question: What seems to be the relationship between the number of students enrolled in a school district and the revenue of the district?"
   ]
  },
  {
   "cell_type": "markdown",
   "metadata": {
    "collapsed": true
   },
   "source": [
    "### Linear Regression\n",
    "* Modeling the relationship between two variables using a linear equation (straight line)\n",
    "* Equation for a line in slope-intercept form:\n",
    "    * y = mx + b\n",
    "        * m = slope\n",
    "        * b = y-intercept"
   ]
  },
  {
   "cell_type": "code",
   "execution_count": null,
   "metadata": {},
   "outputs": [],
   "source": [
    "# Import matplotlib and numpy\n",
    "import matplotlib.pyplot as plot\n",
    "%matplotlib inline\n",
    "import numpy as np\n",
    "\n",
    "# Graph details\n",
    "plot.title('Enrollment vs Revenue in US School Districts')\n",
    "plot.ylabel('Revenue')\n",
    "plot.xlabel('Enrollment')\n",
    "\n",
    "x_data = enrollment_DF[\"Total Enrollment\"]\n",
    "y_data = enrollment_DF[\"Total Revenue\"]\n",
    "plot.xlim([-20000,250000])\n",
    "plot.ylim([-200000,4000000])\n",
    "\n",
    "# Use np.polyfit to calculate the slope and y-intercept for the 'line of best fit'\n",
    "m, b = np.polyfit(x_data, y_data, 1)\n",
    "\n",
    "# Scatter Plot\n",
    "    # plot.plot(variable, equation, line width, color)\n",
    "plot.plot(x_data, m*x_data + b, linewidth=4, color=\"red\")\n",
    "plot.scatter(x_data, y_data, color=\"#F4F124\")\n",
    "\n",
    "plot.show()"
   ]
  },
  {
   "cell_type": "markdown",
   "metadata": {},
   "source": [
    "**Your Answer:** *Write a complete sentence that addresses the question here. You might refer to what you see in the plot above.*"
   ]
  },
  {
   "cell_type": "markdown",
   "metadata": {},
   "source": [
    "### Question: Explain the meaning of the code in the cell below. Then run it and interpret the resulting output."
   ]
  },
  {
   "cell_type": "code",
   "execution_count": null,
   "metadata": {},
   "outputs": [],
   "source": [
    "x0 = 125000\n",
    "print(m*x0 + b)"
   ]
  },
  {
   "cell_type": "markdown",
   "metadata": {},
   "source": [
    "**Your Answer:** *Write a complete sentence that addresses the question here.*"
   ]
  },
  {
   "cell_type": "code",
   "execution_count": null,
   "metadata": {},
   "outputs": [],
   "source": []
  }
 ],
 "metadata": {
  "kernelspec": {
   "display_name": "Python 3",
   "language": "python",
   "name": "python3"
  },
  "language_info": {
   "codemirror_mode": {
    "name": "ipython",
    "version": 3
   },
   "file_extension": ".py",
   "mimetype": "text/x-python",
   "name": "python",
   "nbconvert_exporter": "python",
   "pygments_lexer": "ipython3",
   "version": "3.7.4"
  }
 },
 "nbformat": 4,
 "nbformat_minor": 1
}
