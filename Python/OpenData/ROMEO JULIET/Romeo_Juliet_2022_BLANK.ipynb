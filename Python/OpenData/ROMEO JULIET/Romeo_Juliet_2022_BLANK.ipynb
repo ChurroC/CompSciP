{
 "cells": [
  {
   "cell_type": "markdown",
   "metadata": {},
   "source": [
    "# <u>Romeo and Juliet</u>: A Quantitative Analysis\n",
    "\n",
    "#### Written by William Shakespeare, text obtained from gutenberg.org"
   ]
  },
  {
   "cell_type": "markdown",
   "metadata": {},
   "source": [
    "### Open the text file\n",
    "\n",
    "1. Open the file\n",
    "2. Store the file contents as a String\n",
    "3. Convert all characters in the String to lower case\n",
    "4. Remove special characters\n",
    "5. Split into a list of individual words"
   ]
  },
  {
   "cell_type": "code",
   "execution_count": 38,
   "metadata": {},
   "outputs": [
    {
     "name": "stdout",
     "output_type": "stream",
     "text": [
      "['pain', 'of', 'torture', 'from', 'those', 'bloody', 'hands', 'throw', 'your', 'mistempered', 'weapons', 'to', 'the', 'ground', 'and', 'hear', 'the', 'sentence', 'of', 'your', 'moved', 'prince', 'three']\n"
     ]
    }
   ],
   "source": [
    "# Open the \"rj.txt\" file and save as a variable\n",
    "play = open('rj.txt')\n",
    "    \n",
    "# Convert play to a String:\n",
    "full_text = play.read()\n",
    "\n",
    "# Make all lowercase:\n",
    "full_text = full_text.lower()\n",
    "\n",
    "# Remove (most) special characters\n",
    "character_list = [\":\", \".\", \",\", \"?\", \"!\", \"#\", \"[\", \"]\"]\n",
    "for char in character_list:\n",
    "    full_text = full_text.replace(char, \"\")\n",
    "    \n",
    "# split into a list of individual words\n",
    "word_list = full_text.split()\n",
    "\n",
    "# print the list of words:\n",
    "print(word_list[1000:1023])"
   ]
  },
  {
   "cell_type": "markdown",
   "metadata": {},
   "source": [
    "#### Question: What is the word count of this file?"
   ]
  },
  {
   "cell_type": "code",
   "execution_count": 10,
   "metadata": {},
   "outputs": [
    {
     "name": "stdout",
     "output_type": "stream",
     "text": [
      "25788\n"
     ]
    }
   ],
   "source": [
    "# Word count\n",
    "print(len(word_list))"
   ]
  },
  {
   "cell_type": "markdown",
   "metadata": {},
   "source": [
    "#### Question: What are the most common words in this play?"
   ]
  },
  {
   "cell_type": "code",
   "execution_count": 11,
   "metadata": {},
   "outputs": [
    {
     "name": "stdout",
     "output_type": "stream",
     "text": [
      "and : 712\n",
      "the : 677\n",
      "i : 572\n",
      "to : 540\n",
      "a : 461\n",
      "of : 401\n",
      "my : 359\n",
      "that : 347\n",
      "is : 342\n",
      "in : 317\n",
      "you : 286\n",
      "thou : 277\n",
      "not : 255\n",
      "me : 255\n",
      "with : 254\n",
      "for : 223\n",
      "this : 223\n",
      "it : 221\n",
      "be : 212\n",
      "but : 183\n"
     ]
    }
   ],
   "source": [
    "# Import the collections library, save the Counter module as a variable\n",
    "import collections\n",
    "count = collections.Counter\n",
    "\n",
    "# Use the Counter module to get a list of words in the play sorted by frequency:\n",
    "word_frequencies = count(word_list)\n",
    "\n",
    "# Print\n",
    "for word, frequency in word_frequencies.most_common(20):\n",
    "    print(word + \" : \" + str(frequency))"
   ]
  },
  {
   "cell_type": "code",
   "execution_count": 12,
   "metadata": {},
   "outputs": [
    {
     "name": "stdout",
     "output_type": "stream",
     "text": [
      "<class 'collections.Counter'>\n"
     ]
    }
   ],
   "source": [
    "# Look at the data type for word_frequencies:\n",
    "\n",
    "print(type(word_frequencies))"
   ]
  },
  {
   "cell_type": "markdown",
   "metadata": {},
   "source": [
    "### Now we have a Counter variable (word_frequencies) to work with"
   ]
  },
  {
   "cell_type": "markdown",
   "metadata": {},
   "source": [
    "#### Use the *most_common* method to only look at the top 20 instead of ALL words"
   ]
  },
  {
   "cell_type": "code",
   "execution_count": 13,
   "metadata": {},
   "outputs": [
    {
     "name": "stdout",
     "output_type": "stream",
     "text": [
      "The Top 20 Words:\n",
      "and : 712\n",
      "the : 677\n",
      "i : 572\n",
      "to : 540\n",
      "a : 461\n",
      "of : 401\n",
      "my : 359\n",
      "that : 347\n",
      "is : 342\n",
      "in : 317\n",
      "you : 286\n",
      "thou : 277\n",
      "not : 255\n",
      "me : 255\n",
      "with : 254\n",
      "for : 223\n",
      "this : 223\n",
      "it : 221\n",
      "be : 212\n",
      "but : 183\n"
     ]
    }
   ],
   "source": [
    "# The most_common method is self-explanatory:\n",
    "print(\"The Top 20 Words:\")\n",
    "for word, frequency in word_frequencies.most_common(20):\n",
    "    print(word + \" : \" + str(frequency))"
   ]
  },
  {
   "cell_type": "markdown",
   "metadata": {},
   "source": [
    "### Many of these words are rather generic\n",
    "* Let's remove some stop words\n",
    "  * Stop words - words that get filtered out before processing:"
   ]
  },
  {
   "cell_type": "code",
   "execution_count": 14,
   "metadata": {},
   "outputs": [
    {
     "name": "stderr",
     "output_type": "stream",
     "text": [
      "[nltk_data] Downloading package stopwords to\n",
      "[nltk_data]     C:\\Users\\chara\\AppData\\Roaming\\nltk_data...\n",
      "[nltk_data]   Package stopwords is already up-to-date!\n"
     ]
    },
    {
     "data": {
      "text/plain": [
       "True"
      ]
     },
     "execution_count": 14,
     "metadata": {},
     "output_type": "execute_result"
    }
   ],
   "source": [
    "# Download commmon stop words:\n",
    "import nltk\n",
    "nltk.download(\"stopwords\")"
   ]
  },
  {
   "cell_type": "code",
   "execution_count": 15,
   "metadata": {},
   "outputs": [
    {
     "name": "stdout",
     "output_type": "stream",
     "text": [
      "['i', 'me', 'my', 'myself', 'we', 'our', 'ours', 'ourselves', 'you', \"you're\", \"you've\", \"you'll\", \"you'd\", 'your', 'yours', 'yourself', 'yourselves', 'he', 'him', 'his', 'himself', 'she', \"she's\", 'her', 'hers', 'herself', 'it', \"it's\", 'its', 'itself', 'they', 'them', 'their', 'theirs', 'themselves', 'what', 'which', 'who', 'whom', 'this', 'that', \"that'll\", 'these', 'those', 'am', 'is', 'are', 'was', 'were', 'be', 'been', 'being', 'have', 'has', 'had', 'having', 'do', 'does', 'did', 'doing', 'a', 'an', 'the', 'and', 'but', 'if', 'or', 'because', 'as', 'until', 'while', 'of', 'at', 'by', 'for', 'with', 'about', 'against', 'between', 'into', 'through', 'during', 'before', 'after', 'above', 'below', 'to', 'from', 'up', 'down', 'in', 'out', 'on', 'off', 'over', 'under', 'again', 'further', 'then', 'once', 'here', 'there', 'when', 'where', 'why', 'how', 'all', 'any', 'both', 'each', 'few', 'more', 'most', 'other', 'some', 'such', 'no', 'nor', 'not', 'only', 'own', 'same', 'so', 'than', 'too', 'very', 's', 't', 'can', 'will', 'just', 'don', \"don't\", 'should', \"should've\", 'now', 'd', 'll', 'm', 'o', 're', 've', 'y', 'ain', 'aren', \"aren't\", 'couldn', \"couldn't\", 'didn', \"didn't\", 'doesn', \"doesn't\", 'hadn', \"hadn't\", 'hasn', \"hasn't\", 'haven', \"haven't\", 'isn', \"isn't\", 'ma', 'mightn', \"mightn't\", 'mustn', \"mustn't\", 'needn', \"needn't\", 'shan', \"shan't\", 'shouldn', \"shouldn't\", 'wasn', \"wasn't\", 'weren', \"weren't\", 'won', \"won't\", 'wouldn', \"wouldn't\", 'rom', 'jul', \"i'll\", 'friar', 'ben', 'nurse', 'mer']\n"
     ]
    }
   ],
   "source": [
    "# Build a list of stop words (words we will filter out)\n",
    "from nltk.corpus import stopwords\n",
    "stopword_list = stopwords.words(\"english\")\n",
    "\n",
    "# Add a few words specific to Romeo and Juliet:\n",
    "stopword_list.extend([\"rom\", \"jul\",\"i'll\",\"friar\",\"ben\",\"nurse\",\"mer\"])\n",
    "\n",
    "# print out the list\n",
    "print(stopword_list)"
   ]
  },
  {
   "cell_type": "code",
   "execution_count": 16,
   "metadata": {},
   "outputs": [
    {
     "name": "stdout",
     "output_type": "stream",
     "text": [
      "[('thou', 277), ('thy', 164), ('thee', 135), ('romeo', 130), ('love', 128), ('shall', 110), ('come', 95), ('good', 82), ('enter', 81), ('go', 75), ('man', 68), ('lady', 67), ('hath', 64), ('death', 63), ('night', 63), ('one', 61), ('well', 59), ('would', 56), ('juliet', 55), ('art', 53)]\n"
     ]
    }
   ],
   "source": [
    "# Remove the stop words\n",
    "for stop in stopword_list:\n",
    "    del word_frequencies[stop]\n",
    "\n",
    "# Re-initialize top20 to a dictionary of the most frequent 20 words:\n",
    "top_twenty = word_frequencies.most_common(20)\n",
    "\n",
    "\n",
    "# Print the result:\n",
    "print(top_twenty)"
   ]
  },
  {
   "cell_type": "markdown",
   "metadata": {},
   "source": [
    "# Data Visualization\n",
    "* Humans struggle with obtaining information from data in tables/lists\n",
    "  * Data visualization: Using graphs/charts to communicate quantitative data\n",
    "  * Good visualizations can help people gather meaningful insights from data\n",
    "  \n",
    "  \n",
    "* For the rest of this notebook, all necessary code is provided\n",
    "  * You are still expected to read the code for understanding\n",
    "  * You may also want to experiment by modifying code or creating your own visualizations\n",
    "  * Your next project requires you to be a young data scientist!\n",
    "  * You will be creating visualizations and telling a story with the data\n",
    "  "
   ]
  },
  {
   "cell_type": "markdown",
   "metadata": {},
   "source": [
    "### Visualization 1: Frequency Plot \n",
    "* Most frequent 20 words (ascending order)\n",
    "* Data structure featured in this plot: **dictionary**  "
   ]
  },
  {
   "cell_type": "code",
   "execution_count": 17,
   "metadata": {},
   "outputs": [
    {
     "data": {
      "image/png": "[encoded data removed]",
      "text/plain": [
       "<Figure size 432x288 with 1 Axes>"
      ]
     },
     "metadata": {},
     "output_type": "display_data"
    }
   ],
   "source": [
    "# Convert top20 (currently a List) to a dictionary\n",
    "top_twenty = dict(top_twenty)\n",
    "\n",
    "# Import matplotlib\n",
    "import matplotlib.pyplot as plot\n",
    "%matplotlib inline\n",
    "\n",
    "# Different styles of graphs (replace the parameter with one of these)\n",
    "    # fivethirtyeight\n",
    "    # grayscale\n",
    "    # dark_background\n",
    "    # ggplot\n",
    "    # bmh\n",
    "plot.style.use(\"ggplot\")\n",
    "\n",
    "# Titles and labels\n",
    "plot.title('Romeo and Juliet: Most Frequent Words')\n",
    "plot.ylabel('Frequency of Words')\n",
    "plot.xlabel('Most Common Words')\n",
    "\n",
    "# For bar graph, find the number of values as a range (Ex: Ours is 0-20)\n",
    "data_range = range(0,len(top_twenty))\n",
    "\n",
    "# From our dictionary, we want a list of the values (frequencies of words)\n",
    "value_list = top_twenty.values()\n",
    "\n",
    "# plot.bar(range of values, values, alignment)\n",
    "plot.bar(data_range, value_list, align=\"center\")\n",
    "\n",
    "# From our dictionary, we want a list of keys (words)\n",
    "word_list_keys = top_twenty.keys()\n",
    "\n",
    "# plot.xticks(range of values, names of values, rotation of labels)\n",
    "plot.xticks(data_range, word_list_keys, rotation=90)\n",
    "\n",
    "# Display graph\n",
    "plot.show()"
   ]
  },
  {
   "cell_type": "markdown",
   "metadata": {},
   "source": [
    "### Visualization 2: Another Frequency Plot \n",
    "* Most frequent 20 words (in descending order)\n",
    "* Data structure featured in plot: **list**\n",
    "  * Note: dictionaries are not meant to be sorted, but we can return a sorted list by using the \"sorted()\" method\n",
    "  * the \"sorted()\" method returns a list"
   ]
  },
  {
   "cell_type": "code",
   "execution_count": 18,
   "metadata": {},
   "outputs": [
    {
     "name": "stdout",
     "output_type": "stream",
     "text": [
      "[('art', 53), ('juliet', 55), ('would', 56), ('well', 59), ('one', 61), ('death', 63), ('night', 63), ('hath', 64), ('lady', 67), ('man', 68), ('go', 75), ('enter', 81), ('good', 82), ('come', 95), ('shall', 110), ('love', 128), ('romeo', 130), ('thee', 135), ('thy', 164), ('thou', 277)]\n"
     ]
    }
   ],
   "source": [
    "# Import operator\n",
    "import operator\n",
    "\n",
    "# Reverse the dictionary\n",
    "top20Sorted = sorted(top_twenty.items(), key=operator.itemgetter(1), reverse=False)\n",
    "print (top20Sorted)"
   ]
  },
  {
   "cell_type": "code",
   "execution_count": 19,
   "metadata": {},
   "outputs": [
    {
     "data": {
      "image/png": "[encoded data removed]",
      "text/plain": [
       "<Figure size 720x360 with 1 Axes>"
      ]
     },
     "metadata": {
      "needs_background": "light"
     },
     "output_type": "display_data"
    }
   ],
   "source": [
    "# Import matplotlib\n",
    "import matplotlib.pyplot as plot\n",
    "%matplotlib inline\n",
    "\n",
    "# Import numpy\n",
    "import numpy as np\n",
    "\n",
    "# Style graph\n",
    "plot.style.use(\"bmh\")  # fivethirtyeight, bmh, grayscale, dark_background, ggplot\n",
    "plot.figure(figsize=(10,5)) # figsize=(length,width)\n",
    "\n",
    "# Title and labels\n",
    "plot.title('Romeo and Juliet (Most Common Words)')\n",
    "plot.ylabel('Frequency of Words')\n",
    "plot.xlabel('Most Common Words')\n",
    "\n",
    "# Grab range of x-values\n",
    "data_range = range(0,len(top_twenty))\n",
    "\n",
    "# Graph details\n",
    "plot.xticks(data_range, word_list_keys, rotation=90)\n",
    "N = len(top20Sorted) # N - number of items\n",
    "x = np.arange(1, N+1) # arange(start,stop)\n",
    "y = [num for (s, num) in top20Sorted] # [\"this\" for \"tuple\" in \"array\"]\n",
    "labels = [s for (s, num) in top20Sorted] \n",
    "width = .9 # Thickness from 0-1 for each bar\n",
    "bar1 = plot.bar(x, y, width, color=\"blue\", edgecolor = 'black')\n",
    "plot.xticks(x, labels )\n",
    "\n",
    "plot.show()"
   ]
  },
  {
   "cell_type": "markdown",
   "metadata": {},
   "source": [
    "### Visualization 3: Yet Another Frequency Plot \n",
    "* Most frequent 20 words (no particular order)\n",
    "* Data structure featured in plot: **pandas dataframe**\n",
    "* Pandas is a library designed to make it easier to work with large datasets\n",
    "  * Pandas offers users 2 new data structures:\n",
    "    * series\n",
    "    * dataframes\n",
    "    "
   ]
  },
  {
   "cell_type": "code",
   "execution_count": 20,
   "metadata": {},
   "outputs": [
    {
     "name": "stdout",
     "output_type": "stream",
     "text": [
      "thou      277\n",
      "thy       164\n",
      "thee      135\n",
      "romeo     130\n",
      "love      128\n",
      "shall     110\n",
      "come       95\n",
      "good       82\n",
      "enter      81\n",
      "go         75\n",
      "man        68\n",
      "lady       67\n",
      "hath       64\n",
      "death      63\n",
      "night      63\n",
      "one        61\n",
      "well       59\n",
      "would      56\n",
      "juliet     55\n",
      "art        53\n",
      "dtype: int64\n"
     ]
    },
    {
     "data": {
      "image/png": "[encoded data removed]",
      "text/plain": [
       "<Figure size 432x288 with 1 Axes>"
      ]
     },
     "metadata": {
      "needs_background": "light"
     },
     "output_type": "display_data"
    }
   ],
   "source": [
    "# Import pandas and matplotlib modules\n",
    "import pandas as pd\n",
    "import matplotlib.pyplot as plot\n",
    "%matplotlib inline\n",
    "plot.figure()\n",
    "\n",
    "# Create a series (alphabetical)\n",
    "pdWords = pd.Series(top_twenty)\n",
    "print(pdWords)\n",
    "\n",
    "# Graph details\n",
    "pdWords.plot(kind=\"bar\")\n",
    "plot.xticks(range(len(top_twenty)), list(pdWords.keys()),rotation=90)\n",
    "plot.title('Romeo and Juliet')\n",
    "plot.ylabel('Frequency of Words')\n",
    "plot.xlabel('Most Common Words')\n",
    "\n",
    "\n",
    "plot.show()"
   ]
  },
  {
   "cell_type": "markdown",
   "metadata": {},
   "source": [
    "### Visualization 4: Word Cloud\n",
    "* Show the most frequent words in a visually-appealing manner\n",
    "  * The bigger the word, the higher the frequency\n",
    "  * Does this visualization allow the viewer to gain meaningful insights into the text?"
   ]
  },
  {
   "cell_type": "code",
   "execution_count": 21,
   "metadata": {},
   "outputs": [
    {
     "ename": "ModuleNotFoundError",
     "evalue": "No module named 'wordcloud'",
     "output_type": "error",
     "traceback": [
      "\u001b[1;31m---------------------------------------------------------------------------\u001b[0m",
      "\u001b[1;31mModuleNotFoundError\u001b[0m                       Traceback (most recent call last)",
      "\u001b[1;32m<ipython-input-21-0b55b2dbc175>\u001b[0m in \u001b[0;36m<module>\u001b[1;34m\u001b[0m\n\u001b[0;32m     10\u001b[0m \u001b[1;32mimport\u001b[0m \u001b[0mrandom\u001b[0m\u001b[1;33m\u001b[0m\u001b[1;33m\u001b[0m\u001b[0m\n\u001b[0;32m     11\u001b[0m \u001b[1;33m\u001b[0m\u001b[0m\n\u001b[1;32m---> 12\u001b[1;33m \u001b[1;32mfrom\u001b[0m \u001b[0mwordcloud\u001b[0m \u001b[1;32mimport\u001b[0m \u001b[0mWordCloud\u001b[0m\u001b[1;33m\u001b[0m\u001b[1;33m\u001b[0m\u001b[0m\n\u001b[0m\u001b[0;32m     13\u001b[0m \u001b[1;33m\u001b[0m\u001b[0m\n\u001b[0;32m     14\u001b[0m \u001b[0md\u001b[0m \u001b[1;33m=\u001b[0m \u001b[0mpath\u001b[0m\u001b[1;33m.\u001b[0m\u001b[0mdirname\u001b[0m\u001b[1;33m(\u001b[0m\u001b[1;34m'__file__'\u001b[0m\u001b[1;33m)\u001b[0m\u001b[1;33m\u001b[0m\u001b[1;33m\u001b[0m\u001b[0m\n",
      "\u001b[1;31mModuleNotFoundError\u001b[0m: No module named 'wordcloud'"
     ]
    }
   ],
   "source": [
    "#!/usr/bin/env python\n",
    "\"\"\"\n",
    "adapted from https://github.com/amueller/word_cloud\n",
    "\"\"\"\n",
    "\n",
    "import numpy as np\n",
    "from PIL import Image\n",
    "from os import path\n",
    "import matplotlib.pyplot as plt\n",
    "import random\n",
    "\n",
    "from wordcloud import WordCloud\n",
    "\n",
    "d = path.dirname('__file__')\n",
    "\n",
    "# load an image (heart.png) over which the words will be overlayed\n",
    "    # note: this is called an \"image mask\"\n",
    "    # more info: https://en.wikipedia.org/wiki/Mask_(computing)#Image_masks\n",
    "mask = np.array(Image.open(path.join(d, \"heart.png\")))\n",
    "\n",
    "# Romeo and Juliet text\n",
    "text = open(\"rj.txt\",encoding = 'utf-8').read()\n",
    "\n",
    "# add any text-file specific stopwords\n",
    "stopwords = set(stopword_list)\n",
    "stopwords.add(\"Project\")\n",
    "stopwords.add(\"Gutenberg\")\n",
    "\n",
    "wc = WordCloud(width=4000, height=2000, max_words=1000, mask=mask, stopwords=stopwords, margin=10,\n",
    "               random_state=1).generate(text)\n",
    "wc.to_file(\"finishedWordCloud.png\")\n",
    "\n",
    "from IPython.display import Image\n",
    "Image(\"finishedWordCloud.png\")"
   ]
  },
  {
   "cell_type": "markdown",
   "metadata": {},
   "source": [
    "### Visualization 5: Pie Chart\n",
    "* Research Question: Is there a gender bias in <u>Romeo and Juliet</u>?\n",
    "* Answer: It may be difficult to give a **definitive** answer to this question. However, we can use data to provide evidence supporting the hypothesis that there may be gender bias in _Romeo and Juliet_. "
   ]
  },
  {
   "cell_type": "markdown",
   "metadata": {},
   "source": [
    "#### Step 1: Identify a list of gendered nouns (and pronouns)\n",
    "* Note: these lists are parallel\n",
    "  * For example, \"she\" is paired with \"he\" and \"woman\" is paired with \"man\"\n",
    "  "
   ]
  },
  {
   "cell_type": "code",
   "execution_count": null,
   "metadata": {},
   "outputs": [],
   "source": [
    "female_list = [\"she\", \"her\", \"woman\", \"girl\", \"female\", \"madam\", \"princess\", \"my lady\", \"queen\", \"juliet\", \"gentlewoman\", \"mother\",\"sister\",\"niece\", \"daughter\"] \n",
    "male_list = [\"he\", \"his\", \"man\", \"boy\", \"male\", \"sir\", \"prince\", \"my lord\", \"king\", \"romeo\", \"gentleman\", \"father\",\"brother\",\"nephew\",\"son\"]"
   ]
  },
  {
   "cell_type": "markdown",
   "metadata": {},
   "source": [
    "#### Step 2: Count the instances of these words in the text\n",
    "* Does the output list imply that \"feminine nouns\" or \"masculine nouns\" appear more frequently in the text?"
   ]
  },
  {
   "cell_type": "code",
   "execution_count": null,
   "metadata": {},
   "outputs": [],
   "source": [
    "# Create variables\n",
    "female_count = 0\n",
    "male_count = 0\n",
    "\n",
    "# Loop to search for female words\n",
    "for word in word_list:\n",
    "    if word in female_list:\n",
    "        female_count += 1\n",
    "\n",
    "# Loop to search for male words\n",
    "for word in word_list:\n",
    "    if word in male_list:\n",
    "        male_count += 1\n",
    "\n",
    "# Create ratio female to male\n",
    "female_to_male = [female_count, male_count]\n",
    "\n",
    "print(female_to_male)"
   ]
  },
  {
   "cell_type": "markdown",
   "metadata": {},
   "source": [
    "#### Step 3: Display the results in a pie chart"
   ]
  },
  {
   "cell_type": "code",
   "execution_count": null,
   "metadata": {
    "scrolled": true
   },
   "outputs": [],
   "source": [
    "# Import matplotlib.pyplot\n",
    "import matplotlib.pyplot as plot\n",
    " \n",
    "# Data to plot\n",
    "labels = 'Feminine nouns', 'Masculine nouns'\n",
    "sizes = female_to_male\n",
    "colors = ['pink', 'lightskyblue']\n",
    " \n",
    "# Plot\n",
    "plot.pie(sizes, labels=labels, colors=colors, autopct='%1.1f%%', shadow=True, startangle=140)\n",
    "plot.title('Gendered (pro)nouns in Romeo and Juliet') \n",
    "plot.axis('equal')\n",
    "plot.show()"
   ]
  },
  {
   "cell_type": "markdown",
   "metadata": {},
   "source": [
    "#### Step 4: Explain any insights \n",
    "* What the data says: There are 6 \"masculine nouns\" in the text for every 4 \"feminine nouns\"\n",
    "* Insight: The data appears to support the hypothesis that there may be gender bias in _Romeo and Juliet_\n",
    "* Limitations:\n",
    "  * It is unclear if \"gendered-noun frequency\" is an adequate quantitative definition of \"gender bias\"\n",
    "  * There is likely to be evidence in the text and historical context that we did not consider\n",
    "  * Further analysis of the text **may** reveal evidence that does not support the hypothesis "
   ]
  },
  {
   "cell_type": "markdown",
   "metadata": {
    "collapsed": true
   },
   "source": [
    "# What does a data scientist do?\n",
    "* Data science: \"an interdisciplinary field of scientific methods, processes, and systems to extract knowledge or insights from data\" (Wikipedia)\n",
    "* A data scientist is not necessarily expected to give a definitive answer to every question posed\n",
    "  * Instead, a data scientist is often telling a story with the data\n",
    "  * A single insight from the data is like a piece of a puzzle:\n",
    "    * The more pieces you have, the more clear the picture becomes\n",
    "    * But even with many pieces, you still don't necessarily have the entire picture\n",
    "    * More information from the Harvard Business Review: \n",
    "      * https://hbr.org/2015/10/the-best-data-scientists-know-how-to-tell-stories"
   ]
  },
  {
   "cell_type": "markdown",
   "metadata": {
    "collapsed": true
   },
   "source": [
    "# Task 1\n",
    "\n",
    "* Use the following code to create a list of tuples (a,b) where each \"a\" is a unique word in _Romeo and Juliet_ and \"b\" is its frequency in the text\n",
    "  * frequency_list = list(word_frequencies.items())\n",
    "* A singleton is a word that only appears in the text once. Write code to creates a list, singleton_list, that contains all singletons in the play.\n",
    "* Print the value of singleton_list"
   ]
  },
  {
   "cell_type": "code",
   "execution_count": 25,
   "metadata": {},
   "outputs": [
    {
     "name": "stdout",
     "output_type": "stream",
     "text": [
      "[('tragedy', 1), ('romeo', 130), ('juliet', 55), ('william', 1), ('shakespeare', 1), ('dramatis', 1), ('personae', 1), ('chorus', 3), ('escalus', 2), ('prince', 34), ('verona', 13), ('paris', 31), ('young', 23), ('count', 5), ('kinsman', 13), ('montague', 29), ('heads', 7), ('two', 24), ('houses', 6), ('variance', 2), ('capulet', 30), ('old', 33), ('man', 68), ('family', 1), ('son', 17), ('tybalt', 52), ('nephew', 4), ('lady', 67), ('mercutio', 21), ('friend', 13), ('benvolio', 16), ('laurence', 12), ('franciscan', 3), ('john', 9), ('balthasar', 7), ('servant', 7), ('abram', 2), ('sampson', 4), ('gregory', 5), ('peter', 16), (\"juliet's\", 7), ('apothecary', 5), ('three', 10), ('musicians', 9), ('officer', 3), ('wife', 47), ('daughter', 14), ('citizens', 6), ('verona;', 2), ('gentlemen', 11)]\n"
     ]
    }
   ],
   "source": [
    "frequency_list = list(word_frequencies.items())\n",
    "print(frequency_list[:50])"
   ]
  },
  {
   "cell_type": "markdown",
   "metadata": {
    "collapsed": true
   },
   "source": [
    "# Task 2\n",
    "\n",
    "* Write a line of code that determines how many singletons are in the play"
   ]
  },
  {
   "cell_type": "code",
   "execution_count": 30,
   "metadata": {},
   "outputs": [
    {
     "name": "stdout",
     "output_type": "stream",
     "text": [
      "2474\n"
     ]
    }
   ],
   "source": [
    "singleton_list=[]\n",
    "for i in frequency_list:\n",
    "    if i[1] == 1:\n",
    "        singleton_list.append(i[0])\n",
    "        \n",
    "print(len(singleton_list))"
   ]
  },
  {
   "cell_type": "markdown",
   "metadata": {},
   "source": [
    "# Task 3\n",
    "\n",
    "* Use the following code to sort the strings in singleton_list from longest to shortest\n",
    "  * print(sorted(singleton_list, key=len, reverse=True))\n",
    "* Find two or three words that look unfamiliar, interesting, and school-appropriate. Write each word and its definition below. \n",
    "* Tell your English teacher how taking AP Computer Science helped you learn about Shakespeare!"
   ]
  },
  {
   "cell_type": "code",
   "execution_count": 37,
   "metadata": {},
   "outputs": [
    {
     "name": "stdout",
     "output_type": "stream",
     "text": [
      "[\"serving-creature's\", 'neighbour-stained', 'flattering-sweet', 'wolvish-ravening', \"long-experienc'd\", 'serving-creature', 'five-and-twenty', 'precious-juiced', \"distemp'rature;\", 'pricksong-keeps', 'fashion-mongers', \"nimble-pinion'd\", 'love-performing', 'scene--verona;', 'saint-seducing', 'earth-treading', 'white-upturned', 'loving-jealous', 'love-devouring', \"dove-feather'd\", 'maiden-widowed', 'unthankfulness', \"counterfeit'st\", 'tempest-tossed', 'green-sickness', \"misadventur'd\", 'interchanging', 'transgression', 'candle-holder', 'sir-reverence', 'grasshoppers;', 'court-cubbert', \"well-govern'd\", 'disparagement', 'tassel-gentle', 'fantasticoes-', \"well-flower'd\", 'gentlemanlike', 'deliciousness', 'dishonourable', 'death-darting', 'two-and-forty', 'uncomfortable', 'soon-speeding', 'unsubstantial', 'world-wearied', \"star-cross'd\", \"death-mark'd\", 'all-cheering', 'well-seeming']\n"
     ]
    }
   ],
   "source": [
    "print(sorted(singleton_list, key=len, reverse=True)[:50])"
   ]
  },
  {
   "cell_type": "markdown",
   "metadata": {},
   "source": [
    "Mistempered -- tempered for a bad purpose\\\n",
    "Lackluster -- lacking in vitality, force, or conviction; uninspired or uninspiring\\\n",
    "Dispunge -- to erase"
   ]
  },
  {
   "cell_type": "code",
   "execution_count": null,
   "metadata": {},
   "outputs": [],
   "source": []
  }
 ],
 "metadata": {
  "kernelspec": {
   "display_name": "Python 3",
   "language": "python",
   "name": "python3"
  },
  "language_info": {
   "codemirror_mode": {
    "name": "ipython",
    "version": 3
   },
   "file_extension": ".py",
   "mimetype": "text/x-python",
   "name": "python",
   "nbconvert_exporter": "python",
   "pygments_lexer": "ipython3",
   "version": "3.8.0"
  }
 },
 "nbformat": 4,
 "nbformat_minor": 1
}
