{
 "cells": [
  {
   "cell_type": "markdown",
   "metadata": {},
   "source": [
    "# <u>Web Scraping</u>\n",
    "\n",
    "## <u>Part \\#4: Getting XML from RSS Feeds</u>\n",
    "\n",
    "### <u>What is an RSS feed?</u>\n",
    "\n",
    "RSS stands for \"Really Simple Syndication.\" It's just a page of data conforming to the XML format that is updated frequently and can be processed in an automated way."
   ]
  },
  {
   "cell_type": "markdown",
   "metadata": {},
   "source": [
    "### <u>Exploring Some RSS Feeds</u>\n",
    "\n",
    "Many organizations have RSS feeds. Some links are provided below that will allow you to find some of these feeds. Spend a few minutes exploring some prominent examples using Google Chrome. \n",
    "\n",
    "*Note: If the RSS feed you are looking at is a collection of HTML-style tags, you are in the right place. If not, right-click and select \"View page source.\"* \n",
    "\n",
    "Okay, time to explore:\n",
    "\n",
    "* Local News:\n",
    "  * __Chicago Tribune__: https://www.chicagotribune.com/about/ct-chicago-tribune-rss-feeds-htmlstory.html\n",
    "  * __The Chicago Sun Times__: https://blog.feedspot.com/chicago_sun_times_rss_feeds/\n",
    "  * __Block Club Chicago__: https://blockclubchicago.org/feed\n",
    "\n",
    "\n",
    "* National/International News: \n",
    "  * __Reuters__: https://www.reutersagency.com/en/reutersbest/reuters-best-rss-feeds/\n",
    "  * __USA Today__: http://rssfeeds.usatoday.com/usatoday-NewsTopStories\n",
    "  * __The New York Times__: https://www.nytimes.com/rss\n",
    "  * __BBC News__: http://www.bbc.com/news/10628494____\n",
    "\n",
    "\n",
    "* Technology News: \n",
    "  * __Wired.com__: https://www.wired.com/about/rss-feeds/\n",
    "  * __Ars Technica__: https://arstechnica.com/rss-feeds/\n",
    "  * __CNET__: https://www.cnet.com/rss/\n",
    "  \n",
    "  \n",
    "* Miscellaneous (Sports, Government, Science):  \n",
    "  * __ESPN__: http://www.espn.com/espn/news/story?page=rssinfo\n",
    "  * __City of Chicago__: https://www.chicago.gov/city/en/rss.html\n",
    "  * __US Congress__: https://www.congress.gov/rss\n",
    "  * __NASA__: https://www.nasa.gov/content/nasa-rss-feeds\n"
   ]
  },
  {
   "cell_type": "markdown",
   "metadata": {},
   "source": [
    "**<u>Task \\#1:<u>** After you explore a few of the feeds above, try to find an RSS feed for another website you are interested in. This may be a news website for a certain type of news you like to follow (video games, style/fashion, politics, etc). Then fill in the information below for the feed (or feeds) you found:\n",
    "\n",
    "Organization(s): Reddit Meme Subreddit\n",
    "\n",
    "URL(s): https://www.reddit.com/r/meme.rss\n",
    "\n",
    "Description(s): Memes"
   ]
  },
  {
   "cell_type": "markdown",
   "metadata": {},
   "source": [
    "#### <u>An RSS Feed from the Wall Street Journal</u>\n",
    "\n",
    "The beauty of an RSS feed is that its content is updated regularly, but the structure of its tags always stays the same. This allows you to extract up-to-date data in an automated fashion. \n",
    "\n",
    "For example, here are the top stories from the \"global news\" section of _The Wall Street Journal_ from their RSS feed: https://feeds.a.dj.com/rss/RSSWSJD.xml\n",
    "\n",
    "After looking at this link in Chrome, explore it using Beautiful Soup:"
   ]
  },
  {
   "cell_type": "code",
   "execution_count": 2,
   "metadata": {},
   "outputs": [
    {
     "name": "stdout",
     "output_type": "stream",
     "text": [
      "<?xml version=\"1.0\" encoding=\"utf-8\"?>\n",
      "<rss version=\"2.0\" xmlns:atom=\"http://www.w3.org/2005/Atom\" xmlns:content=\"http://purl.org/rss/1.0/modules/content/\" xmlns:dj=\"http://dowjones.net/rss/\" xmlns:wsj=\"http://dowjones.net/rss/\">\n",
      " <channel>\n",
      "  <title>\n",
      "   WSJ.com: WSJD\n",
      "  </title>\n",
      "  <link>\n",
      "   http://online.wsj.com\n",
      "  </link>\n",
      "  <atom:link href=\"http://online.wsj.com\" rel=\"self\" type=\"application/rss+xml\"/>\n",
      "  <description>\n",
      "   WSJD - Technology\n",
      "  </description>\n",
      "  <language>\n",
      "   en-us\n",
      "  </language>\n",
      "  <pubDate>\n",
      "   Mon, 23 May 2022 21:23:12 -0400\n",
      "  </pubDate>\n",
      "  <lastBuildDate>\n",
      "   Mon, 23 May 2022 21:23:12 -0400\n",
      "  </lastBuildDate>\n",
      "  <copyright>\n",
      "   Dow Jones &amp; Company, Inc.\n",
      "  </copyright>\n",
      "  <generator>\n",
      "   http://online.wsj.com\n",
      "  </generator>\n",
      "  <docs>\n",
      "   http://cyber.law.harvard.edu/rss/rss.html\n",
      "  </docs>\n",
      "  <image>\n",
      "   <title>\n",
      "    WSJ.com: WSJD\n",
      "   </title>\n",
      "   <link>\n",
      "    http://online.wsj.com\n",
      "   </link>\n",
      "   <url>\n",
      "    http://online.wsj.com/img/wsj_sm_logo.gif\n",
      "   </url>\n",
      "  </image>\n",
      "  <item>\n",
      "   <title>\n"
     ]
    }
   ],
   "source": [
    "from bs4 import BeautifulSoup       # Import BeautifulSoup\n",
    "from urllib.request import urlopen  # Import urlopen\n",
    "\n",
    "xml_page = urlopen(\"https://feeds.a.dj.com/rss/RSSWSJD.xml\")   # Opens whatever page we are requesting\n",
    "bs_obj = BeautifulSoup(xml_page, 'xml')  # Extract xml data\n",
    "\n",
    "print(bs_obj.prettify()[:1000])  # Makes it more easily readible or 'pretty'"
   ]
  },
  {
   "cell_type": "markdown",
   "metadata": {},
   "source": [
    "Now you can get a list of all headlines:"
   ]
  },
  {
   "cell_type": "code",
   "execution_count": 3,
   "metadata": {},
   "outputs": [
    {
     "name": "stdout",
     "output_type": "stream",
     "text": [
      "[<title>WSJ.com: WSJD</title>, <title>WSJ.com: WSJD</title>, <title>GameStop Launches Digital Wallet for NFTs, Cryptocurrencies</title>, <title>Broadcom in Advanced Talks to Buy VMware</title>, <title>Apple Looks to Boost Production Outside China</title>, <title>Zoom Sales Growth Slows as Pandemic Boom Wanes</title>, <title>Buffalo Shooting Tests Internet Antiterrorism Accord</title>, <title>Didi Says It Will Proceed With Delisting From NYSE</title>, <title>Tinder Owner Match Group, Google Reach Deal on App Store Payment Rules</title>, <title>Hello? Hello? Is This Facebook?\n",
      "\t\t\n",
      "\t\t\t \n",
      "\t\t\n",
      "\tAnybody There? (Nope.)</title>, <title>Snap Issues Profit Warning on Economic Conditions Including Inflation</title>, <title>Biden Visits Samsung to Shore Up Tech Allies in Countering China</title>, <title>Conan O'Brien's Podcast Company Sells to SiriusXM in Deal Valued Around $150 Million</title>, <title>Musk's Planned Twitter Takeover Creates a 'Chaos Tax' for Employees</title>, <title>Bill Would Force Breakup of Google's Ad Business</title>, <title>Twitter Moves to Limit Spread of Misinformation in Crises</title>, <title>The Biggest Problem With Flying Cars Is on the Ground</title>]\n"
     ]
    }
   ],
   "source": [
    "headlines = bs_obj.find_all('title') # Extracts and creates a list of all the <title> tags\n",
    "\n",
    "print(headlines)"
   ]
  },
  {
   "cell_type": "markdown",
   "metadata": {},
   "source": [
    "If you want to strip out the `<title>` tags, use the *.getText()* method:"
   ]
  },
  {
   "cell_type": "code",
   "execution_count": 4,
   "metadata": {},
   "outputs": [
    {
     "name": "stdout",
     "output_type": "stream",
     "text": [
      "['WSJ.com: WSJD', 'WSJ.com: WSJD', 'GameStop Launches Digital Wallet for NFTs, Cryptocurrencies', 'Broadcom in Advanced Talks to Buy VMware', 'Apple Looks to Boost Production Outside China', 'Zoom Sales Growth Slows as Pandemic Boom Wanes', 'Buffalo Shooting Tests Internet Antiterrorism Accord', 'Didi Says It Will Proceed With Delisting From NYSE', 'Tinder Owner Match Group, Google Reach Deal on App Store Payment Rules', 'Hello? Hello? Is This Facebook?\\n\\t\\t\\n\\t\\t\\t \\n\\t\\t\\n\\tAnybody There? (Nope.)', 'Snap Issues Profit Warning on Economic Conditions Including Inflation', 'Biden Visits Samsung to Shore Up Tech Allies in Countering China', \"Conan O'Brien's Podcast Company Sells to SiriusXM in Deal Valued Around $150 Million\", \"Musk's Planned Twitter Takeover Creates a 'Chaos Tax' for Employees\", \"Bill Would Force Breakup of Google's Ad Business\", 'Twitter Moves to Limit Spread of Misinformation in Crises', 'The Biggest Problem With Flying Cars Is on the Ground']\n"
     ]
    }
   ],
   "source": [
    "headlines = [story.getText() for story in headlines] # Creates a list of innerHTML for each <title> tag in headlines list\n",
    "\n",
    "print(headlines)"
   ]
  },
  {
   "cell_type": "markdown",
   "metadata": {},
   "source": [
    "In this feed, the first two titles appear to be for the news website rather than for news stories themselves. This is an easy fix:"
   ]
  },
  {
   "cell_type": "code",
   "execution_count": 5,
   "metadata": {},
   "outputs": [
    {
     "name": "stdout",
     "output_type": "stream",
     "text": [
      "['GameStop Launches Digital Wallet for NFTs, Cryptocurrencies', 'Broadcom in Advanced Talks to Buy VMware', 'Apple Looks to Boost Production Outside China', 'Zoom Sales Growth Slows as Pandemic Boom Wanes', 'Buffalo Shooting Tests Internet Antiterrorism Accord', 'Didi Says It Will Proceed With Delisting From NYSE', 'Tinder Owner Match Group, Google Reach Deal on App Store Payment Rules', 'Hello? Hello? Is This Facebook?\\n\\t\\t\\n\\t\\t\\t \\n\\t\\t\\n\\tAnybody There? (Nope.)', 'Snap Issues Profit Warning on Economic Conditions Including Inflation', 'Biden Visits Samsung to Shore Up Tech Allies in Countering China', \"Conan O'Brien's Podcast Company Sells to SiriusXM in Deal Valued Around $150 Million\", \"Musk's Planned Twitter Takeover Creates a 'Chaos Tax' for Employees\", \"Bill Would Force Breakup of Google's Ad Business\", 'Twitter Moves to Limit Spread of Misinformation in Crises', 'The Biggest Problem With Flying Cars Is on the Ground']\n"
     ]
    }
   ],
   "source": [
    "headlines = headlines[2:]\n",
    "\n",
    "print(headlines)"
   ]
  },
  {
   "cell_type": "markdown",
   "metadata": {},
   "source": [
    "Let's do the same thing with links to these stories by creating a list of all links"
   ]
  },
  {
   "cell_type": "code",
   "execution_count": 6,
   "metadata": {},
   "outputs": [
    {
     "name": "stdout",
     "output_type": "stream",
     "text": [
      "['http://online.wsj.com', '', 'http://online.wsj.com', 'https://www.wsj.com/articles/gamestop-launches-digital-wallet-for-nfts-cryptocurrencies-11653313751?mod=rss_Technology', 'https://www.wsj.com/articles/broadcom-in-advanced-talks-to-buy-vmware-11653267920?mod=rss_Technology', 'https://www.wsj.com/articles/apple-looks-to-boost-production-outside-china-11653142077?mod=rss_Technology', 'https://www.wsj.com/articles/zoom-sales-growth-slows-as-pandemic-boom-wanes-11653341237?mod=rss_Technology', 'https://www.wsj.com/articles/buffalo-shooting-tests-internet-antiterrorism-accord-11653231600?mod=rss_Technology', 'https://www.wsj.com/articles/didi-says-it-will-proceed-with-delisting-from-nyse-11653310564?mod=rss_Technology', 'https://www.wsj.com/articles/match-group-google-reach-deal-on-app-store-payment-rules-11653049794?mod=rss_Technology', 'https://www.wsj.com/articles/hello-hello-is-this-facebook-anybody-there-nope-11653316237?mod=rss_Technology', 'https://www.wsj.com/articles/snap-issues-profit-warning-on-deteriorating-macroeconomic-environment-11653341398?mod=rss_Technology', 'https://www.wsj.com/articles/biden-visits-samsung-in-south-korea-to-shore-up-tech-allies-in-countering-china-11653047414?mod=rss_Technology', 'https://www.wsj.com/articles/conan-obriens-podcast-company-sells-to-siriusxm-in-deal-valued-around-150-million-11653306900?mod=rss_Technology', 'https://www.wsj.com/articles/elon-musks-planned-twitter-takeover-creates-a-chaos-tax-for-employees-11653095220?mod=rss_Technology', 'https://www.wsj.com/articles/gop-led-legislation-would-force-breakup-of-googles-ad-business-11652969185?mod=rss_Technology', 'https://www.wsj.com/articles/twitter-moves-to-limit-spread-of-misinformation-in-crises-11652978514?mod=rss_Technology', 'https://www.wsj.com/articles/the-biggest-problem-with-flying-cars-is-on-the-ground-11652500850?mod=rss_Technology']\n"
     ]
    }
   ],
   "source": [
    "urls = bs_obj.find_all('link')            # Extracts and creates a list of all the <link> tags\n",
    "urls = [link.getText() for link in urls]  # Creates a list of innerHTML for each <link> tag in the urls list\n",
    "print(urls)"
   ]
  },
  {
   "cell_type": "markdown",
   "metadata": {},
   "source": [
    "This time, it looks like the third link is where we want to start (The second entry is an empty String!)"
   ]
  },
  {
   "cell_type": "code",
   "execution_count": 7,
   "metadata": {},
   "outputs": [
    {
     "name": "stdout",
     "output_type": "stream",
     "text": [
      "['https://www.wsj.com/articles/gamestop-launches-digital-wallet-for-nfts-cryptocurrencies-11653313751?mod=rss_Technology', 'https://www.wsj.com/articles/broadcom-in-advanced-talks-to-buy-vmware-11653267920?mod=rss_Technology', 'https://www.wsj.com/articles/apple-looks-to-boost-production-outside-china-11653142077?mod=rss_Technology', 'https://www.wsj.com/articles/zoom-sales-growth-slows-as-pandemic-boom-wanes-11653341237?mod=rss_Technology', 'https://www.wsj.com/articles/buffalo-shooting-tests-internet-antiterrorism-accord-11653231600?mod=rss_Technology', 'https://www.wsj.com/articles/didi-says-it-will-proceed-with-delisting-from-nyse-11653310564?mod=rss_Technology', 'https://www.wsj.com/articles/match-group-google-reach-deal-on-app-store-payment-rules-11653049794?mod=rss_Technology', 'https://www.wsj.com/articles/hello-hello-is-this-facebook-anybody-there-nope-11653316237?mod=rss_Technology', 'https://www.wsj.com/articles/snap-issues-profit-warning-on-deteriorating-macroeconomic-environment-11653341398?mod=rss_Technology', 'https://www.wsj.com/articles/biden-visits-samsung-in-south-korea-to-shore-up-tech-allies-in-countering-china-11653047414?mod=rss_Technology', 'https://www.wsj.com/articles/conan-obriens-podcast-company-sells-to-siriusxm-in-deal-valued-around-150-million-11653306900?mod=rss_Technology', 'https://www.wsj.com/articles/elon-musks-planned-twitter-takeover-creates-a-chaos-tax-for-employees-11653095220?mod=rss_Technology', 'https://www.wsj.com/articles/gop-led-legislation-would-force-breakup-of-googles-ad-business-11652969185?mod=rss_Technology', 'https://www.wsj.com/articles/twitter-moves-to-limit-spread-of-misinformation-in-crises-11652978514?mod=rss_Technology', 'https://www.wsj.com/articles/the-biggest-problem-with-flying-cars-is-on-the-ground-11652500850?mod=rss_Technology']\n"
     ]
    }
   ],
   "source": [
    "urls = urls[3:]\n",
    "\n",
    "print(urls)"
   ]
  },
  {
   "cell_type": "markdown",
   "metadata": {},
   "source": [
    "**<u>Task \\#2:</u>** Write a function, *random_headline(headline_list, link_list)*, that accepts a list of headlines and a list of links as input and returns an output string in the format \"HEADLINE, read more at LINK.\"\n",
    "\n",
    "*Note: Be sure to test out your function to make sure it works as expected. Show the results of your tests below.  Also, not all headlines may have a link, and your two arrays may not be 'parallel'.  Try re-running the cells for the most up-to-date listings!*"
   ]
  },
  {
   "cell_type": "markdown",
   "metadata": {},
   "source": [
    "#### <u>HINT:</u>\n",
    "* Import random to create random #'s\n",
    "* Create a function named random_headline(headline_list, link_list)\n",
    "    * Generate a random number between 0 and one less than the length of headline_list\n",
    "    * Create a variable to hold the value of headline_list at the index of the randomly generated number\n",
    "    * Create a variable to hold the value of link_list at the index of the randomly generated number\n",
    "    * Create an output string in the format \"HEADLINE, read more at LINK\" replacing HEADLINE and LINK with your variables\n",
    "    * Return the output string"
   ]
  },
  {
   "cell_type": "code",
   "execution_count": null,
   "metadata": {},
   "outputs": [],
   "source": [
    "# Your code here\n"
   ]
  },
  {
   "cell_type": "markdown",
   "metadata": {},
   "source": [
    "### <u>Processing Other RSS Feeds</u>\n",
    "\n",
    "You already perused a few RSS feeds. This time, pick one of those feeds (or a new one) and explore it by writing code. As a reminder, here are the feeds listed above: \n",
    "\n",
    "* Local News:\n",
    "  * __Chicago Tribune__: https://www.chicagotribune.com/about/ct-chicago-tribune-rss-feeds-htmlstory.html\n",
    "  * __The Chicago Sun Times__: https://blog.feedspot.com/chicago_sun_times_rss_feeds/\n",
    "  * __Block Club Chicago__: https://blockclubchicago.org/feed\n",
    "\n",
    "\n",
    "* National/International News: \n",
    "  * __Reuters__: https://www.reutersagency.com/en/reutersbest/reuters-best-rss-feeds/\n",
    "  * __USA Today__: http://rssfeeds.usatoday.com/usatoday-NewsTopStories\n",
    "  * __The New York Times__: https://www.nytimes.com/rss\n",
    "  * __BBC News__: http://www.bbc.com/news/10628494\n",
    "\n",
    "\n",
    "* Technology News: \n",
    "  * __Wired.com__: https://www.wired.com/about/rss-feeds/\n",
    "  * __Ars Technica__: https://arstechnica.com/rss-feeds/\n",
    "  * __CNET__: https://www.cnet.com/rss/\n",
    "  \n",
    "  \n",
    "* Miscellaneous (Sports, Government, Science):  \n",
    "  * __ESPN__: http://www.espn.com/espn/news/story?page=rssinfo\n",
    "  * __City of Chicago__: https://www.chicago.gov/city/en/rss.html\n",
    "  * __US Congress__: https://www.congress.gov/rss\n",
    "  * __NASA__: https://www.nasa.gov/content/nasa-rss-feeds"
   ]
  },
  {
   "cell_type": "markdown",
   "metadata": {},
   "source": [
    "**<u>Task \\#3:</u>** Pick one or more of the feeds above (or find your own). Experiment using Python code, and show the results of your experimentation below. \n",
    "\n",
    "**<u>Note:</u>** This question is fairly open-ended, but at a minimum you must do the following: \n",
    "\n",
    "* Create a \"random headline\"-style function like you did above. You should not expect code such as *headlines = headlines[2:]* or *urls = urls[3:]* to fit perfectly with your data since these were modifications that may be specific to the way *The Wall Street Journal*'s RSS feed is organized.\n",
    "\n",
    "* You must show that you engaged with the feed(s) you picked using the Beautiful Soup module and at least one Python data structure (probably lists). You will need to analyze the XML for the feed you pick and write your code to fit with the data. "
   ]
  },
  {
   "cell_type": "code",
   "execution_count": null,
   "metadata": {},
   "outputs": [],
   "source": [
    "# Your code here\n"
   ]
  }
 ],
 "metadata": {
  "anaconda-cloud": {},
  "kernelspec": {
   "display_name": "Python 3",
   "language": "python",
   "name": "python3"
  },
  "language_info": {
   "codemirror_mode": {
    "name": "ipython",
    "version": 3
   },
   "file_extension": ".py",
   "mimetype": "text/x-python",
   "name": "python",
   "nbconvert_exporter": "python",
   "pygments_lexer": "ipython3",
   "version": "3.8.0"
  }
 },
 "nbformat": 4,
 "nbformat_minor": 1
}
